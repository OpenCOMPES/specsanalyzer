{
 "cells": [
  {
   "cell_type": "markdown",
   "id": "864500e2",
   "metadata": {},
   "source": [
    "TEST LOADER FOR PHOIBOS 150 DATA\n",
    "\n",
    "Typical structure \n",
    "/2020/01 January/Day 10/Raw Data/8874\n",
    "\n",
    "Withing the folder of the scan number there is an info.txt and a scan\n",
    "In THE AVG FOLDER there is a set of images, averaged over every acquisition cycle\n",
    "IN THE RAW FOLDER there are single acquisition cycles (difference: in EPFL we added the \"save every n cycle function\"\n",
    "this RAW folder also contains a \"LUT.txt\" file"
   ]
  },
  {
   "cell_type": "code",
   "execution_count": null,
   "id": "45fafb84",
   "metadata": {},
   "outputs": [],
   "source": [
    "# modify this for intersystem compatibility\n",
    "import os\n",
    "\n",
    "#get current directory\n",
    "workingdir=os.getcwd()\n",
    "#print(workingdir)\n",
    "#navigate to example data\n",
    "exampledatapath=os.path.realpath(os.path.join(workingdir, '..','tests\\data\\dataEPFL\\\\2020\\\\02 February\\Day 17\\Raw Data\\9159'))\n",
    "filelist=os.listdir(exampledatapath)\n",
    "print(\"example data path= \",exampledatapath)\n",
    "#this folders contains the AVG folder with the data, an info.txt vector and a scan vector\n",
    "#filelist\n",
    "\n",
    "#navigate to the image folder, for EPFL in the \\AVG subfolder of the data (note that single scan cycles for partial load are in another subfolder - to be checked with Laurenz)\n",
    "avgimagepath=os.path.realpath(os.path.join(workingdir, '..','tests\\data\\dataEPFL\\\\2020\\\\02 February\\Day 17\\Raw Data\\9159\\AVG'))\n",
    "print(\"AVG images path= \",avgimagepath)\n",
    "rawimagelist=os.listdir(avgimagepath)\n",
    "#alternatively join the paths\n",
    "#avgimagepath=os.path.join(exampledatapath,'AVG') \n"
   ]
  },
  {
   "cell_type": "code",
   "execution_count": null,
   "id": "6c91b572",
   "metadata": {},
   "outputs": [],
   "source": [
    "import numpy as np\n",
    "import matplotlib.pyplot as plt\n",
    "raw_image_name=os.path.join(avgimagepath,rawimagelist[0]) \n",
    "raw_data = np.loadtxt(raw_image_name, delimiter=\"\\t\")\n",
    "\n",
    "h = plt.contourf(raw_data)\n",
    "plt.colorbar()\n",
    "print(\"The shape of the raw data is: \",raw_data.shape)\n",
    "#plt.xlim(120,150)\n",
    "#plt.ylim(150,200)\n",
    "\n",
    "\n",
    "print(256*2,344*2)\n",
    "print(256*4,344*4)"
   ]
  },
  {
   "cell_type": "markdown",
   "id": "3af24f0e",
   "metadata": {},
   "source": [
    "one of the first operations should be to filter the image to remove the grid via FFT filtering"
   ]
  },
  {
   "cell_type": "code",
   "execution_count": null,
   "id": "61888c46",
   "metadata": {},
   "outputs": [],
   "source": [
    "#load the module and import functions for reading the parameter table from the calib2d file\n",
    "from importlib import reload\n",
    "import specsanalyzer.convert\n",
    "reload(specsanalyzer.convert)    \n",
    "from specsanalyzer.convert import get_damatrix_fromcalib2d\n",
    "from specsanalyzer.convert import get_scanparameters\n",
    "\n",
    "\n"
   ]
  },
  {
   "cell_type": "code",
   "execution_count": null,
   "id": "89ea0716",
   "metadata": {},
   "outputs": [],
   "source": [
    "#GET THE CALIBRATION FILE NAME FROM THE EXAMPLE FOLDER\n",
    "calib2dfilename=os.path.realpath(os.path.join(workingdir, '..','tests\\data\\dataEPFL\\phoibosEPFL.calib2d'))\n",
    "#GET THE INFO FILE NAME FROM THE EXAMPLE FOLDER, SCAN 9159\n",
    "#navigate to example data\n",
    "exampledatapath=os.path.realpath(os.path.join(workingdir, '..','tests\\data\\dataEPFL\\\\2020\\\\02 February\\Day 17\\Raw Data\\9159'))\n",
    "filelist=os.listdir(exampledatapath)\n",
    "str_match = list(filter(lambda x: 'info.txt' in x, filelist))\n",
    "infofilename=os.path.join(exampledatapath,str_match[0]) \n",
    "\n",
    "damatrix=get_damatrix_fromcalib2d(infofilename,calib2dfilename)\n",
    "scanparameters=get_scanparameters(infofilename,calib2dfilename)\n",
    "# now the calibration matrix contains the ainner in line1 , and the three \n",
    "# Da parameters, depending on the mode, some Das might be zero"
   ]
  },
  {
   "cell_type": "code",
   "execution_count": null,
   "id": "190ab168",
   "metadata": {},
   "outputs": [],
   "source": [
    "scanparameters"
   ]
  },
  {
   "cell_type": "code",
   "execution_count": null,
   "id": "75093601",
   "metadata": {},
   "outputs": [],
   "source": [
    "reload(specsanalyzer.convert)    \n",
    "from specsanalyzer.convert import calculate_polynomial_coef_da\n",
    "\n",
    "#we now have to convert the polynomial coeffiecients from the Da matrix\n",
    "dapolymatrix=calculate_polynomial_coef_da(scanparameters)\n",
    "scanparameters"
   ]
  },
  {
   "cell_type": "code",
   "execution_count": null,
   "id": "a433a9f0",
   "metadata": {},
   "outputs": [],
   "source": [
    "reload(specsanalyzer.convert)\n",
    "from specsanalyzer.convert import mcp_position_mm"
   ]
  },
  {
   "cell_type": "code",
   "execution_count": null,
   "id": "e7a6ce09",
   "metadata": {},
   "outputs": [],
   "source": [
    "# For the example scan we have the following settings:\n",
    "ek=float(scanparameters[\"KineticEnergy\"])\n",
    "ep=float(scanparameters[\"PassEnergy\"])\n",
    "erange=scanparameters[\"eRange\"]\n",
    "arange=scanparameters[\"aRange\"]\n",
    "angles=np.linspace(-20,20,1024)\n",
    "energies=np.linspace(ek+ep*erange[0],ek+ep*erange[1],2048)\n",
    "ainner=15\n",
    "energymesh,anglemesh=np.meshgrid(energies,angles)\n",
    "\n",
    "testimage=mcp_position_mm(energymesh,anglemesh,scanparameters)"
   ]
  },
  {
   "cell_type": "code",
   "execution_count": null,
   "id": "990491c0",
   "metadata": {},
   "outputs": [],
   "source": [
    "from matplotlib import cm\n",
    "\n",
    "colorlevels=np.linspace(-15,15,50)\n",
    "\n",
    "plt.contourf(energies,angles,testimage,cmap=cm.bwr,levels=colorlevels)\n",
    "#plt.xlim(10,20)\n",
    "plt.ylim(-18,18)\n",
    "#plt.clim(0,5)\n",
    "plt.colorbar()\n",
    "\n",
    "#not sure if this is correct.. but better than before"
   ]
  },
  {
   "cell_type": "code",
   "execution_count": null,
   "id": "4326e67a",
   "metadata": {},
   "outputs": [],
   "source": [
    "reload(specsanalyzer.convert)\n",
    "from specsanalyzer.convert import calculate_matrix_correction \n",
    "from specsanalyzer.convert import physical_unit_data"
   ]
  },
  {
   "cell_type": "code",
   "execution_count": null,
   "id": "64a39ec2",
   "metadata": {},
   "outputs": [],
   "source": [
    "# For the example scan we have the following settings:\n",
    "(ek_axis, angle_axis, angular_correction_matrix, e_correction,\n",
    "         jacobian_determinant)=calculate_matrix_correction(scanparameters)"
   ]
  },
  {
   "cell_type": "code",
   "execution_count": null,
   "id": "3128707f",
   "metadata": {},
   "outputs": [],
   "source": [
    "from matplotlib import cm\n",
    "\n",
    "plt.contourf(ek_axis,angle_axis,angular_correction_matrix)\n",
    "plt.colorbar()"
   ]
  },
  {
   "cell_type": "code",
   "execution_count": null,
   "id": "1e726955",
   "metadata": {},
   "outputs": [],
   "source": [
    "plt.contourf(ek_axis,angle_axis,jacobian_determinant)\n",
    "plt.colorbar()"
   ]
  },
  {
   "cell_type": "code",
   "execution_count": null,
   "id": "631c61a3",
   "metadata": {},
   "outputs": [],
   "source": [
    "plt.plot(e_correction)"
   ]
  },
  {
   "cell_type": "code",
   "execution_count": null,
   "id": "e83f2431",
   "metadata": {},
   "outputs": [],
   "source": [
    "corrected_data=physical_unit_data(raw_data,\n",
    "                       angular_correction_matrix,\n",
    "                       e_correction,\n",
    "                       jacobian_determinant)"
   ]
  },
  {
   "cell_type": "code",
   "execution_count": null,
   "id": "fa1ccec8",
   "metadata": {},
   "outputs": [],
   "source": [
    "h = plt.contourf(raw_data)\n",
    "plt.colorbar()"
   ]
  },
  {
   "cell_type": "code",
   "execution_count": null,
   "id": "7a700f4e",
   "metadata": {},
   "outputs": [],
   "source": [
    "print(ek_axis.shape)\n",
    "print(angle_axis.shape)\n",
    "print(corrected_data.shape)\n",
    "colorlevels=np.linspace(0,130000,100)\n",
    "h = plt.contourf(ek_axis,angle_axis,corrected_data,levels=colorlevels)\n",
    "plt.colorbar()\n",
    "#plt.xlim(34,37)\n",
    "#plt.ylim(-15,15)"
   ]
  },
  {
   "cell_type": "code",
   "execution_count": null,
   "id": "4ecdbb12",
   "metadata": {},
   "outputs": [],
   "source": [
    "h = plt.contourf(angle_axis,ek_axis,corrected_data.transpose(),levels=colorlevels)\n",
    "plt.colorbar()"
   ]
  },
  {
   "cell_type": "code",
   "execution_count": null,
   "id": "aa27895f",
   "metadata": {},
   "outputs": [],
   "source": [
    "from specsanalyzer.convert import convert_image \n"
   ]
  },
  {
   "cell_type": "code",
   "execution_count": null,
   "id": "61cc84bd",
   "metadata": {},
   "outputs": [],
   "source": [
    "%timeit corrected_data=convert_image(raw_image_name, infofilename, calib2dfilename)"
   ]
  },
  {
   "cell_type": "code",
   "execution_count": null,
   "id": "84757009",
   "metadata": {},
   "outputs": [],
   "source": [
    "colorlevels=np.linspace(0,130000,100)\n",
    "h = plt.contourf(ek_axis,angle_axis,corrected_data,levels=colorlevels)\n",
    "plt.colorbar()\n",
    "#plt.xlim(34,37)\n",
    "#plt.ylim(-15,15)"
   ]
  },
  {
   "cell_type": "code",
   "execution_count": null,
   "id": "149af2f2",
   "metadata": {},
   "outputs": [],
   "source": []
  }
 ],
 "metadata": {
  "kernelspec": {
   "display_name": "Python 3.9.12 ('base')",
   "language": "python",
   "name": "python3"
  },
  "language_info": {
   "codemirror_mode": {
    "name": "ipython",
    "version": 3
   },
   "file_extension": ".py",
   "mimetype": "text/x-python",
   "name": "python",
   "nbconvert_exporter": "python",
   "pygments_lexer": "ipython3",
   "version": "3.9.12"
  },
  "vscode": {
   "interpreter": {
    "hash": "ad2bdc8ecc057115af97d19610ffacc2b4e99fae6737bb82f5d7fb13d2f2c186"
   }
  }
 },
 "nbformat": 4,
 "nbformat_minor": 5
}
