{
 "cells": [
  {
   "cell_type": "markdown",
   "id": "864500e2",
   "metadata": {},
   "source": [
    "TESTING CONVERT FUNCTIONS FOR PHOIBOS 150 DATA, COMPARISON WITH THE IGOR DATA\n",
    "\n",
    "\n",
    "USES THE FOLDER dataEPFL/R1932\n",
    "\n",
    "the folder contains all the igor output arrays for comparison\n",
    "\n"
   ]
  },
  {
   "cell_type": "code",
   "execution_count": 46,
   "id": "2f2ab5b4",
   "metadata": {},
   "outputs": [
    {
     "name": "stdout",
     "output_type": "stream",
     "text": [
      "The autoreload extension is already loaded. To reload it, use:\n",
      "  %reload_ext autoreload\n"
     ]
    }
   ],
   "source": [
    "# This uses the autoreload function form ipynb, useful to reload modificaiton of the source code\n",
    "%load_ext autoreload\n",
    "%autoreload 2"
   ]
  },
  {
   "cell_type": "code",
   "execution_count": 47,
   "id": "45fafb84",
   "metadata": {},
   "outputs": [
    {
     "name": "stdout",
     "output_type": "stream",
     "text": [
      "Data path=  ../tests/data/dataEPFL/R9132/\n"
     ]
    }
   ],
   "source": [
    "from specsanalyzer import SpecsAnalyzer\n",
    "import matplotlib.pyplot as plt\n",
    "import xarray as xr\n",
    "import numpy as np\n",
    "\n",
    "spa = SpecsAnalyzer()\n",
    "\n",
    "import os\n",
    "\n",
    "testdatapath = \"../tests/data/dataEPFL/R9132/\"\n",
    "filelist = os.listdir(testdatapath)\n",
    "print(\"Data path= \", testdatapath)\n",
    "# this folders contains the AVG folder with the data, an info.txt vector and a scan vector"
   ]
  },
  {
   "cell_type": "code",
   "execution_count": 48,
   "id": "6c91b572",
   "metadata": {},
   "outputs": [
    {
     "name": "stdout",
     "output_type": "stream",
     "text": [
      "../tests/data/dataEPFL/R9132/Data9132_RAWDATA.tsv\n",
      "The shape of the raw data is:  (256, 344)\n"
     ]
    },
    {
     "data": {
      "image/png": "[encoded data removed]",
      "text/plain": [
       "<Figure size 432x288 with 2 Axes>"
      ]
     },
     "metadata": {
      "needs_background": "light"
     },
     "output_type": "display_data"
    }
   ],
   "source": [
    "# get the raw image name from the list\n",
    "rawimagelist = [i for i in filelist if \"RAWDATA\" in i]\n",
    "raw_image_name = os.path.join(testdatapath, rawimagelist[0])\n",
    "print(raw_image_name) \n",
    "\n",
    "with open(raw_image_name) as file:\n",
    "    tsv_data = np.loadtxt(file, delimiter=\"\\t\")\n",
    "plt.figure()\n",
    "h = plt.contourf(tsv_data)\n",
    "plt.colorbar()\n",
    "print(\"The shape of the raw data is: \", tsv_data.shape)\n",
    "# plt.xlim(120,150)\n",
    "# plt.ylim(150,200)"
   ]
  },
  {
   "cell_type": "code",
   "execution_count": 49,
   "id": "149af2f2",
   "metadata": {},
   "outputs": [],
   "source": [
    "from specsanalyzer import SpecsAnalyzer\n",
    "import matplotlib.pyplot as plt\n",
    "import xarray as xr\n",
    "import numpy as np\n",
    "\n",
    "spa = SpecsAnalyzer()\n",
    "scanparameters = spa.config"
   ]
  },
  {
   "cell_type": "code",
   "execution_count": 50,
   "id": "61888c46",
   "metadata": {},
   "outputs": [],
   "source": [
    "# load the module and import functions for reading the parameter table from the calib2d file\n",
    "import specsanalyzer.convert\n",
    "\n",
    "# let's get all the functions to be tested\n",
    "from specsanalyzer.convert import get_damatrix_fromcalib2d\n",
    "from specsanalyzer.convert import get_rr_da\n",
    "from specsanalyzer.convert import calculate_polynomial_coef_da\n",
    "from specsanalyzer.convert import mcp_position_mm"
   ]
  },
  {
   "cell_type": "code",
   "execution_count": 51,
   "id": "aa27895f",
   "metadata": {},
   "outputs": [],
   "source": [
    "from specsanalyzer import SpecsAnalyzer\n",
    "import matplotlib.pyplot as plt\n",
    "import xarray as xr\n",
    "import numpy as np\n",
    "\n",
    "# call an instance of the class\n",
    "spa = SpecsAnalyzer()\n",
    "# io function used to get the calib 2d file in the class\n",
    "calib2d_dictionary = specsanalyzer.io.parse_calib2d_to_dict(\n",
    "    \"../specsanalyzer/config/phoibos150.calib2d\"\n",
    ")\n",
    "# calib2d_dictionary=specsanalyzer.io.parse_calib2d_to_dict('./config/phoibos150.calib2d')\n",
    "\n",
    "# settings function used to get  configuration files\n",
    "config_file = specsanalyzer.settings.parse_config(calib2d_dictionary)\n",
    "\n",
    "\n",
    "# get the das  and the rr vector\n",
    "# rr_array, da_matrix=  specsanalyzer.convert.get_rr_da(\"WideAngleMode\", config_file)"
   ]
  },
  {
   "cell_type": "code",
   "execution_count": 52,
   "id": "59ee269d",
   "metadata": {},
   "outputs": [
    {
     "name": "stdout",
     "output_type": "stream",
     "text": [
      "[[-4.4857240e-03  3.2542211e-01 -5.1406364e+00]\n",
      " [ 2.5193503e-03 -1.3771337e-01  1.7925767e+00]\n",
      " [-7.4261258e-04  2.9766740e-02 -1.8274546e-01]\n",
      " [-5.1501684e-05  9.3138171e-03 -2.5310904e-01]]\n",
      "[[-5.1406364e+00  3.2542211e-01 -4.4857240e-03]\n",
      " [ 1.7925767e+00 -1.3771337e-01  2.5193503e-03]\n",
      " [-1.8274546e-01  2.9766740e-02 -7.4261258e-04]\n",
      " [-2.5310904e-01  9.3138171e-03 -5.1501684e-05]]\n"
     ]
    }
   ],
   "source": [
    "# Load the IGOR txt Di_coeff values for comparison\n",
    "igordatapath = \"../tests/data/dataEPFL/R9132\"\n",
    "igordatapath_content = os.listdir(igordatapath)\n",
    "\n",
    "# get the fitted coefficients\n",
    "Di_coef_list = [i for i in igordatapath_content if \"_coef\" in i]\n",
    "\n",
    "igor_D_coef_list = []\n",
    "for i, name in enumerate(sorted(Di_coef_list)):\n",
    "    tmp_name = os.path.join(igordatapath, name)\n",
    "    with open(tmp_name) as file:\n",
    "        # check the name in row 1\n",
    "        # first_line=file.readline()\n",
    "        # print(first_line)\n",
    "\n",
    "        # igor_D_coef_list.append(np.loadtxt(file, delimiter='\\t', skiprows=1) )\n",
    "        igor_D_coef_list.append(np.loadtxt(file, delimiter=\"\\t\"))\n",
    "# igor_D_coef_matrix=np.vstack(igor_D_coef_list)\n",
    "igor_D_coef_matrix = np.flip(np.vstack(igor_D_coef_list), axis=1)\n",
    "print(igor_D_coef_matrix)  # row 0 D1 , row 1 D3, ...\n",
    "print(np.vstack(igor_D_coef_list))"
   ]
  },
  {
   "cell_type": "code",
   "execution_count": 53,
   "id": "59ee269d",
   "metadata": {},
   "outputs": [],
   "source": [
    "# Load the IGOR txt Da_values for comparison\n",
    "igordatapath = \"../tests/data/dataEPFL/R9132\"\n",
    "igordatapath_content = os.listdir(igordatapath)\n",
    "\n",
    "# get the fitted coefficients\n",
    "Di_value_list = [i for i in igordatapath_content if \"_value.tsv\" in i]\n",
    "\n",
    "igor_D_value_list = []\n",
    "for i, name in enumerate(sorted(Di_value_list)):\n",
    "    tmp_name = os.path.join(igordatapath, name)\n",
    "    with open(tmp_name) as file:\n",
    "        # check the name in row 1\n",
    "        # first_line=file.readline()\n",
    "        # print(first_line)\n",
    "\n",
    "        # igor_D_value_list.append(np.loadtxt(file, delimiter='\\t', skiprows=1) )\n",
    "        igor_D_value_list.append(np.loadtxt(file, delimiter=\"\\t\"))\n",
    "\n",
    "igor_D_value_matrix = np.vstack(igor_D_value_list)"
   ]
  },
  {
   "cell_type": "code",
   "execution_count": 54,
   "id": "056c501c",
   "metadata": {},
   "outputs": [
    {
     "data": {
      "text/plain": [
       "list"
      ]
     },
     "execution_count": 54,
     "metadata": {},
     "output_type": "execute_result"
    }
   ],
   "source": [
    "Di_value_list\n",
    "type(Di_value_list)"
   ]
  },
  {
   "cell_type": "code",
   "execution_count": null,
   "id": "2469ffa1",
   "metadata": {},
   "outputs": [],
   "source": []
  },
  {
   "cell_type": "code",
   "execution_count": 55,
   "id": "64c0d5a8",
   "metadata": {},
   "outputs": [],
   "source": [
    "# let's calculate the corresponding quantities in Pytohn\n",
    "\n",
    "# load the module and import functions for reading the parameter table from the calib2d file\n",
    "import specsanalyzer.convert\n",
    "\n",
    "# let's get all the functions to be tested\n",
    "from specsanalyzer.convert import get_damatrix_fromcalib2d\n",
    "from specsanalyzer.convert import get_rr_da\n",
    "from specsanalyzer.convert import calculate_polynomial_coef_da\n",
    "from specsanalyzer.convert import mcp_position_mm\n",
    "from specsanalyzer.convert import calculate_matrix_correction\n",
    "\n",
    "\n",
    "spa = SpecsAnalyzer(config=\"../tests/data/dataEPFL/config/config.yaml\")\n",
    "config_dict = spa.config\n",
    "lens_mode = \"WideAngleMode\"\n",
    "kinetic_energy = 35.000000\n",
    "pass_energy = 35.000000\n",
    "work_function = 4.2\n",
    "binning = 4\n",
    "\n",
    "eshift = np.array(config_dict[\"calib2d_dict\"][\"eShift\"])\n",
    "\n",
    "aInner, damatrix = get_damatrix_fromcalib2d(\n",
    "    lens_mode,\n",
    "    kinetic_energy,\n",
    "    pass_energy,\n",
    "    work_function,\n",
    "    config_dict,\n",
    ")\n",
    "\n",
    "dapolymatrix = calculate_polynomial_coef_da(\n",
    "    damatrix, kinetic_energy, pass_energy, eshift\n",
    ")\n",
    "\n",
    "\n",
    "# note that for scan 9132 (and 9131) we have   retardatio ratio=   0.88 -> this is wrong imo, checke the effect of the work function\n",
    "#  rr_inf =   10  rr_factor =   0.75 in igor"
   ]
  },
  {
   "cell_type": "code",
   "execution_count": 56,
   "id": "1e8f8ed1",
   "metadata": {},
   "outputs": [
    {
     "name": "stdout",
     "output_type": "stream",
     "text": [
      "das\n",
      "[[ 7.204000e-01  7.541250e-01  7.603750e-01]\n",
      " [-1.093975e-03  5.881250e-02  1.341500e-01]\n",
      " [-1.400600e-02 -5.061000e-02 -9.176250e-02]\n",
      " [-3.629475e-04  9.785000e-03  1.961750e-02]]\n",
      "[[ 7.2039998e-01  7.5412500e-01  7.6037496e-01]\n",
      " [-1.0939732e-03  5.8812503e-02  1.3415000e-01]\n",
      " [-1.4006001e-02 -5.0609998e-02 -9.1762498e-02]\n",
      " [-3.6294712e-04  9.7850002e-03  1.9617500e-02]]\n",
      "Difference in the interpolated D coeffiecients\n",
      "[[ 2.00000000e-08 -1.11022302e-16  4.00000000e-08]\n",
      " [-1.80000000e-09 -3.00000001e-09  0.00000000e+00]\n",
      " [ 9.99999999e-10 -2.00000000e-09 -2.00000000e-09]\n",
      " [-3.80000000e-10 -2.00000001e-10  0.00000000e+00]]\n",
      "coefs\n",
      "[[-4.48571429e-03  3.25421429e-01 -5.14062500e+00]\n",
      " [ 2.51935102e-03 -1.37713436e-01  1.79257775e+00]\n",
      " [-7.42612245e-04  2.97667143e-02 -1.82745000e-01]\n",
      " [-5.15016327e-05  9.31381357e-03 -2.53108975e-01]]\n",
      "[[-4.4857240e-03  3.2542211e-01 -5.1406364e+00]\n",
      " [ 2.5193503e-03 -1.3771337e-01  1.7925767e+00]\n",
      " [-7.4261258e-04  2.9766740e-02 -1.8274546e-01]\n",
      " [-5.1501684e-05  9.3138171e-03 -2.5310904e-01]]\n",
      "Difference in the fitted polynomial coeffiecients\n",
      "[[ 9.71428568e-09 -6.81428568e-07  1.13999999e-05]\n",
      " [ 7.20408167e-10 -6.57142863e-08  1.05000002e-06]\n",
      " [ 3.35102045e-10 -2.57142859e-08  4.60000002e-07]\n",
      " [ 5.13469356e-11 -3.52857118e-09  6.49999952e-08]]\n"
     ]
    }
   ],
   "source": [
    "print(\"das\")\n",
    "print(damatrix)\n",
    "print(igor_D_value_matrix)\n",
    "print(\"Difference in the interpolated D coeffiecients\")\n",
    "print(damatrix - igor_D_value_matrix)\n",
    "# at the moment they differ by some %..\n",
    "\n",
    "print(\"coefs\")\n",
    "print(dapolymatrix)\n",
    "print(igor_D_coef_matrix)\n",
    "print(\"Difference in the fitted polynomial coeffiecients\")\n",
    "print(dapolymatrix - igor_D_coef_matrix)\n",
    "# at the moment they differ by some %..\n",
    "\n",
    "\n"
   ]
  },
  {
   "cell_type": "code",
   "execution_count": 57,
   "id": "b8b9d33c",
   "metadata": {},
   "outputs": [
    {
     "name": "stdout",
     "output_type": "stream",
     "text": [
      "None\n"
     ]
    }
   ],
   "source": [
    "print(np.testing.assert_allclose(dapolymatrix, igor_D_coef_matrix, rtol=1e-05))"
   ]
  },
  {
   "cell_type": "code",
   "execution_count": 58,
   "id": "25884670",
   "metadata": {},
   "outputs": [],
   "source": [
    "# get the rr and the damatrix\n",
    "rr, damatrix = get_rr_da(\"WideAngleMode\", config_dict)"
   ]
  },
  {
   "cell_type": "code",
   "execution_count": 59,
   "id": "b2c4bbf1",
   "metadata": {},
   "outputs": [
    {
     "name": "stdout",
     "output_type": "stream",
     "text": [
      "The shape of the jacobian_reference is:  (256, 344)\n",
      "The shape of the jacobian_determinant is:  (256, 344)\n"
     ]
    },
    {
     "data": {
      "image/png": "[encoded data removed]",
      "text/plain": [
       "<Figure size 720x288 with 6 Axes>"
      ]
     },
     "metadata": {
      "needs_background": "light"
     },
     "output_type": "display_data"
    }
   ],
   "source": [
    "# let's get the jacobian matrices generate by the igor code\n",
    "# and compare it to the one obtained by calculate_matrix_correction\n",
    "\n",
    "# Jacobian\n",
    "jname = [i for i in igordatapath_content if \"Jacobian\" in i][0]\n",
    "with open(os.path.join(igordatapath, jname)) as file:\n",
    "    jacobian_reference = np.loadtxt(file, delimiter=\"\\t\").T\n",
    "\n",
    "print(\n",
    "    \"The shape of the jacobian_reference is: \",\n",
    "    jacobian_reference.shape,\n",
    ")\n",
    "# plt.xlim(120,150)\n",
    "# plt.ylim(150,200)\n",
    "\n",
    "\n",
    "(\n",
    "    ek_axis,\n",
    "    angle_axis,\n",
    "    angular_correction_matrix,\n",
    "    e_correction,\n",
    "    jacobian_determinant,\n",
    ") = calculate_matrix_correction(\n",
    "    lens_mode,\n",
    "    kinetic_energy,\n",
    "    pass_energy,\n",
    "    work_function,\n",
    "    binning,\n",
    "    config_dict,\n",
    ")\n",
    "\n",
    "\n",
    "print(\n",
    "    \"The shape of the jacobian_determinant is: \",\n",
    "    jacobian_determinant.shape,\n",
    ")\n",
    "\n",
    "delta_jacobian = jacobian_determinant - jacobian_reference\n",
    "\n",
    "fig, (ax1, ax2, ax3) = plt.subplots(ncols=3, figsize=(10, 4))\n",
    "subplot1 = ax1.contourf(jacobian_determinant)\n",
    "subplot2 = ax2.contourf(jacobian_reference)\n",
    "subplot3 = ax3.contourf(delta_jacobian)\n",
    "fig.colorbar(subplot1, ax=ax1)\n",
    "fig.colorbar(subplot2, ax=ax2)\n",
    "fig.colorbar(subplot3, ax=ax3)\n",
    "\n",
    "plt.tight_layout()"
   ]
  },
  {
   "cell_type": "code",
   "execution_count": 60,
   "id": "cb11932e",
   "metadata": {},
   "outputs": [],
   "source": [
    "assert np.testing.assert_allclose(jacobian_determinant, jacobian_reference, rtol=1e-04) is None"
   ]
  },
  {
   "cell_type": "code",
   "execution_count": 61,
   "id": "4b60a676",
   "metadata": {},
   "outputs": [
    {
     "data": {
      "text/plain": [
       "[<matplotlib.lines.Line2D at 0x1f7ae029900>]"
      ]
     },
     "execution_count": 61,
     "metadata": {},
     "output_type": "execute_result"
    },
    {
     "data": {
      "image/png": "[encoded data removed]",
      "text/plain": [
       "<Figure size 432x288 with 1 Axes>"
      ]
     },
     "metadata": {
      "needs_background": "light"
     },
     "output_type": "display_data"
    }
   ],
   "source": [
    "# plt.plot(ek_axis,e_correction)\n",
    "d_ecorrection = np.gradient(e_correction, ek_axis)\n",
    "plt.plot(ek_axis, d_ecorrection)"
   ]
  },
  {
   "cell_type": "code",
   "execution_count": 62,
   "id": "43fde75f",
   "metadata": {},
   "outputs": [
    {
     "data": {
      "text/plain": [
       "[<matplotlib.lines.Line2D at 0x1f7ae071d20>]"
      ]
     },
     "execution_count": 62,
     "metadata": {},
     "output_type": "execute_result"
    },
    {
     "data": {
      "image/png": "[encoded data removed]",
      "text/plain": [
       "<Figure size 432x288 with 1 Axes>"
      ]
     },
     "metadata": {
      "needs_background": "light"
     },
     "output_type": "display_data"
    }
   ],
   "source": [
    "# e_correction\n",
    "jname = [i for i in igordatapath_content if \"E_Correction\" in i][0]\n",
    "jname\n",
    "with open(os.path.join(igordatapath, jname)) as file:\n",
    "    e_correction_reference = np.loadtxt(file, delimiter=\"\\t\")\n",
    "\n",
    "plt.plot(e_correction)\n",
    "plt.plot(e_correction_reference)\n",
    "\n",
    "# ecorrection is different!!"
   ]
  },
  {
   "cell_type": "code",
   "execution_count": 63,
   "id": "a315bead",
   "metadata": {},
   "outputs": [
    {
     "data": {
      "image/png": "[encoded data removed]",
      "text/plain": [
       "<Figure size 432x288 with 6 Axes>"
      ]
     },
     "metadata": {
      "needs_background": "light"
     },
     "output_type": "display_data"
    }
   ],
   "source": [
    "# e_correction\n",
    "jname = [i for i in igordatapath_content if \"Angular_Correction\" in i][0]\n",
    "jname\n",
    "with open(os.path.join(igordatapath, jname)) as file:\n",
    "    angle_correction_reference = np.loadtxt(file, delimiter=\"\\t\").T\n",
    "\n",
    "delta_angle = angle_correction_reference - angular_correction_matrix\n",
    "\n",
    "fig, (ax1, ax2, ax3) = plt.subplots(1, 3)\n",
    "subplot1 = ax1.contourf(angular_correction_matrix)\n",
    "subplot2 = ax2.contourf(angle_correction_reference)\n",
    "subplot3 = ax3.contourf(delta_angle)\n",
    "fig.colorbar(subplot1, ax=ax1)\n",
    "fig.colorbar(subplot2, ax=ax2)\n",
    "fig.colorbar(subplot3, ax=ax3)\n",
    "plt.tight_layout()"
   ]
  },
  {
   "cell_type": "code",
   "execution_count": 64,
   "id": "845828ac",
   "metadata": {},
   "outputs": [
    {
     "name": "stdout",
     "output_type": "stream",
     "text": [
      ".\n"
     ]
    }
   ],
   "source": [
    "import os\n",
    "print(os.path.curdir)\n",
    "# os.path.join(os.path.curdir, 'file.name')"
   ]
  },
  {
   "cell_type": "code",
   "execution_count": 65,
   "id": "3dd70214",
   "metadata": {},
   "outputs": [
    {
     "data": {
      "text/plain": [
       "'./tests/data/dataEPFL/R9132/Data9132_RAWDATA.tsv'"
      ]
     },
     "execution_count": 65,
     "metadata": {},
     "output_type": "execute_result"
    }
   ],
   "source": [
    "\n",
    "os.fspath('./tests/data/dataEPFL/R9132/Data9132_RAWDATA.tsv')"
   ]
  },
  {
   "cell_type": "code",
   "execution_count": 130,
   "id": "ded1d300",
   "metadata": {},
   "outputs": [],
   "source": [
    "def test_conversion():\n",
    "    \"Test if the conversion pipeline gives the same result as the Igor procedures\"\n",
    "\n",
    "    #execution path: if you run in jupyter is is \".\", in the case of the test should already by under tests\n",
    "    cwd=os.getcwd()\n",
    "    \n",
    "    if os.path.basename(cwd)==\"specsanalyser\":\n",
    "        \"ok we are HERE\"\n",
    "        basepath=cwd\n",
    "    else:\n",
    "        basepath=os.path.dirname(cwd)\n",
    "    # get the raw data\n",
    "    print(basepath)\n",
    "    data_path = os.path.join(basepath,'tests' ,'data', 'dataEPFL', 'R9132')\n",
    "    raw_image_name = os.path.join(data_path,\"Data9132_RAWDATA.tsv\")\n",
    "    \n",
    "    # raw_image_name=os.fsencode('tests\\data\\dataEPFL\\R9132\\Data9132_RAWDATA.tsv')\n",
    "    print(raw_image_name, \"C:\\\\Users\\\\Michele\\\\Documents\\\\GitHub\\\\vscode\\\\specsanalyzer\\\\tests\\\\data\\\\dataEPFL\\\\R9132\\\\Data9132_RAWDATA.tsv\")\n",
    "\n",
    "    with open(raw_image_name) as file:\n",
    "        tsv_data = np.loadtxt(file, delimiter=\"\\t\")\n",
    "    \n",
    "\n",
    "    # get the reference data\n",
    "    reference_image_name = raw_image_name = os.path.join(data_path,\"Data9132_IGOR_corrected.tsv\")\n",
    "\n",
    "    with open(reference_image_name) as file:\n",
    "        reference = np.loadtxt(file, delimiter=\"\\t\")\n",
    "\n",
    "    \n",
    "\n",
    "    configpath = os.path.join(basepath,'tests' ,'data', 'dataEPFL', 'config',\"config.yaml\")\n",
    "    spa = SpecsAnalyzer(config=configpath)\n",
    "    lens_mode = \"WideAngleMode\"\n",
    "    kinetic_energy = 35.000000\n",
    "    pass_energy = 35.000000\n",
    "    work_function = 4.2\n",
    "\n",
    "    converted = spa.convert_image(\n",
    "        raw_img=tsv_data,\n",
    "        lens_mode=lens_mode,\n",
    "        kinetic_energy=kinetic_energy,\n",
    "        pass_energy=pass_energy,\n",
    "        work_function=work_function,\n",
    "        apply_fft_filter=False,\n",
    "    )\n",
    "\n",
    "    # TODO Does not work yet... Not sure how you produced the reference?\n",
    "\n",
    "    tolerance=reference.mean()*1e-3\n",
    "    np.testing.assert_allclose(converted.data, reference, atol=tolerance)"
   ]
  },
  {
   "cell_type": "code",
   "execution_count": 131,
   "id": "f3bcaf24",
   "metadata": {},
   "outputs": [
    {
     "name": "stdout",
     "output_type": "stream",
     "text": [
      "c:\\Users\\Michele\\Documents\\GitHub\\vscode\\specsanalyzer\n",
      "c:\\Users\\Michele\\Documents\\GitHub\\vscode\\specsanalyzer\\tests\\data\\dataEPFL\\R9132\\Data9132_RAWDATA.tsv C:\\Users\\Michele\\Documents\\GitHub\\vscode\\specsanalyzer\\tests\\data\\dataEPFL\\R9132\\Data9132_RAWDATA.tsv\n",
      "New correction Matrix\n"
     ]
    }
   ],
   "source": [
    "test_conversion()"
   ]
  },
  {
   "cell_type": "code",
   "execution_count": null,
   "id": "84727e7c",
   "metadata": {},
   "outputs": [
    {
     "name": "stdout",
     "output_type": "stream",
     "text": [
      "./tests/data/dataEPFL/R9132/Data9132_RAWDATA.tsv\n"
     ]
    }
   ],
   "source": [
    "print(os.fspath(\n",
    "         \"./tests/data/dataEPFL/R9132/Data9132_RAWDATA.tsv\",\n",
    "     ))"
   ]
  },
  {
   "cell_type": "code",
   "execution_count": null,
   "id": "6950793e",
   "metadata": {},
   "outputs": [
    {
     "data": {
      "text/plain": [
       "'tests\\\\data\\\\dataEPFL\\\\R9132\\\\Data9132_RAWDATA.tsv'"
      ]
     },
     "execution_count": 38,
     "metadata": {},
     "output_type": "execute_result"
    }
   ],
   "source": [
    "os.fsdecode(\"tests\\data\\dataEPFL\\R9132\\Data9132_RAWDATA.tsv\")"
   ]
  },
  {
   "cell_type": "code",
   "execution_count": null,
   "id": "8a0cec89",
   "metadata": {},
   "outputs": [
    {
     "data": {
      "text/plain": [
       "b'tests\\\\data\\\\dataEPFL\\\\R9132\\\\Data9132_RAWDATA.tsv'"
      ]
     },
     "execution_count": 39,
     "metadata": {},
     "output_type": "execute_result"
    }
   ],
   "source": [
    "os.fsencode(\"tests\\data\\dataEPFL\\R9132\\Data9132_RAWDATA.tsv\")"
   ]
  },
  {
   "cell_type": "code",
   "execution_count": 85,
   "id": "a784db5b",
   "metadata": {},
   "outputs": [
    {
     "data": {
      "text/plain": [
       "'.\\\\tests\\\\data\\\\dataEPFL\\\\R9132'"
      ]
     },
     "execution_count": 85,
     "metadata": {},
     "output_type": "execute_result"
    }
   ],
   "source": [
    "os.path.join(os.path.curdir,'tests' ,'data', 'dataEPFL', 'R9132')"
   ]
  },
  {
   "cell_type": "code",
   "execution_count": 92,
   "id": "0f21dc4e",
   "metadata": {},
   "outputs": [
    {
     "name": "stdout",
     "output_type": "stream",
     "text": [
      "c:\\Users\\Michele\\Documents\\GitHub\\vscode\\specsanalyzer\n"
     ]
    }
   ],
   "source": [
    "from pathlib import Path\n",
    "cwd = Path.cwd()\n",
    "print(cwd.parent.absolute())"
   ]
  },
  {
   "cell_type": "code",
   "execution_count": 94,
   "id": "42db34dd",
   "metadata": {},
   "outputs": [
    {
     "data": {
      "text/plain": [
       "'specsanalyzer'"
      ]
     },
     "execution_count": 94,
     "metadata": {},
     "output_type": "execute_result"
    }
   ],
   "source": [
    "os.path.basename(cwd.parent.absolute())"
   ]
  },
  {
   "cell_type": "code",
   "execution_count": null,
   "id": "c8b84c75",
   "metadata": {},
   "outputs": [],
   "source": []
  }
 ],
 "metadata": {
  "kernelspec": {
   "display_name": "Python 3.10.4 ('specs')",
   "language": "python",
   "name": "python3"
  },
  "language_info": {
   "codemirror_mode": {
    "name": "ipython",
    "version": 3
   },
   "file_extension": ".py",
   "mimetype": "text/x-python",
   "name": "python",
   "nbconvert_exporter": "python",
   "pygments_lexer": "ipython3",
   "version": "3.10.4"
  },
  "vscode": {
   "interpreter": {
    "hash": "6428f06d96a6b01e77e140970230328301bc19fdc764d255e75f2cf3c24498d4"
   }
  }
 },
 "nbformat": 4,
 "nbformat_minor": 5
}
