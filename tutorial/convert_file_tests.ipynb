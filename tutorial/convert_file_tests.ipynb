{
 "cells": [
  {
   "cell_type": "markdown",
   "id": "864500e2",
   "metadata": {},
   "source": [
    "TEST LOADER FOR PHOIBOS 150 DATA\n",
    "\n",
    "Typical structure \n",
    "/2020/01 January/Day 10/Raw Data/8874\n",
    "\n",
    "Withing the folder of the scan number there is an info.txt and a scan\n",
    "In THE AVG FOLDER there is a set of images, averaged over every acquisition cycle\n",
    "IN THE RAW FOLDER there are single acquisition cycles (difference: in EPFL we added the \"save every n cycle function\"\n",
    "this RAW folder also contains a \"LUT.txt\" file"
   ]
  },
  {
   "cell_type": "code",
   "execution_count": 81,
   "id": "45fafb84",
   "metadata": {},
   "outputs": [
    {
     "name": "stdout",
     "output_type": "stream",
     "text": [
      "example data path=  C:\\Users\\Michele\\OneDrive\\Documenti\\GitHub\\specsanalyzer-1\\tests\\data\\dataEPFL\\2020\\02 February\\Day 17\\Raw Data\\9159\n",
      "AVG images path=  C:\\Users\\Michele\\OneDrive\\Documenti\\GitHub\\specsanalyzer-1\\tests\\data\\dataEPFL\\2020\\02 February\\Day 17\\Raw Data\\9159\\AVG\n"
     ]
    }
   ],
   "source": [
    "#test the os package\n",
    "import os\n",
    "\n",
    "#get current directory\n",
    "workingdir=os.getcwd()\n",
    "#print(workingdir)\n",
    "#navigate to example data\n",
    "exampledatapath=os.path.realpath(os.path.join(workingdir, '..','tests\\data\\dataEPFL\\\\2020\\\\02 February\\Day 17\\Raw Data\\9159'))\n",
    "filelist=os.listdir(exampledatapath)\n",
    "print(\"example data path= \",exampledatapath)\n",
    "#this folders contains the AVG folder with the data, an info.txt vector and a scan vector\n",
    "#filelist\n",
    "\n",
    "#navigate to the image folder, for EPFL in the \\AVG subfolder of the data (note that single scan cycles for partial load are in another subfolder - to be checked with Laurenz)\n",
    "avgimagepath=os.path.realpath(os.path.join(workingdir, '..','tests\\data\\dataEPFL\\\\2020\\\\02 February\\Day 17\\Raw Data\\9159\\AVG'))\n",
    "print(\"AVG images path= \",avgimagepath)\n",
    "rawimagelist=os.listdir(avgimagepath)\n",
    "#alternatively join the paths\n",
    "#avgimagepath=os.path.join(exampledatapath,'AVG') \n"
   ]
  },
  {
   "cell_type": "code",
   "execution_count": 82,
   "id": "6c91b572",
   "metadata": {},
   "outputs": [
    {
     "data": {
      "text/plain": [
       "<matplotlib.colorbar.Colorbar at 0x1669a44c700>"
      ]
     },
     "execution_count": 82,
     "metadata": {},
     "output_type": "execute_result"
    },
    {
     "data": {
      "image/png": "[encoded data removed]",
      "text/plain": [
       "<Figure size 432x288 with 2 Axes>"
      ]
     },
     "metadata": {
      "needs_background": "light"
     },
     "output_type": "display_data"
    }
   ],
   "source": [
    "import numpy as np\n",
    "import matplotlib.pyplot as plt\n",
    "fname=os.path.join(avgimagepath,rawimagelist[0]) \n",
    "numpy_array = np.loadtxt(fname, delimiter=\"\\t\")\n",
    "\n",
    "h = plt.contourf(numpy_array)\n",
    "plt.colorbar()\n",
    "#plt.xlim(120,150)\n",
    "#plt.ylim(150,200)"
   ]
  },
  {
   "cell_type": "markdown",
   "id": "3af24f0e",
   "metadata": {},
   "source": [
    "one of the first operations should be to filter the image to remove the grid via FFT filtering"
   ]
  },
  {
   "cell_type": "code",
   "execution_count": 134,
   "id": "61888c46",
   "metadata": {},
   "outputs": [
    {
     "data": {
      "text/plain": [
       "<module 'specsanalyzer.convert' from 'c:\\\\users\\\\michele\\\\onedrive\\\\documenti\\\\github\\\\specsanalyzer-1\\\\specsanalyzer\\\\convert.py'>"
      ]
     },
     "execution_count": 134,
     "metadata": {},
     "output_type": "execute_result"
    }
   ],
   "source": [
    "#load the module and import functions for reading the parameter table from the calib2d file\n",
    "\n",
    "from importlib import reload\n",
    "\n",
    "import specsanalyzer.convert\n",
    "from specsanalyzer.convert import parameters_table\n",
    "\n",
    "from specsanalyzer.convert import get_parameters\n",
    "reload(specsanalyzer.convert)\n",
    "\n"
   ]
  },
  {
   "cell_type": "code",
   "execution_count": 135,
   "id": "89ea0716",
   "metadata": {},
   "outputs": [
    {
     "name": "stdout",
     "output_type": "stream",
     "text": [
      "(128, 5) (375, 5) (104, 5) (132, 5)\n",
      "[[ 7.000e+00  1.003e+00  1.356e+00  1.334e+00  7.000e-02]\n",
      " [ 7.000e+00 -2.919e-02  4.922e-02  2.014e-01  7.000e-02]\n",
      " [ 7.000e+00 -8.050e-02  1.220e-02  6.046e-02  7.000e-02]\n",
      " ...\n",
      " [ 1.400e+01  6.753e-02  1.067e-01  1.475e-01  1.000e+01]\n",
      " [ 1.400e+01 -8.081e-02 -9.454e-02 -1.064e-01  1.000e+01]\n",
      " [ 1.400e+01  8.700e-03  1.423e-02  1.943e-02  1.000e+01]]\n"
     ]
    },
    {
     "data": {
      "text/plain": [
       "array([[ 7.000e+00,  1.003e+00,  1.356e+00,  1.334e+00,  7.000e-02],\n",
       "       [ 7.000e+00, -2.919e-02,  4.922e-02,  2.014e-01,  7.000e-02],\n",
       "       [ 7.000e+00, -8.050e-02,  1.220e-02,  6.046e-02,  7.000e-02],\n",
       "       ...,\n",
       "       [ 1.400e+01,  6.753e-02,  1.067e-01,  1.475e-01,  1.000e+01],\n",
       "       [ 1.400e+01, -8.081e-02, -9.454e-02, -1.064e-01,  1.000e+01],\n",
       "       [ 1.400e+01,  8.700e-03,  1.423e-02,  1.943e-02,  1.000e+01]])"
      ]
     },
     "execution_count": 135,
     "metadata": {},
     "output_type": "execute_result"
    }
   ],
   "source": [
    "#GET THE CALIBRATION FILE NAME FROM THE EXAMPLE FOLDER\n",
    "calib2dfilename=os.path.realpath(os.path.join(workingdir, '..','tests\\data\\dataEPFL\\phoibosEPFL.txt'))\n",
    "#GET THE INFO FILE NAME FROM THE EXAMPLE FOLDER, SCAN 9159\n",
    "#navigate to example data\n",
    "exampledatapath=os.path.realpath(os.path.join(workingdir, '..','tests\\data\\dataEPFL\\\\2020\\\\02 February\\Day 17\\Raw Data\\9159'))\n",
    "filelist=os.listdir(exampledatapath)\n",
    "str_match = list(filter(lambda x: 'info.txt' in x, filelist))\n",
    "infofilename=os.path.join(exampledatapath,str_match[0]) \n",
    "\n",
    "calibrationmatrixfull=parameters_table(calib2dfilename)\n",
    "calibrationmatrixfull\n",
    "\n",
    "#now the calibration matrix contains only the Dass"
   ]
  },
  {
   "cell_type": "code",
   "execution_count": 6,
   "id": "5e4ac5cb",
   "metadata": {},
   "outputs": [],
   "source": [
    "calibrationmatrixinterp=get_parameters(infofilename,calib2dfilename)"
   ]
  },
  {
   "cell_type": "code",
   "execution_count": 7,
   "id": "75093601",
   "metadata": {},
   "outputs": [
    {
     "name": "stdout",
     "output_type": "stream",
     "text": [
      "<class 'numpy.ndarray'>\n"
     ]
    }
   ],
   "source": [
    "#let's make and test the  polynomial fit\n",
    "ek=10\n",
    "ep=20\n",
    "eshift=np.array([-0.05,0,0.05])\n",
    "currentdamatrix=calibrationmatrixinterp\n",
    "print(type(eshift))\n",
    "da_energy=eshift*ep+ek*np.ones(eshift.shape)\n",
    "\n",
    "def calculate_polynomial_Coef_Da(ek,ep,eshift,currentdamatrix):\n",
    "    \n",
    "    #get the Das from the damatrix\n",
    "    #da1=currentdamatrix[0][:]\n",
    "    #da3=currentdamatrix[1][:]\n",
    "    #da5=currentdamatrix[2][:]\n",
    "    #da7=currentdamatrix[3][:]\n",
    "\n",
    "    #calcualte the energy values for each da, given the eshift\n",
    "    da_energy=eshift*ep+ek*np.ones(eshift.shape)\n",
    "\n",
    "    #create the polinomial coeffiecient matrix, each is a third order polinomial \n",
    "    \n",
    "    dapolymatrix=np.zeros(currentdamatrix.shape)\n",
    "\n",
    "    for i in range(0,currentdamatrix.shape[0]):\n",
    "        #igor uses the fit poly 3, which should be a parabola\n",
    "        dapolymatrix[i][:]=np.polyfit(da_energy, currentdamatrix[i][:], 2).transpose()\n",
    "    return dapolymatrix\n",
    "\n",
    "dapolymatrix=calculate_polynomial_Coef_Da(ek,ep,eshift,currentdamatrix)"
   ]
  },
  {
   "cell_type": "code",
   "execution_count": 8,
   "id": "382eff95",
   "metadata": {},
   "outputs": [
    {
     "data": {
      "text/plain": [
       "[<matplotlib.lines.Line2D at 0x166832c7340>]"
      ]
     },
     "execution_count": 8,
     "metadata": {},
     "output_type": "execute_result"
    },
    {
     "data": {
      "image/png": "[encoded data removed]",
      "text/plain": [
       "<Figure size 432x288 with 1 Axes>"
      ]
     },
     "metadata": {
      "needs_background": "light"
     },
     "output_type": "display_data"
    }
   ],
   "source": [
    "polcoef = np.polyfit(da_energy, currentdamatrix[0][:], 2)\n",
    "\n",
    "plt.plot(da_energy,currentdamatrix[0][:])\n",
    "\n",
    "energy_full=np.linspace(ek-ep*0.1,ek+ep*0.1,128)\n",
    "polval=np.polyval(polcoef,energy_full)\n",
    "polval2=np.polyval(dapolymatrix[0][:],energy_full)\n",
    "plt.plot(energy_full,polval)\n",
    "plt.plot(energy_full,polval2)"
   ]
  },
  {
   "cell_type": "code",
   "execution_count": 9,
   "id": "822894aa",
   "metadata": {},
   "outputs": [
    {
     "data": {
      "text/plain": [
       "<module 'specsanalyzer.convert' from 'c:\\\\users\\\\michele\\\\onedrive\\\\documenti\\\\github\\\\specsanalyzer-1\\\\specsanalyzer\\\\convert.py'>"
      ]
     },
     "execution_count": 9,
     "metadata": {},
     "output_type": "execute_result"
    }
   ],
   "source": [
    "from specsanalyzer.convert import calculate_polynomial_coef_da\n",
    "reload(specsanalyzer.convert)"
   ]
  },
  {
   "cell_type": "code",
   "execution_count": 10,
   "id": "e161015c",
   "metadata": {},
   "outputs": [
    {
     "data": {
      "text/plain": [
       "array([[0., 0., 0.],\n",
       "       [0., 0., 0.],\n",
       "       [0., 0., 0.],\n",
       "       [0., 0., 0.]])"
      ]
     },
     "execution_count": 10,
     "metadata": {},
     "output_type": "execute_result"
    }
   ],
   "source": [
    "dapolymatrix2=calculate_polynomial_coef_da(ek,ep,eshift,currentdamatrix)\n",
    "dapolymatrix-dapolymatrix2"
   ]
  },
  {
   "cell_type": "code",
   "execution_count": 29,
   "id": "061ba5b3",
   "metadata": {},
   "outputs": [],
   "source": [
    "#let's now calculate the mcp_position_mm and zinner functions\n",
    "\n",
    "def zinner1(ek,angle,dapolymatrix):\n",
    "    #poly(D1, Ek )*(Ang) + 10^-2*poly(D3, Ek )*(Ang)^3 + 10^-4*poly(D5, Ek )*(Ang)^5 + 10^-6*poly(D7, Ek )*(Ang)^7\n",
    "    out = 0\n",
    "    \n",
    "    for i in range(0,dapolymatrix.shape[0]):\n",
    "        \n",
    "        out = out + (10**(-2*i))*(angle**(1+2*i))*np.polyval(dapolymatrix[i][:],ek)\n",
    "        \n",
    "    return out\n",
    "\n",
    "def zinner_diff1(ek,angle,dapolymatrix):\n",
    "    #poly(D1, Ek ) + 3*10^-2*poly(D3, Ek )*(Ang)^2 + 5*10^-4*poly(D5, Ek )*(Ang)^4 + 7*10^-6*poly(D7, Ek )*(Ang)^6\n",
    "    \n",
    "    out = 0\n",
    "    \n",
    "    for i in range(0,dapolymatrix.shape[0]):\n",
    "        \n",
    "        out = out + (10**(-2*i))*(2*(i+1))*(angle**(2*i))*np.polyval(dapolymatrix[i][:],ek)\n",
    "        \n",
    "    return out\n",
    "\n",
    "\n",
    "def mcp_position_mm1(ek,angle,ainner,dapolymatrix):\n",
    "    \n",
    "    mask=np.less_equal(np.abs(angle),ainner)\n",
    "   \n",
    "    #result=np.zeros(angle.shape)#ideally has to be evaluated on a mesh\n",
    "\n",
    "    ainner_vec=np.ones(angle.shape)*ainner\n",
    "    \n",
    "    result = np.where(mask,\n",
    "                      zinner1(ek,angle,dapolymatrix),\n",
    "                      np.sign(angle)*zinner1(ek,angle,dapolymatrix)+\n",
    "                      (np.abs(angle)-ainner_vec)*zinner_diff1(ek,angle,dapolymatrix))\n",
    "   \n",
    "    return result\n",
    "#if np.greater_equal(np.abs(angle),ainner) : #values larger than the ainner have a different treatment\n",
    "#    result= zinner(ek,angle,dapolymatrix)\n",
    "#else:\n",
    "#    result= np.sign(angle)*zinner(ek,angle,dapolymatrix) + (abs(angle)-ainner)*zinner_diff(ek,angle,dapolymatrix)"
   ]
  },
  {
   "cell_type": "code",
   "execution_count": 30,
   "id": "3354d1bb",
   "metadata": {},
   "outputs": [],
   "source": [
    "\n",
    "#mcp_position_mm(1,1,15,dapolymatrix)\n",
    "\n",
    "angles=np.linspace(-18,18,1024)\n",
    "energies=np.linspace(10,20,2048)\n",
    "\n",
    "ainner=15\n",
    "\n",
    "anglemesh,energymesh=np.meshgrid(angles,energies)\n",
    "testimage=mcp_position_mm1(energymesh,anglemesh,15,dapolymatrix)\n",
    "\n"
   ]
  },
  {
   "cell_type": "code",
   "execution_count": 67,
   "id": "a433a9f0",
   "metadata": {},
   "outputs": [],
   "source": [
    "reload(specsanalyzer.convert)\n",
    "from specsanalyzer.convert import mcp_position_mm"
   ]
  },
  {
   "cell_type": "code",
   "execution_count": 73,
   "id": "e7a6ce09",
   "metadata": {},
   "outputs": [],
   "source": [
    "# For the example scan we have the following settings:\n",
    "#'KineticEnergy': '35.500000',\n",
    "# 'PassEnergy': '25.000000',\n",
    "# eRange = -0.066 0.066 # Ep\n",
    " \n",
    "\n",
    "angles=np.linspace(-20,20,1024)\n",
    "\n",
    "energies=np.linspace(35.5-25*0.066,35.5+25*0.066,2048)\n",
    "\n",
    "ainner=15\n",
    "\n",
    "energymesh,anglemesh=np.meshgrid(energies,angles)\n",
    "mask=np.less_equal(np.abs(anglemesh),ainner)\n",
    "testimage=mcp_position_mm(energymesh,anglemesh,15,dapolymatrix)"
   ]
  },
  {
   "cell_type": "code",
   "execution_count": 77,
   "id": "990491c0",
   "metadata": {},
   "outputs": [
    {
     "data": {
      "text/plain": [
       "<matplotlib.colorbar.Colorbar at 0x16698438400>"
      ]
     },
     "execution_count": 77,
     "metadata": {},
     "output_type": "execute_result"
    },
    {
     "data": {
      "image/png": "[encoded data removed]",
      "text/plain": [
       "<Figure size 432x288 with 2 Axes>"
      ]
     },
     "metadata": {
      "needs_background": "light"
     },
     "output_type": "display_data"
    }
   ],
   "source": [
    "from matplotlib import cm\n",
    "\n",
    "colorlevels=np.linspace(-10,10,50)\n",
    "\n",
    "plt.contourf(energies,angles,testimage,cmap=cm.bwr,levels=colorlevels)\n",
    "#plt.xlim(10,20)\n",
    "#plt.ylim(-15,15)\n",
    "#plt.clim(0,5)\n",
    "plt.colorbar()\n",
    "\n",
    "#not sure if this is correct.. but better than before"
   ]
  },
  {
   "cell_type": "code",
   "execution_count": null,
   "id": "4326e67a",
   "metadata": {},
   "outputs": [],
   "source": [
    "\n",
    "\"\"\" NVAR PixelSize, magnification, E_Offset_px, Ang_Offset_px, LensMode, Ek, Ep, De1, aInner\n",
    "\tNVAR EkinLow, EkinHigh, AzimuthLow, AzimuthHigh\n",
    "\tNVAR Binning\n",
    "\tNVAR Edge_pos, Edge_Slope\n",
    "\t\n",
    "\tString Str\n",
    "\t// for full frames, if cropped in program we need to do something else?\n",
    "\tVariable nx_pixel=1376/Binning, ny_pixel=1040/Binning\n",
    "\tMake/O/N=(nx_pixel, ny_pixel) MCP_Position_mm_Matrix=NaN, Angular_Correction=NaN\n",
    "\tMake/O/N=(nx_pixel) w_E, E_Correction=NaN\n",
    "\tMake/O/N=(ny_pixel) w_Ang\n",
    "\n",
    "\tVariable Edge_Coef \"\"\"\n",
    "\n",
    "\n",
    "def calculate_matrix_correction1(ek,\n",
    "                                 angle,\n",
    "                                 ep,\n",
    "                                 dapolymatrix,\n",
    "                                 de1,\n",
    "                                 erange,\n",
    "                                 arange,\n",
    "                                 ainner,\n",
    "                                 nx_pixel,\n",
    "                                 ny_pixel,\n",
    "                                 pixelsize,\n",
    "                                 binning,\n",
    "                                 magnification):\n",
    "    \n",
    "\tnx_bins=int(nx_pixel/binning)\n",
    "\tny_bins=int(ny_pixel/binning)\n",
    "\t# this assumes the erange to be a 2d array -> do we ever need that?\n",
    "\t# erange was defined in the igor procedure Calculate_Da_values\n",
    "\t# it seems to be a constant, written in the calib2d file header\n",
    "\tek_low = ek + erange[0]*ep\n",
    "\tek_high = ek + erange[1]*ep \n",
    "\t# assume an even number of pixels on the detector, seems reasonable\n",
    "\tek_axis = np.linspace(ek_low,ek_high,nx_bins)\n",
    "\t\n",
    "\t#we need the arange as well as 2d array\n",
    "\t#arange was defined in the igor procedure Calculate_Da_values\n",
    "\t#it seems to be a constant, written in the calib2d file header\n",
    "\t#I decided to rename from \"AzimuthLow\"\n",
    "\tangle_low = arange[0]*1.2\n",
    "\tangle_high = arange[1]*1.2\n",
    "\t#check the effect of the additional range x1.2;\n",
    "\t#this is present in the igor code\n",
    "\tangle_axis =  np.linspace(angle_low,angle_high,ny_bins)\n",
    "\n",
    "\t\n",
    " \t#the original program defines 2 waves, \n",
    "\tmcp_position_mm_matrix=np.zeros([nx_bins,ny_bins])\n",
    "\tangular_correction_matrix=np.zeros([nx_bins,ny_bins])\n",
    "\te_correction=np.zeros(ek_axis.shape)\n",
    "\t\n",
    "\t#let's create a meshgrid for vectorized evaluation\n",
    "\tek_mesh,angle_mesh=np.meshgrid(ek_axis,angle_axis)\n",
    " \n",
    "\tmcp_position_mm_matrix=mcp_position_mm(ek_mesh,angle_mesh,\n",
    "\t\t\t\t\t\t\t\t\t\t\t\tainner,dapolymatrix)\n",
    "\t\n",
    "\tAng_Offset_px=0 #add as optional input?\n",
    " \n",
    "\tangular_correction_matrix = ((mcp_position_mm_matrix\n",
    "                              /magnification)/(pixelsize*binning)\n",
    "                              + ny_pixel/2 + Ang_Offset_px)\n",
    "\t\n",
    "\te_correction=1\n",
    " \n",
    "\treturn mcp_position_mm_matrix"
   ]
  },
  {
   "cell_type": "code",
   "execution_count": null,
   "id": "64a39ec2",
   "metadata": {},
   "outputs": [],
   "source": [
    "#Hemispheriscal analyser properties, from calib\n",
    "ek=10\n",
    "ep=20\n",
    "angle=11\n",
    "de1=0.0030\n",
    "erange=np.array([-0.066,0.066])\n",
    "arange=np.array([-15,15])\n",
    "ainner=15\n",
    "\n",
    "\n",
    "#2d camera properties, from manifacturer/user \n",
    "nx_pixel=1376\n",
    "ny_pixel=1040\n",
    "binning=2\n",
    "pixelsize= 0.00645\n",
    "magnification = 4.54\n",
    "wf = 4.2\n",
    "\n",
    "mcp_position_mm_matrix=calculate_matrix_correction1(ek,\n",
    "                                                    angle,\n",
    "                                                    ep,\n",
    "                                                    dapolymatrix,\n",
    "                                                    de1,\n",
    "                                                    erange,\n",
    "                                                    arange,\n",
    "                                                    ainner,\n",
    "                                                    nx_pixel,\n",
    "                                                    ny_pixel,\n",
    "                                                    pixelsize,\n",
    "                                                    binning,\n",
    "                                                    magnification)"
   ]
  },
  {
   "cell_type": "code",
   "execution_count": null,
   "id": "3128707f",
   "metadata": {},
   "outputs": [
    {
     "data": {
      "text/plain": [
       "<matplotlib.colorbar.Colorbar at 0x166697ebe50>"
      ]
     },
     "execution_count": 54,
     "metadata": {},
     "output_type": "execute_result"
    },
    {
     "data": {
      "image/png": "[encoded data removed]",
      "text/plain": [
       "<Figure size 432x288 with 2 Axes>"
      ]
     },
     "metadata": {
      "needs_background": "light"
     },
     "output_type": "display_data"
    }
   ],
   "source": [
    "from matplotlib import cm\n",
    "plt.contourf(mcp_position_mm_matrix,cmap=cm.bwr)\n",
    "plt.colorbar()"
   ]
  },
  {
   "cell_type": "code",
   "execution_count": 72,
   "id": "7408f1e8",
   "metadata": {},
   "outputs": [
    {
     "data": {
      "text/plain": [
       "{'ScanType': 'delay',\n",
       " 'Averages': '10',\n",
       " 'Repetitions': '1000',\n",
       " 'LensMode': 'WideAngleMode',\n",
       " 'VoltageRange': '400V',\n",
       " 'Exposure': '200',\n",
       " 'Gain': '0',\n",
       " 'Binning': '2',\n",
       " 'ROIbottom': '33',\n",
       " 'ROItop': '1',\n",
       " 'ROIright': '43',\n",
       " 'ROIleft': '1',\n",
       " 'DarkImg': '1',\n",
       " 'KineticEnergy': '35.500000',\n",
       " 'PassEnergy': '25.000000',\n",
       " 'CoilCurrent': '3.000000',\n",
       " 'WorkFunction': '0.000000',\n",
       " 'DetectorVoltage': '1350.000000',\n",
       " 'ScreenVoltage': '3000.000000',\n",
       " 'ConversionVoltage': '-18.000000',\n",
       " 'FocusDisplacement1': '0.001500',\n",
       " 'FocusDisplacement2': '0.001500',\n",
       " 'TimeZero': '281.044000'}"
      ]
     },
     "execution_count": 72,
     "metadata": {},
     "output_type": "execute_result"
    }
   ],
   "source": [
    "\"\"\" //~~~~~~~~~~~~~~~~~All the parameters needed to do the angular correction\n",
    "//\tLensMode\t\t\tfrom user\n",
    "//\tEk\t\t\t\t\tfrom user\n",
    "//\tEp\t\t\t\t\tfrom user\n",
    "//\tE_Offset_px\t\t\tfrom user\n",
    "//\tAng_Offset_px\t\tfrom user\n",
    "//\tBinning\t\t\t\tfrom user\n",
    "//\tEdge_pos\t\t\tfrom user\n",
    "//\tEdge_Slope\t\t\tfrom user\n",
    "//\teShift\t\t\t\tfrom phoibos100.Calib2D\n",
    "//\teRange\t\t\t\tfrom phoibos100.Calib2D\n",
    "//\taRange\t\t\t\tfrom phoibos100.Calib2D\n",
    "//\tDe1\t\t\t\t\tfrom phoibos100.Calib2D\n",
    "//\taInner\t\t\t\tfrom phoibos100.Calib2D\n",
    "//\tDa3 - Da7\t\t\tfrom phoibos100.Calib2D\n",
    "//\tWF\t\t\t\t\t4.2eV or from CCDAcquire\n",
    "//\tPixelSize\t\t\t0.00645 or from CCDAcquire\n",
    "//\tmagnification\t\t\t4.54 or from CCDAcquire\n",
    "//~~~~~~~~~~~~~~~~~All the parameters needed to do the angular correction \"\"\"\n",
    "\n",
    "\n",
    "specsdictionary = {\n",
    "  \"lensmode\": \"WAM\",\n",
    "  \"ek\": 12,\n",
    "  \"ep\": 20,\n",
    "  \"E_Offset_px\" : 12\n",
    "}\n",
    "specsdictionary[\"lensmode\"]\n",
    "\n",
    "\n",
    "\n",
    "#here's a good way to create a dictionary from the info txt\n",
    "def get_pair(line):\n",
    "    key, sep, value = line.strip().partition(\":\")\n",
    "    return key, value\n",
    "\n",
    "with open(infofilename) as fd:    \n",
    "    d = dict(get_pair(line) for line in fd)\n",
    "\n",
    "d\n",
    "\n",
    "\n",
    "\n",
    "\n",
    "\n",
    "\n"
   ]
  },
  {
   "cell_type": "code",
   "execution_count": 163,
   "id": "51ebc4cc",
   "metadata": {},
   "outputs": [
    {
     "data": {
      "text/plain": [
       "35.5"
      ]
     },
     "execution_count": 163,
     "metadata": {},
     "output_type": "execute_result"
    }
   ],
   "source": [
    "ek=float(d['KineticEnergy'])\n",
    "ek"
   ]
  },
  {
   "cell_type": "code",
   "execution_count": 227,
   "id": "2a586bd5",
   "metadata": {},
   "outputs": [],
   "source": [
    "#the package regex seems to be the one for analysing the calib2d\n",
    "#check this out\n",
    "#  https://stackoverflow.com/questions/4146009/python-get-list-indexes-using-regular-expression\n",
    "import re\n",
    "h = open(calib2dfilename)\n",
    "lines = h.readlines()\n",
    "\n",
    "import re\n",
    "fruit_list = ['raspberry', 'apple', 'strawberry']\n",
    "berry_idx = [i for i, item in enumerate(fruit_list) if re.search('berry$', item)]\n",
    "\n"
   ]
  },
  {
   "cell_type": "code",
   "execution_count": 228,
   "id": "15027904",
   "metadata": {},
   "outputs": [
    {
     "data": {
      "text/plain": [
       "0.1"
      ]
     },
     "execution_count": 228,
     "metadata": {},
     "output_type": "execute_result"
    }
   ],
   "source": [
    "lines_wam_idx= [i for i, item in enumerate(lines) if re.search('WideAngleMode', item)]\n",
    "#for i in lines_wam_idx:\n",
    "wamline=lines[lines_wam_idx[2]]\n",
    "wamlinestrip=wamline[:-2].replace(\"]\", \"\")\n",
    "wamlinestrip=wamlinestrip.replace(\"[\", \"\")\n",
    "rr= float(wamlinestrip.split(\"@\")[1])\n",
    "rr\n"
   ]
  },
  {
   "cell_type": "code",
   "execution_count": 229,
   "id": "e0dae642",
   "metadata": {},
   "outputs": [],
   "source": [
    "rr=[]\n",
    "lines_wam_idx= [i for i, item in enumerate(lines) if re.search('WideAngleMode', item)]\n",
    "for i in lines_wam_idx:\n",
    "    wamline=lines[i]\n",
    "    if (wamline.find(\"@\")!=-1):\n",
    "        wamlinestrip=wamline[:-2].replace(\"]\", \"\")\n",
    "        wamlinestrip=wamlinestrip.replace(\"[\", \"\")\n",
    "        #print(wamlinestrip.split(\"@\"))\n",
    "        rr.append(float(wamlinestrip.split(\"@\")[1]))\n",
    "    \n",
    "    \n",
    "    \n",
    "    \n",
    "rr_array=np.array(rr)"
   ]
  },
  {
   "cell_type": "code",
   "execution_count": 151,
   "id": "42da82d9",
   "metadata": {},
   "outputs": [],
   "source": [
    "rr=[]\n",
    "lines_wam_idx= [i for i, item in enumerate(lines) if (re.search('WideAngleMode', item) and not(re.search('Super', item)))]\n",
    "\n",
    "\n",
    "for i in range(1,len(lines_wam_idx)-1,1):\n",
    "    \n",
    "    currentblock_idx=lines_wam_idx[i]\n",
    "    wamline=lines[currentblock_idx]\n",
    "    if (wamline.find(\"@\")!=-1):\n",
    "        wamlinestrip=wamline[:-2].replace(\"]\", \"\")\n",
    "        wamlinestrip=wamlinestrip.replace(\"[\", \"\")\n",
    "        rr.append(float(wamlinestrip.split(\"@\")[1]))\n",
    "        \n",
    "    #here we need to check \n",
    "    if (i+1)<=len(lines_wam_idx):\n",
    "        nextblock_idx=lines_wam_idx[i+1]\n",
    "    else:\n",
    "        nextblock_idx=lines_wam_idx[i]\n",
    "        \n",
    "    if (wamline.find(\"defaults\")!=-1):\n",
    "        # default mode: loop until next section\n",
    "        default=[]\n",
    "        for j in range(currentblock_idx,nextblock_idx,1):\n",
    "            default.append(lines[j])\n",
    "    else:\n",
    "        currentblock=[]\n",
    "        for j in range(currentblock_idx+1,nextblock_idx-1,1):\n",
    "            currentblock.append(lines[j])\n",
    "    \n",
    "    \n",
    "rr_array=np.array(rr)"
   ]
  },
  {
   "cell_type": "code",
   "execution_count": 152,
   "id": "93d82076",
   "metadata": {},
   "outputs": [
    {
     "data": {
      "text/plain": [
       "['[WideAngleMode defaults]\\n',\n",
       " 'aUnit  = \"deg\"\\n',\n",
       " 'aRange = -15 15\\n',\n",
       " 'eShift = -0.05 0 0.05 # Ep\\n',\n",
       " 'aGrid  = 1\\n',\n",
       " '\\n']"
      ]
     },
     "execution_count": 152,
     "metadata": {},
     "output_type": "execute_result"
    }
   ],
   "source": [
    "default"
   ]
  },
  {
   "cell_type": "code",
   "execution_count": 153,
   "id": "7f0adec0",
   "metadata": {},
   "outputs": [
    {
     "data": {
      "text/plain": [
       "['aInner = 14 # deg\\n',\n",
       " 'Da1 = 0.783 0.794 0.7933 # mm_z/deg^1\\n',\n",
       " 'Da3 = 0.06895 0.1055 0.1451 # mm_z/deg^3\\n',\n",
       " 'Da5 = -0.08245 -0.09305 -0.1034 # mm_z/deg^5\\n',\n",
       " 'Da7 = 0.009759 0.01415 0.0188 # mm_z/deg^7\\n']"
      ]
     },
     "execution_count": 153,
     "metadata": {},
     "output_type": "execute_result"
    }
   ],
   "source": [
    "currentblock"
   ]
  },
  {
   "cell_type": "code",
   "execution_count": 279,
   "id": "c3294e8f",
   "metadata": {},
   "outputs": [],
   "source": [
    "reload(specsanalyzer.convert)    \n",
    "from specsanalyzer.convert import get_scanparameters_fromcalib2d\n",
    "from specsanalyzer.convert import bisection\n",
    "from specsanalyzer.convert import second_closest_rr\n",
    "\n",
    "from specsanalyzer.convert import get_rr_da\n",
    "from specsanalyzer.convert import get_da_block\n"
   ]
  },
  {
   "cell_type": "code",
   "execution_count": 221,
   "id": "c64af2a2",
   "metadata": {},
   "outputs": [
    {
     "data": {
      "text/plain": [
       "array([ 0.1 ,  0.2 ,  0.3 ,  0.35,  0.42,  0.5 ,  0.55,  0.6 ,  0.7 ,\n",
       "        0.75,  0.82,  0.9 ,  0.95,  1.  ,  1.5 ,  2.  ,  3.35,  3.42,\n",
       "        3.5 ,  3.75,  4.  ,  4.5 ,  5.  ,  5.5 ,  6.  ,  7.  ,  7.6 ,\n",
       "        8.  ,  9.  ,  9.25,  9.5 ,  9.75, 10.  ,  0.06,  0.08,  0.1 ,\n",
       "        0.15,  0.2 ,  0.23,  0.3 ,  0.4 ,  0.5 ,  0.6 ,  0.64,  0.7 ,\n",
       "        0.8 ,  1.  ,  1.4 ,  1.7 ,  2.2 ,  2.5 ,  2.7 ,  3.  ,  4.  ,\n",
       "        5.  ,  6.  ,  9.  ,  9.5 , 10.  ])"
      ]
     },
     "execution_count": 221,
     "metadata": {},
     "output_type": "execute_result"
    }
   ],
   "source": [
    "rr=get_scanparameters_fromcalib2d(infofilename,calib2dfilename)\n",
    "rr"
   ]
  },
  {
   "cell_type": "code",
   "execution_count": 222,
   "id": "6118eb73",
   "metadata": {},
   "outputs": [
    {
     "data": {
      "text/plain": [
       "-1"
      ]
     },
     "execution_count": 222,
     "metadata": {},
     "output_type": "execute_result"
    }
   ],
   "source": [
    "scanrr=0.01\n",
    "bisection(rr,scanrr)"
   ]
  },
  {
   "cell_type": "code",
   "execution_count": 205,
   "id": "8abc5f11",
   "metadata": {},
   "outputs": [
    {
     "data": {
      "text/plain": [
       "9.5"
      ]
     },
     "execution_count": 205,
     "metadata": {},
     "output_type": "execute_result"
    }
   ],
   "source": [
    "scanrr=0.01\n",
    "rr[second_closest_rr(scanrr,rr,bisection(rr,scanrr))]\n"
   ]
  },
  {
   "cell_type": "code",
   "execution_count": 223,
   "id": "4a104d24",
   "metadata": {},
   "outputs": [
    {
     "name": "stdout",
     "output_type": "stream",
     "text": [
      "0.95 1.0 1.5\n"
     ]
    }
   ],
   "source": [
    "print(rr[12],rr[13],rr[14])"
   ]
  },
  {
   "cell_type": "code",
   "execution_count": 276,
   "id": "b154cb8d",
   "metadata": {},
   "outputs": [
    {
     "data": {
      "text/plain": [
       "([1369], [1376])"
      ]
     },
     "execution_count": 276,
     "metadata": {},
     "output_type": "execute_result"
    }
   ],
   "source": [
    "get_blocks_from_rr(lines,\"WideAngleMode\",rr[12],rr[13])"
   ]
  },
  {
   "cell_type": "code",
   "execution_count": 272,
   "id": "d3d44b1d",
   "metadata": {},
   "outputs": [
    {
     "name": "stdout",
     "output_type": "stream",
     "text": [
      "['aInner', '=', '7', '#', 'deg\\n']\n",
      "['Da1', '=', '1.019', '1.273', '1.465', '#', 'mm_z/deg^1\\n']\n",
      "['Da3', '=', '0.004101', '0.05662', '0.1341', '#', 'mm_z/deg^3\\n']\n",
      "['Da5', '=', '-0.02951', '0.003854', '0.02751', '#', 'mm_z/deg^5\\n']\n",
      "['Da7', '=', '0.01513', '-0.02309', '-0.03414', '#', 'mm_z/deg^7\\n']\n"
     ]
    },
    {
     "data": {
      "text/plain": [
       "array([[ 7.000e+00,  7.000e+00,  7.000e+00],\n",
       "       [ 1.019e+00,  1.273e+00,  1.465e+00],\n",
       "       [ 4.101e-03,  5.662e-02,  1.341e-01],\n",
       "       [-2.951e-02,  3.854e-03,  2.751e-02],\n",
       "       [ 1.513e-02, -2.309e-02, -3.414e-02]])"
      ]
     },
     "execution_count": 272,
     "metadata": {},
     "output_type": "execute_result"
    }
   ],
   "source": [
    "get_da_block(lines,46,5)"
   ]
  },
  {
   "cell_type": "code",
   "execution_count": 329,
   "id": "cf2934f2",
   "metadata": {},
   "outputs": [
    {
     "name": "stdout",
     "output_type": "stream",
     "text": [
      "[1509]\n",
      "[1277, 1279, 1285, 1292, 1299, 1306, 1313, 1320, 1327, 1334, 1341, 1348, 1355, 1362, 1369, 1376, 1383, 1390, 1397, 1404, 1411, 1418, 1425, 1432, 1439, 1446, 1453, 1460, 1467, 1474, 1481, 1488, 1495, 1502, 1509]\n",
      "(33, 5, 3)\n",
      "1\n"
     ]
    }
   ],
   "source": [
    "def get_da_block1(lines,blockstart,blocklenght):\n",
    "    damatrix=np.zeros([5,3])\n",
    "    for p,q in enumerate(range(blockstart+1,blockstart+1+blocklenght,1)):\n",
    "        \n",
    "        linesplit=lines[q].split(\" \")\n",
    "        \n",
    "        #print(linesplit) \n",
    "        \n",
    "        if linesplit[0]==\"aInner\":\n",
    "            damatrix[p][:]=float(linesplit[2])\n",
    "        else:\n",
    "            for i,j in enumerate(range(2,5,1)):\n",
    "                damatrix[p][i]=float(linesplit[j])\n",
    "    return damatrix\n",
    "\n",
    "def get_rr_da1(lines,modestring):\n",
    "    rr=[]\n",
    "    \n",
    "    if modestring==\"WideAngleMode\":\n",
    "        lines_idx= [i for i, item in enumerate(lines)\n",
    "                    if ( re.search(modestring, item) and \n",
    "                        not(re.search(\"Super\", item) ) )]\n",
    "    else: \n",
    "        lines_idx= [i for i, item in enumerate(lines) \n",
    "                    if re.search(modestring, item)]\n",
    "    \n",
    "    block_start_list=[]    \n",
    "    for i in lines_idx:\n",
    "        wamline=lines[i]\n",
    "        \n",
    "        if (wamline.find(\"@\")!=-1):\n",
    "            wamlinestrip=wamline[:-2].replace(\"]\", \"\")\n",
    "            wamlinestrip=wamlinestrip.replace(\"[\", \"\")\n",
    "            rr.append(float(wamlinestrip.split(\"@\")[1]))\n",
    "            block_start_list.append(i)\n",
    "        \n",
    "    print(block_start_list)\n",
    "    print(lines_idx)\n",
    "    # here we should have a get block function\n",
    "    \n",
    "    #maybe dangerous?\n",
    "    if len(block_start_list)>1:\n",
    "        block_lenght=block_start_list[1]-block_start_list[0]-2\n",
    "    else: \n",
    "        block_lenght=2\n",
    "        \n",
    "    rr_array=np.array(rr)\n",
    "    # here we make a (rr lenght)x5x3 matrix \n",
    "    da_matrix_full=np.zeros([rr_array.shape[0],5,3])\n",
    "    print(da_matrix_full.shape)\n",
    "    print(len(block_start_list)    )\n",
    "    for i,start_index in enumerate(block_start_list):\n",
    "        #print(i)\n",
    "        #print(type(start_index))\n",
    "        block_da_matrix=get_da_block1(lines,start_index,block_lenght)\n",
    "        #print(block_da_matrix)\n",
    "        da_matrix_full[i][:][:]=block_da_matrix[:][:]\n",
    "         \n",
    "    return rr_array, da_matrix_full\n",
    "\n",
    "rr,da=get_rr_da1(lines,\"WideAngleMode\")"
   ]
  },
  {
   "cell_type": "code",
   "execution_count": 325,
   "id": "586604ea",
   "metadata": {},
   "outputs": [
    {
     "data": {
      "text/plain": [
       "array([[[14.    , 14.    , 14.    ],\n",
       "        [ 0.7868,  0.7968,  0.7953],\n",
       "        [ 0.    ,  0.    ,  0.    ],\n",
       "        [ 0.    ,  0.    ,  0.    ],\n",
       "        [ 0.    ,  0.    ,  0.    ]],\n",
       "\n",
       "       [[ 0.    ,  0.    ,  0.    ],\n",
       "        [ 0.    ,  0.    ,  0.    ],\n",
       "        [ 0.    ,  0.    ,  0.    ],\n",
       "        [ 0.    ,  0.    ,  0.    ],\n",
       "        [ 0.    ,  0.    ,  0.    ]],\n",
       "\n",
       "       [[ 0.    ,  0.    ,  0.    ],\n",
       "        [ 0.    ,  0.    ,  0.    ],\n",
       "        [ 0.    ,  0.    ,  0.    ],\n",
       "        [ 0.    ,  0.    ,  0.    ],\n",
       "        [ 0.    ,  0.    ,  0.    ]],\n",
       "\n",
       "       [[ 0.    ,  0.    ,  0.    ],\n",
       "        [ 0.    ,  0.    ,  0.    ],\n",
       "        [ 0.    ,  0.    ,  0.    ],\n",
       "        [ 0.    ,  0.    ,  0.    ],\n",
       "        [ 0.    ,  0.    ,  0.    ]],\n",
       "\n",
       "       [[ 0.    ,  0.    ,  0.    ],\n",
       "        [ 0.    ,  0.    ,  0.    ],\n",
       "        [ 0.    ,  0.    ,  0.    ],\n",
       "        [ 0.    ,  0.    ,  0.    ],\n",
       "        [ 0.    ,  0.    ,  0.    ]],\n",
       "\n",
       "       [[ 0.    ,  0.    ,  0.    ],\n",
       "        [ 0.    ,  0.    ,  0.    ],\n",
       "        [ 0.    ,  0.    ,  0.    ],\n",
       "        [ 0.    ,  0.    ,  0.    ],\n",
       "        [ 0.    ,  0.    ,  0.    ]],\n",
       "\n",
       "       [[ 0.    ,  0.    ,  0.    ],\n",
       "        [ 0.    ,  0.    ,  0.    ],\n",
       "        [ 0.    ,  0.    ,  0.    ],\n",
       "        [ 0.    ,  0.    ,  0.    ],\n",
       "        [ 0.    ,  0.    ,  0.    ]],\n",
       "\n",
       "       [[ 0.    ,  0.    ,  0.    ],\n",
       "        [ 0.    ,  0.    ,  0.    ],\n",
       "        [ 0.    ,  0.    ,  0.    ],\n",
       "        [ 0.    ,  0.    ,  0.    ],\n",
       "        [ 0.    ,  0.    ,  0.    ]],\n",
       "\n",
       "       [[ 0.    ,  0.    ,  0.    ],\n",
       "        [ 0.    ,  0.    ,  0.    ],\n",
       "        [ 0.    ,  0.    ,  0.    ],\n",
       "        [ 0.    ,  0.    ,  0.    ],\n",
       "        [ 0.    ,  0.    ,  0.    ]],\n",
       "\n",
       "       [[ 0.    ,  0.    ,  0.    ],\n",
       "        [ 0.    ,  0.    ,  0.    ],\n",
       "        [ 0.    ,  0.    ,  0.    ],\n",
       "        [ 0.    ,  0.    ,  0.    ],\n",
       "        [ 0.    ,  0.    ,  0.    ]],\n",
       "\n",
       "       [[ 0.    ,  0.    ,  0.    ],\n",
       "        [ 0.    ,  0.    ,  0.    ],\n",
       "        [ 0.    ,  0.    ,  0.    ],\n",
       "        [ 0.    ,  0.    ,  0.    ],\n",
       "        [ 0.    ,  0.    ,  0.    ]],\n",
       "\n",
       "       [[ 0.    ,  0.    ,  0.    ],\n",
       "        [ 0.    ,  0.    ,  0.    ],\n",
       "        [ 0.    ,  0.    ,  0.    ],\n",
       "        [ 0.    ,  0.    ,  0.    ],\n",
       "        [ 0.    ,  0.    ,  0.    ]],\n",
       "\n",
       "       [[ 0.    ,  0.    ,  0.    ],\n",
       "        [ 0.    ,  0.    ,  0.    ],\n",
       "        [ 0.    ,  0.    ,  0.    ],\n",
       "        [ 0.    ,  0.    ,  0.    ],\n",
       "        [ 0.    ,  0.    ,  0.    ]],\n",
       "\n",
       "       [[ 0.    ,  0.    ,  0.    ],\n",
       "        [ 0.    ,  0.    ,  0.    ],\n",
       "        [ 0.    ,  0.    ,  0.    ],\n",
       "        [ 0.    ,  0.    ,  0.    ],\n",
       "        [ 0.    ,  0.    ,  0.    ]],\n",
       "\n",
       "       [[ 0.    ,  0.    ,  0.    ],\n",
       "        [ 0.    ,  0.    ,  0.    ],\n",
       "        [ 0.    ,  0.    ,  0.    ],\n",
       "        [ 0.    ,  0.    ,  0.    ],\n",
       "        [ 0.    ,  0.    ,  0.    ]],\n",
       "\n",
       "       [[ 0.    ,  0.    ,  0.    ],\n",
       "        [ 0.    ,  0.    ,  0.    ],\n",
       "        [ 0.    ,  0.    ,  0.    ],\n",
       "        [ 0.    ,  0.    ,  0.    ],\n",
       "        [ 0.    ,  0.    ,  0.    ]],\n",
       "\n",
       "       [[ 0.    ,  0.    ,  0.    ],\n",
       "        [ 0.    ,  0.    ,  0.    ],\n",
       "        [ 0.    ,  0.    ,  0.    ],\n",
       "        [ 0.    ,  0.    ,  0.    ],\n",
       "        [ 0.    ,  0.    ,  0.    ]],\n",
       "\n",
       "       [[ 0.    ,  0.    ,  0.    ],\n",
       "        [ 0.    ,  0.    ,  0.    ],\n",
       "        [ 0.    ,  0.    ,  0.    ],\n",
       "        [ 0.    ,  0.    ,  0.    ],\n",
       "        [ 0.    ,  0.    ,  0.    ]],\n",
       "\n",
       "       [[ 0.    ,  0.    ,  0.    ],\n",
       "        [ 0.    ,  0.    ,  0.    ],\n",
       "        [ 0.    ,  0.    ,  0.    ],\n",
       "        [ 0.    ,  0.    ,  0.    ],\n",
       "        [ 0.    ,  0.    ,  0.    ]],\n",
       "\n",
       "       [[ 0.    ,  0.    ,  0.    ],\n",
       "        [ 0.    ,  0.    ,  0.    ],\n",
       "        [ 0.    ,  0.    ,  0.    ],\n",
       "        [ 0.    ,  0.    ,  0.    ],\n",
       "        [ 0.    ,  0.    ,  0.    ]],\n",
       "\n",
       "       [[ 0.    ,  0.    ,  0.    ],\n",
       "        [ 0.    ,  0.    ,  0.    ],\n",
       "        [ 0.    ,  0.    ,  0.    ],\n",
       "        [ 0.    ,  0.    ,  0.    ],\n",
       "        [ 0.    ,  0.    ,  0.    ]],\n",
       "\n",
       "       [[ 0.    ,  0.    ,  0.    ],\n",
       "        [ 0.    ,  0.    ,  0.    ],\n",
       "        [ 0.    ,  0.    ,  0.    ],\n",
       "        [ 0.    ,  0.    ,  0.    ],\n",
       "        [ 0.    ,  0.    ,  0.    ]],\n",
       "\n",
       "       [[ 0.    ,  0.    ,  0.    ],\n",
       "        [ 0.    ,  0.    ,  0.    ],\n",
       "        [ 0.    ,  0.    ,  0.    ],\n",
       "        [ 0.    ,  0.    ,  0.    ],\n",
       "        [ 0.    ,  0.    ,  0.    ]],\n",
       "\n",
       "       [[ 0.    ,  0.    ,  0.    ],\n",
       "        [ 0.    ,  0.    ,  0.    ],\n",
       "        [ 0.    ,  0.    ,  0.    ],\n",
       "        [ 0.    ,  0.    ,  0.    ],\n",
       "        [ 0.    ,  0.    ,  0.    ]],\n",
       "\n",
       "       [[ 0.    ,  0.    ,  0.    ],\n",
       "        [ 0.    ,  0.    ,  0.    ],\n",
       "        [ 0.    ,  0.    ,  0.    ],\n",
       "        [ 0.    ,  0.    ,  0.    ],\n",
       "        [ 0.    ,  0.    ,  0.    ]],\n",
       "\n",
       "       [[ 0.    ,  0.    ,  0.    ],\n",
       "        [ 0.    ,  0.    ,  0.    ],\n",
       "        [ 0.    ,  0.    ,  0.    ],\n",
       "        [ 0.    ,  0.    ,  0.    ],\n",
       "        [ 0.    ,  0.    ,  0.    ]],\n",
       "\n",
       "       [[ 0.    ,  0.    ,  0.    ],\n",
       "        [ 0.    ,  0.    ,  0.    ],\n",
       "        [ 0.    ,  0.    ,  0.    ],\n",
       "        [ 0.    ,  0.    ,  0.    ],\n",
       "        [ 0.    ,  0.    ,  0.    ]],\n",
       "\n",
       "       [[ 0.    ,  0.    ,  0.    ],\n",
       "        [ 0.    ,  0.    ,  0.    ],\n",
       "        [ 0.    ,  0.    ,  0.    ],\n",
       "        [ 0.    ,  0.    ,  0.    ],\n",
       "        [ 0.    ,  0.    ,  0.    ]],\n",
       "\n",
       "       [[ 0.    ,  0.    ,  0.    ],\n",
       "        [ 0.    ,  0.    ,  0.    ],\n",
       "        [ 0.    ,  0.    ,  0.    ],\n",
       "        [ 0.    ,  0.    ,  0.    ],\n",
       "        [ 0.    ,  0.    ,  0.    ]],\n",
       "\n",
       "       [[ 0.    ,  0.    ,  0.    ],\n",
       "        [ 0.    ,  0.    ,  0.    ],\n",
       "        [ 0.    ,  0.    ,  0.    ],\n",
       "        [ 0.    ,  0.    ,  0.    ],\n",
       "        [ 0.    ,  0.    ,  0.    ]],\n",
       "\n",
       "       [[ 0.    ,  0.    ,  0.    ],\n",
       "        [ 0.    ,  0.    ,  0.    ],\n",
       "        [ 0.    ,  0.    ,  0.    ],\n",
       "        [ 0.    ,  0.    ,  0.    ],\n",
       "        [ 0.    ,  0.    ,  0.    ]],\n",
       "\n",
       "       [[ 0.    ,  0.    ,  0.    ],\n",
       "        [ 0.    ,  0.    ,  0.    ],\n",
       "        [ 0.    ,  0.    ,  0.    ],\n",
       "        [ 0.    ,  0.    ,  0.    ],\n",
       "        [ 0.    ,  0.    ,  0.    ]],\n",
       "\n",
       "       [[ 0.    ,  0.    ,  0.    ],\n",
       "        [ 0.    ,  0.    ,  0.    ],\n",
       "        [ 0.    ,  0.    ,  0.    ],\n",
       "        [ 0.    ,  0.    ,  0.    ],\n",
       "        [ 0.    ,  0.    ,  0.    ]]])"
      ]
     },
     "execution_count": 325,
     "metadata": {},
     "output_type": "execute_result"
    }
   ],
   "source": [
    "da"
   ]
  },
  {
   "cell_type": "code",
   "execution_count": 323,
   "id": "e800945b",
   "metadata": {},
   "outputs": [
    {
     "data": {
      "text/plain": [
       "array([[0., 0., 0., 0.],\n",
       "       [0., 0., 0., 0.],\n",
       "       [0., 0., 0., 0.]])"
      ]
     },
     "execution_count": 323,
     "metadata": {},
     "output_type": "execute_result"
    }
   ],
   "source": [
    "test[3][:][:]"
   ]
  },
  {
   "cell_type": "code",
   "execution_count": 297,
   "id": "462d96d4",
   "metadata": {},
   "outputs": [
    {
     "data": {
      "text/plain": [
       "array([[[0., 0., 0., 0., 0.],\n",
       "        [0., 0., 0., 0., 0.],\n",
       "        [0., 0., 0., 0., 0.],\n",
       "        [0., 0., 0., 0., 0.]],\n",
       "\n",
       "       [[1., 1., 1., 1., 1.],\n",
       "        [1., 1., 1., 1., 1.],\n",
       "        [1., 1., 1., 1., 1.],\n",
       "        [1., 1., 1., 1., 1.]],\n",
       "\n",
       "       [[0., 0., 0., 0., 0.],\n",
       "        [0., 0., 0., 0., 0.],\n",
       "        [0., 0., 0., 0., 0.],\n",
       "        [0., 0., 0., 0., 0.]]])"
      ]
     },
     "execution_count": 297,
     "metadata": {},
     "output_type": "execute_result"
    }
   ],
   "source": [
    "test"
   ]
  },
  {
   "cell_type": "code",
   "execution_count": null,
   "id": "1fc1fbaa",
   "metadata": {},
   "outputs": [],
   "source": []
  }
 ],
 "metadata": {
  "kernelspec": {
   "display_name": "Python 3.9.12 ('base')",
   "language": "python",
   "name": "python3"
  },
  "language_info": {
   "codemirror_mode": {
    "name": "ipython",
    "version": 3
   },
   "file_extension": ".py",
   "mimetype": "text/x-python",
   "name": "python",
   "nbconvert_exporter": "python",
   "pygments_lexer": "ipython3",
   "version": "3.9.12"
  },
  "vscode": {
   "interpreter": {
    "hash": "ad2bdc8ecc057115af97d19610ffacc2b4e99fae6737bb82f5d7fb13d2f2c186"
   }
  }
 },
 "nbformat": 4,
 "nbformat_minor": 5
}
