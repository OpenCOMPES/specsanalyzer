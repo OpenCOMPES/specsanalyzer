{
 "cells": [
  {
   "cell_type": "markdown",
   "id": "864500e2",
   "metadata": {},
   "source": [
    "TESTING CONVERT FUNCTIONS FOR PHOIBOS 150 DATA, COMPARISON WITH THE IGOR DATA\n",
    "\n",
    "\n",
    "USES THE FOLDER dataEPFL/R1932\n",
    "\n",
    "the folder contains all the igor output arrays for comparison\n",
    "\n"
   ]
  },
  {
   "cell_type": "code",
   "execution_count": null,
   "id": "2f2ab5b4",
   "metadata": {},
   "outputs": [],
   "source": [
    "# This uses the autoreload function form ipynb, useful to reload modificaiton of the source code\n",
    "%load_ext autoreload\n",
    "%autoreload 2"
   ]
  },
  {
   "cell_type": "code",
   "execution_count": null,
   "id": "45fafb84",
   "metadata": {},
   "outputs": [],
   "source": [
    "from specsanalyzer import SpecsAnalyzer\n",
    "import matplotlib.pyplot as plt\n",
    "import xarray as xr\n",
    "import numpy as np\n",
    "\n",
    "spa = SpecsAnalyzer()\n",
    "\n",
    "import os\n",
    "\n",
    "testdatapath = \"../tests/data/dataEPFL/R9132/\"\n",
    "filelist = os.listdir(testdatapath)\n",
    "print(\"Data path= \", testdatapath)\n",
    "# this folders contains the AVG folder with the data, an info.txt vector and a scan vector"
   ]
  },
  {
   "cell_type": "code",
   "execution_count": null,
   "id": "6c91b572",
   "metadata": {},
   "outputs": [],
   "source": [
    "# get the raw image name from the list\n",
    "rawimagelist = [i for i in filelist if \"RAWDATA\" in i]\n",
    "raw_image_name = os.path.join(testdatapath, rawimagelist[0])\n",
    "print(raw_image_name) \n",
    "\n",
    "with open(raw_image_name) as file:\n",
    "    tsv_data = np.loadtxt(file, delimiter=\"\\t\")\n",
    "plt.figure()\n",
    "h = plt.contourf(tsv_data)\n",
    "plt.colorbar()\n",
    "print(\"The shape of the raw data is: \", tsv_data.shape)\n",
    "# plt.xlim(120,150)\n",
    "# plt.ylim(150,200)"
   ]
  },
  {
   "cell_type": "code",
   "execution_count": null,
   "id": "149af2f2",
   "metadata": {},
   "outputs": [],
   "source": [
    "from specsanalyzer import SpecsAnalyzer\n",
    "import matplotlib.pyplot as plt\n",
    "import xarray as xr\n",
    "import numpy as np\n",
    "\n",
    "spa = SpecsAnalyzer()\n",
    "scanparameters = spa.config"
   ]
  },
  {
   "cell_type": "code",
   "execution_count": null,
   "id": "61888c46",
   "metadata": {},
   "outputs": [],
   "source": [
    "# load the module and import functions for reading the parameter table from the calib2d file\n",
    "import specsanalyzer.convert\n",
    "\n",
    "# let's get all the functions to be tested\n",
    "from specsanalyzer.convert import get_damatrix_fromcalib2d\n",
    "from specsanalyzer.convert import get_rr_da\n",
    "from specsanalyzer.convert import calculate_polynomial_coef_da\n",
    "from specsanalyzer.convert import mcp_position_mm"
   ]
  },
  {
   "cell_type": "code",
   "execution_count": null,
   "id": "aa27895f",
   "metadata": {},
   "outputs": [],
   "source": [
    "from specsanalyzer import SpecsAnalyzer\n",
    "import matplotlib.pyplot as plt\n",
    "import xarray as xr\n",
    "import numpy as np\n",
    "\n",
    "# call an instance of the class\n",
    "spa = SpecsAnalyzer()\n",
    "# io function used to get the calib 2d file in the class\n",
    "calib2d_dictionary = specsanalyzer.io.parse_calib2d_to_dict(\n",
    "    \"../specsanalyzer/config/phoibos150.calib2d\"\n",
    ")\n",
    "# calib2d_dictionary=specsanalyzer.io.parse_calib2d_to_dict('./config/phoibos150.calib2d')\n",
    "\n",
    "# settings function used to get  configuration files\n",
    "config_file = specsanalyzer.settings.parse_config(calib2d_dictionary)\n",
    "\n",
    "\n",
    "# get the das  and the rr vector\n",
    "# rr_array, da_matrix=  specsanalyzer.convert.get_rr_da(\"WideAngleMode\", config_file)"
   ]
  },
  {
   "cell_type": "code",
   "execution_count": null,
   "id": "59ee269d",
   "metadata": {},
   "outputs": [],
   "source": [
    "# Load the IGOR txt Di_coeff values for comparison\n",
    "igordatapath = \"../tests/data/dataEPFL/R9132\"\n",
    "igordatapath_content = os.listdir(igordatapath)\n",
    "\n",
    "# get the fitted coefficients\n",
    "Di_coef_list = [i for i in igordatapath_content if \"_coef\" in i]\n",
    "\n",
    "igor_D_coef_list = []\n",
    "for i, name in enumerate(sorted(Di_coef_list)):\n",
    "    tmp_name = os.path.join(igordatapath, name)\n",
    "    with open(tmp_name) as file:\n",
    "        # check the name in row 1\n",
    "        # first_line=file.readline()\n",
    "        # print(first_line)\n",
    "\n",
    "        # igor_D_coef_list.append(np.loadtxt(file, delimiter='\\t', skiprows=1) )\n",
    "        igor_D_coef_list.append(np.loadtxt(file, delimiter=\"\\t\"))\n",
    "# igor_D_coef_matrix=np.vstack(igor_D_coef_list)\n",
    "igor_D_coef_matrix = np.flip(np.vstack(igor_D_coef_list), axis=1)\n",
    "print(igor_D_coef_matrix)  # row 0 D1 , row 1 D3, ...\n",
    "print(np.vstack(igor_D_coef_list))"
   ]
  },
  {
   "cell_type": "code",
   "execution_count": null,
   "id": "59ee269d",
   "metadata": {},
   "outputs": [],
   "source": [
    "# Load the IGOR txt Da_values for comparison\n",
    "igordatapath = \"../tests/data/dataEPFL/R9132\"\n",
    "igordatapath_content = os.listdir(igordatapath)\n",
    "\n",
    "# get the fitted coefficients\n",
    "Di_value_list = [i for i in igordatapath_content if \"_value.tsv\" in i]\n",
    "\n",
    "igor_D_value_list = []\n",
    "for i, name in enumerate(sorted(Di_value_list)):\n",
    "    tmp_name = os.path.join(igordatapath, name)\n",
    "    with open(tmp_name) as file:\n",
    "        # check the name in row 1\n",
    "        # first_line=file.readline()\n",
    "        # print(first_line)\n",
    "\n",
    "        # igor_D_value_list.append(np.loadtxt(file, delimiter='\\t', skiprows=1) )\n",
    "        igor_D_value_list.append(np.loadtxt(file, delimiter=\"\\t\"))\n",
    "\n",
    "igor_D_value_matrix = np.vstack(igor_D_value_list)"
   ]
  },
  {
   "cell_type": "code",
   "execution_count": null,
   "id": "056c501c",
   "metadata": {},
   "outputs": [],
   "source": [
    "Di_value_list\n",
    "type(Di_value_list)"
   ]
  },
  {
   "cell_type": "code",
   "execution_count": null,
   "id": "2469ffa1",
   "metadata": {},
   "outputs": [],
   "source": []
  },
  {
   "cell_type": "code",
   "execution_count": null,
   "id": "64c0d5a8",
   "metadata": {},
   "outputs": [],
   "source": [
    "# let's calculate the corresponding quantities in Pytohn\n",
    "\n",
    "# load the module and import functions for reading the parameter table from the calib2d file\n",
    "import specsanalyzer.convert\n",
    "\n",
    "# let's get all the functions to be tested\n",
    "from specsanalyzer.convert import get_damatrix_fromcalib2d\n",
    "from specsanalyzer.convert import get_rr_da\n",
    "from specsanalyzer.convert import calculate_polynomial_coef_da\n",
    "from specsanalyzer.convert import mcp_position_mm\n",
    "from specsanalyzer.convert import calculate_matrix_correction\n",
    "\n",
    "\n",
    "spa = SpecsAnalyzer(config=\"../tests/data/dataEPFL/config/config.yaml\")\n",
    "config_dict = spa.config\n",
    "lens_mode = \"WideAngleMode\"\n",
    "kinetic_energy = 35.000000\n",
    "pass_energy = 35.000000\n",
    "work_function = 4.2\n",
    "binning = 4\n",
    "\n",
    "eshift = np.array(config_dict[\"calib2d_dict\"][\"eShift\"])\n",
    "\n",
    "aInner, damatrix = get_damatrix_fromcalib2d(\n",
    "    lens_mode,\n",
    "    kinetic_energy,\n",
    "    pass_energy,\n",
    "    work_function,\n",
    "    config_dict,\n",
    ")\n",
    "\n",
    "dapolymatrix = calculate_polynomial_coef_da(\n",
    "    damatrix, kinetic_energy, pass_energy, eshift\n",
    ")\n",
    "\n",
    "\n",
    "# note that for scan 9132 (and 9131) we have   retardatio ratio=   0.88 -> this is wrong imo, checke the effect of the work function\n",
    "#  rr_inf =   10  rr_factor =   0.75 in igor"
   ]
  },
  {
   "cell_type": "code",
   "execution_count": null,
   "id": "1e8f8ed1",
   "metadata": {},
   "outputs": [],
   "source": [
    "print(\"das\")\n",
    "print(damatrix)\n",
    "print(igor_D_value_matrix)\n",
    "print(\"Difference in the interpolated D coeffiecients\")\n",
    "print(damatrix - igor_D_value_matrix)\n",
    "# at the moment they differ by some %..\n",
    "\n",
    "print(\"coefs\")\n",
    "print(dapolymatrix)\n",
    "print(igor_D_coef_matrix)\n",
    "print(\"Difference in the fitted polynomial coeffiecients\")\n",
    "print(dapolymatrix - igor_D_coef_matrix)\n",
    "# at the moment they differ by some %..\n",
    "\n",
    "\n"
   ]
  },
  {
   "cell_type": "code",
   "execution_count": null,
   "id": "b8b9d33c",
   "metadata": {},
   "outputs": [],
   "source": [
    "print(np.testing.assert_allclose(dapolymatrix, igor_D_coef_matrix, rtol=1e-05))"
   ]
  },
  {
   "cell_type": "code",
   "execution_count": null,
   "id": "25884670",
   "metadata": {},
   "outputs": [],
   "source": [
    "# get the rr and the damatrix\n",
    "rr, damatrix = get_rr_da(\"WideAngleMode\", config_dict)"
   ]
  },
  {
   "cell_type": "code",
   "execution_count": null,
   "id": "b2c4bbf1",
   "metadata": {},
   "outputs": [],
   "source": [
    "# let's get the jacobian matrices generate by the igor code\n",
    "# and compare it to the one obtained by calculate_matrix_correction\n",
    "\n",
    "# Jacobian\n",
    "jname = [i for i in igordatapath_content if \"Jacobian\" in i][0]\n",
    "with open(os.path.join(igordatapath, jname)) as file:\n",
    "    jacobian_reference = np.loadtxt(file, delimiter=\"\\t\").T\n",
    "\n",
    "print(\n",
    "    \"The shape of the jacobian_reference is: \",\n",
    "    jacobian_reference.shape,\n",
    ")\n",
    "# plt.xlim(120,150)\n",
    "# plt.ylim(150,200)\n",
    "\n",
    "\n",
    "(\n",
    "    ek_axis,\n",
    "    angle_axis,\n",
    "    angular_correction_matrix,\n",
    "    e_correction,\n",
    "    jacobian_determinant,\n",
    ") = calculate_matrix_correction(\n",
    "    lens_mode,\n",
    "    kinetic_energy,\n",
    "    pass_energy,\n",
    "    work_function,\n",
    "    binning,\n",
    "    config_dict,\n",
    ")\n",
    "\n",
    "\n",
    "print(\n",
    "    \"The shape of the jacobian_determinant is: \",\n",
    "    jacobian_determinant.shape,\n",
    ")\n",
    "\n",
    "delta_jacobian = jacobian_determinant - jacobian_reference\n",
    "\n",
    "fig, (ax1, ax2, ax3) = plt.subplots(ncols=3, figsize=(10, 4))\n",
    "subplot1 = ax1.contourf(jacobian_determinant)\n",
    "subplot2 = ax2.contourf(jacobian_reference)\n",
    "subplot3 = ax3.contourf(delta_jacobian)\n",
    "fig.colorbar(subplot1, ax=ax1)\n",
    "fig.colorbar(subplot2, ax=ax2)\n",
    "fig.colorbar(subplot3, ax=ax3)\n",
    "\n",
    "plt.tight_layout()"
   ]
  },
  {
   "cell_type": "code",
   "execution_count": null,
   "id": "cb11932e",
   "metadata": {},
   "outputs": [],
   "source": [
    "assert np.testing.assert_allclose(jacobian_determinant, jacobian_reference, rtol=1e-04) is None"
   ]
  },
  {
   "cell_type": "code",
   "execution_count": null,
   "id": "4b60a676",
   "metadata": {},
   "outputs": [],
   "source": [
    "# plt.plot(ek_axis,e_correction)\n",
    "d_ecorrection = np.gradient(e_correction, ek_axis)\n",
    "plt.plot(ek_axis, d_ecorrection)"
   ]
  },
  {
   "cell_type": "code",
   "execution_count": null,
   "id": "43fde75f",
   "metadata": {},
   "outputs": [],
   "source": [
    "# e_correction\n",
    "jname = [i for i in igordatapath_content if \"E_Correction\" in i][0]\n",
    "jname\n",
    "with open(os.path.join(igordatapath, jname)) as file:\n",
    "    e_correction_reference = np.loadtxt(file, delimiter=\"\\t\")\n",
    "\n",
    "plt.plot(e_correction)\n",
    "plt.plot(e_correction_reference)\n",
    "\n",
    "# ecorrection is different!!"
   ]
  },
  {
   "cell_type": "code",
   "execution_count": null,
   "id": "a315bead",
   "metadata": {},
   "outputs": [],
   "source": [
    "# e_correction\n",
    "jname = [i for i in igordatapath_content if \"Angular_Correction\" in i][0]\n",
    "jname\n",
    "with open(os.path.join(igordatapath, jname)) as file:\n",
    "    angle_correction_reference = np.loadtxt(file, delimiter=\"\\t\").T\n",
    "\n",
    "delta_angle = angle_correction_reference - angular_correction_matrix\n",
    "\n",
    "fig, (ax1, ax2, ax3) = plt.subplots(1, 3)\n",
    "subplot1 = ax1.contourf(angular_correction_matrix)\n",
    "subplot2 = ax2.contourf(angle_correction_reference)\n",
    "subplot3 = ax3.contourf(delta_angle)\n",
    "fig.colorbar(subplot1, ax=ax1)\n",
    "fig.colorbar(subplot2, ax=ax2)\n",
    "fig.colorbar(subplot3, ax=ax3)\n",
    "plt.tight_layout()"
   ]
  },
  {
   "cell_type": "code",
   "execution_count": null,
   "id": "845828ac",
   "metadata": {},
   "outputs": [],
   "source": [
    "import os\n",
    "print(os.path.curdir)\n",
    "# os.path.join(os.path.curdir, 'file.name')"
   ]
  },
  {
   "cell_type": "code",
   "execution_count": null,
   "id": "3dd70214",
   "metadata": {},
   "outputs": [],
   "source": [
    "\n",
    "os.fspath('./tests/data/dataEPFL/R9132/Data9132_RAWDATA.tsv')"
   ]
  },
  {
   "cell_type": "code",
   "execution_count": null,
   "id": "ded1d300",
   "metadata": {},
   "outputs": [],
   "source": [
    "def test_conversion():\n",
    "    \"Test if the conversion pipeline gives the same result as the Igor procedures\"\n",
    "\n",
    "    #execution path: if you run in jupyter is is \".\", in the case of the test should already by under tests\n",
    "    cwd=os.getcwd()\n",
    "    \n",
    "    if os.path.basename(cwd)==\"specsanalyser\":\n",
    "        \"ok we are HERE\"\n",
    "        basepath=cwd\n",
    "    else:\n",
    "        basepath=os.path.dirname(cwd)\n",
    "    # get the raw data\n",
    "    print(basepath)\n",
    "    data_path = os.path.join(basepath,'tests' ,'data', 'dataEPFL', 'R9132')\n",
    "    raw_image_name = os.path.join(data_path,\"Data9132_RAWDATA.tsv\")\n",
    "    \n",
    "    # raw_image_name=os.fsencode('tests\\data\\dataEPFL\\R9132\\Data9132_RAWDATA.tsv')\n",
    "    print(raw_image_name, \"C:\\\\Users\\\\Michele\\\\Documents\\\\GitHub\\\\vscode\\\\specsanalyzer\\\\tests\\\\data\\\\dataEPFL\\\\R9132\\\\Data9132_RAWDATA.tsv\")\n",
    "\n",
    "    with open(raw_image_name) as file:\n",
    "        tsv_data = np.loadtxt(file, delimiter=\"\\t\")\n",
    "    \n",
    "\n",
    "    # get the reference data\n",
    "    reference_image_name = raw_image_name = os.path.join(data_path,\"Data9132_IGOR_corrected.tsv\")\n",
    "\n",
    "    with open(reference_image_name) as file:\n",
    "        reference = np.loadtxt(file, delimiter=\"\\t\")\n",
    "\n",
    "    \n",
    "\n",
    "    configpath = os.path.join(basepath,'tests' ,'data', 'dataEPFL', 'config',\"config.yaml\")\n",
    "    spa = SpecsAnalyzer(config=configpath)\n",
    "    lens_mode = \"WideAngleMode\"\n",
    "    kinetic_energy = 35.000000\n",
    "    pass_energy = 35.000000\n",
    "    work_function = 4.2\n",
    "\n",
    "    converted = spa.convert_image(\n",
    "        raw_img=tsv_data,\n",
    "        lens_mode=lens_mode,\n",
    "        kinetic_energy=kinetic_energy,\n",
    "        pass_energy=pass_energy,\n",
    "        work_function=work_function,\n",
    "        apply_fft_filter=False,\n",
    "    )\n",
    "\n",
    "    # TODO Does not work yet... Not sure how you produced the reference?\n",
    "\n",
    "    # tolerance=reference.mean()*1e-3\n",
    "    #  np.testing.assert_allclose(converted.data, reference, atol=tolerance)\n",
    "    return (converted.data, reference)\n",
    "    "
   ]
  },
  {
   "cell_type": "code",
   "execution_count": null,
   "id": "f3bcaf24",
   "metadata": {},
   "outputs": [],
   "source": [
    "(python_data, igor_data)=test_conversion()\n",
    "\n",
    "#remove nans\n",
    "python_data[np.isnan(python_data)]=0\n",
    "igor_data[np.isnan(igor_data)]=0\n",
    "#normalize to unit amplitude\n",
    "python_data/=igor_data.max()\n",
    "igor_data/=igor_data.max()\n"
   ]
  },
  {
   "cell_type": "code",
   "execution_count": null,
   "id": "58515556",
   "metadata": {},
   "outputs": [],
   "source": [
    "fig, (ax1, ax2, ax3) = plt.subplots(ncols=3, figsize=(10, 4))\n",
    "subplot1 = ax1.contourf(python_data)\n",
    "subplot2 = ax2.contourf(igor_data)\n",
    "subplot3 = ax3.contourf((python_data-igor_data))\n",
    "fig.colorbar(subplot1, ax=ax1)\n",
    "fig.colorbar(subplot2, ax=ax2)\n",
    "fig.colorbar(subplot3, ax=ax3)\n"
   ]
  },
  {
   "cell_type": "code",
   "execution_count": null,
   "id": "d3177aac",
   "metadata": {},
   "outputs": [],
   "source": [
    "tolerance=5e-5\n",
    "np.testing.assert_allclose(python_data, igor_data, atol=tolerance)\n",
    "print(tolerance)"
   ]
  },
  {
   "cell_type": "code",
   "execution_count": null,
   "id": "84727e7c",
   "metadata": {},
   "outputs": [],
   "source": [
    "print(os.fspath(\n",
    "         \"./tests/data/dataEPFL/R9132/Data9132_RAWDATA.tsv\",\n",
    "     ))"
   ]
  },
  {
   "cell_type": "code",
   "execution_count": null,
   "id": "6950793e",
   "metadata": {},
   "outputs": [],
   "source": [
    "os.fsdecode(\"tests\\data\\dataEPFL\\R9132\\Data9132_RAWDATA.tsv\")"
   ]
  },
  {
   "cell_type": "code",
   "execution_count": null,
   "id": "8a0cec89",
   "metadata": {},
   "outputs": [],
   "source": [
    "os.fsencode(\"tests\\data\\dataEPFL\\R9132\\Data9132_RAWDATA.tsv\")"
   ]
  },
  {
   "cell_type": "code",
   "execution_count": null,
   "id": "a784db5b",
   "metadata": {},
   "outputs": [],
   "source": [
    "os.path.join(os.path.curdir,'tests' ,'data', 'dataEPFL', 'R9132')"
   ]
  },
  {
   "cell_type": "code",
   "execution_count": null,
   "id": "0f21dc4e",
   "metadata": {},
   "outputs": [],
   "source": [
    "from pathlib import Path\n",
    "cwd = Path.cwd()\n",
    "print(cwd.parent.absolute())"
   ]
  },
  {
   "cell_type": "code",
   "execution_count": null,
   "id": "42db34dd",
   "metadata": {},
   "outputs": [],
   "source": [
    "os.path.basename(cwd.parent.absolute())"
   ]
  },
  {
   "cell_type": "code",
   "execution_count": null,
   "id": "c8b84c75",
   "metadata": {},
   "outputs": [],
   "source": []
  }
 ],
 "metadata": {
  "kernelspec": {
   "display_name": "Python 3.10.4 ('specs')",
   "language": "python",
   "name": "python3"
  },
  "language_info": {
   "codemirror_mode": {
    "name": "ipython",
    "version": 3
   },
   "file_extension": ".py",
   "mimetype": "text/x-python",
   "name": "python",
   "nbconvert_exporter": "python",
   "pygments_lexer": "ipython3",
   "version": "3.10.4"
  },
  "vscode": {
   "interpreter": {
    "hash": "6428f06d96a6b01e77e140970230328301bc19fdc764d255e75f2cf3c24498d4"
   }
  }
 },
 "nbformat": 4,
 "nbformat_minor": 5
}
