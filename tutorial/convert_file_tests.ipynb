{
 "cells": [
  {
   "cell_type": "markdown",
   "id": "864500e2",
   "metadata": {},
   "source": [
    "TEST LOADER FOR PHOIBOS 150 DATA\n",
    "\n",
    "Typical structure \n",
    "/2020/01 January/Day 10/Raw Data/8874\n",
    "\n",
    "Withing the folder of the scan number there is an info.txt and a scan\n",
    "In THE AVG FOLDER there is a set of images, averaged over every acquisition cycle\n",
    "IN THE RAW FOLDER there are single acquisition cycles (difference: in EPFL we added the \"save every n cycle function\"\n",
    "this RAW folder also contains a \"LUT.txt\" file"
   ]
  },
  {
   "cell_type": "code",
   "execution_count": 1,
   "id": "45fafb84",
   "metadata": {},
   "outputs": [
    {
     "name": "stdout",
     "output_type": "stream",
     "text": [
      "example data path=  ../tests/data/dataEPFL/9159/\n",
      "AVG images path=  ../tests/data/dataEPFL/9159/AVG\n"
     ]
    }
   ],
   "source": [
    "from importlib import reload\n",
    "from specsanalyzer import SpecsAnalyzer\n",
    "import matplotlib.pyplot as plt\n",
    "import xarray as xr\n",
    "import numpy as np\n",
    "spa = SpecsAnalyzer()\n",
    "\n",
    "import os\n",
    "exampledatapath='../tests/data/dataEPFL/9159/'\n",
    "filelist=os.listdir(exampledatapath)\n",
    "print(\"example data path= \",exampledatapath)\n",
    "#this folders contains the AVG folder with the data, an info.txt vector and a scan vector\n",
    "\n",
    "#navigate to the image folder, for EPFL in the \\AVG subfolder of the data\n",
    "avgimagepath='../tests/data/dataEPFL/9159/AVG'\n",
    "print(\"AVG images path= \",avgimagepath)\n",
    "rawimagelist=os.listdir(avgimagepath)\n"
   ]
  },
  {
   "cell_type": "code",
   "execution_count": 2,
   "id": "6c91b572",
   "metadata": {},
   "outputs": [
    {
     "name": "stdout",
     "output_type": "stream",
     "text": [
      "The shape of the raw data is:  (256, 344)\n"
     ]
    },
    {
     "data": {
      "image/png": "[encoded data removed]",
      "text/plain": [
       "<Figure size 432x288 with 2 Axes>"
      ]
     },
     "metadata": {
      "needs_background": "light"
     },
     "output_type": "display_data"
    }
   ],
   "source": [
    "raw_image_name=os.path.join(avgimagepath,rawimagelist[0]) \n",
    "with open(raw_image_name) as file:\n",
    "    tsv_data = np.loadtxt(file, delimiter='\\t')\n",
    "plt.figure()\n",
    "h = plt.contourf(tsv_data)\n",
    "plt.colorbar()\n",
    "print(\"The shape of the raw data is: \",tsv_data.shape)\n",
    "#plt.xlim(120,150)\n",
    "#plt.ylim(150,200)\n"
   ]
  },
  {
   "cell_type": "code",
   "execution_count": 3,
   "id": "149af2f2",
   "metadata": {},
   "outputs": [],
   "source": [
    "from specsanalyzer import SpecsAnalyzer\n",
    "import matplotlib.pyplot as plt\n",
    "import xarray as xr\n",
    "import numpy as np\n",
    "spa = SpecsAnalyzer()\n",
    "scanparameters=spa.return_config()"
   ]
  },
  {
   "cell_type": "code",
   "execution_count": 4,
   "id": "61888c46",
   "metadata": {},
   "outputs": [],
   "source": [
    "#load the module and import functions for reading the parameter table from the calib2d file\n",
    "import specsanalyzer.convert\n",
    "reload(specsanalyzer.convert)   \n",
    "\n",
    "\n",
    "#let's get all the functions to be tested\n",
    "from specsanalyzer.convert import get_damatrix_fromcalib2d\n",
    "from specsanalyzer.convert import get_rr_da\n",
    "from specsanalyzer.convert import calculate_polynomial_coef_da\n",
    "from specsanalyzer.convert import mcp_position_mm\n"
   ]
  },
  {
   "cell_type": "code",
   "execution_count": 5,
   "id": "aa27895f",
   "metadata": {},
   "outputs": [],
   "source": [
    "from specsanalyzer import SpecsAnalyzer\n",
    "import matplotlib.pyplot as plt\n",
    "import xarray as xr\n",
    "import numpy as np\n",
    "\n",
    "# call an instance of the class \n",
    "spa = SpecsAnalyzer()\n",
    "# io function used to get the calib 2d file in the class\n",
    "calib2d_dictionary=specsanalyzer.io.parse_calib2d_to_dict('../tests/data/dataEPFL/phoibosEPFL.calib2d')\n",
    "# settings function used to get  configuration files  \n",
    "config_file=specsanalyzer.settings.parse_config(calib2d_dictionary)\n",
    "\n",
    "\n",
    "\n",
    "#get the das  and the rr vector \n",
    "#rr_array, da_matrix=  specsanalyzer.convert.get_rr_da(\"WideAngleMode\", config_file)"
   ]
  },
  {
   "cell_type": "code",
   "execution_count": 6,
   "id": "59ee269d",
   "metadata": {},
   "outputs": [
    {
     "data": {
      "text/plain": [
       "array([[-9.0677557e+00,  5.4180306e-01, -7.4833869e-03],\n",
       "       [ 3.7976568e+00, -2.6664829e-01,  4.5543350e-03],\n",
       "       [-9.6360517e-01,  8.5502811e-02, -1.6958975e-03],\n",
       "       [-2.3122853e-01,  4.3503465e-03,  7.1996968e-05]])"
      ]
     },
     "execution_count": 6,
     "metadata": {},
     "output_type": "execute_result"
    }
   ],
   "source": [
    "# Load the IGOR txt Di_coeff values for comparison\n",
    "igordatapath='../tests/data/dataEPFL/igor_R9159'\n",
    "igordatapath_content=os.listdir(igordatapath)\n",
    "\n",
    "# get the fitted coefficients\n",
    "Di_coef_list= [i for i in igordatapath_content if \"_coef\" in i ]\n",
    "\n",
    "igor_D_coef_list=[]\n",
    "for i,name in enumerate(Di_coef_list):\n",
    "    tmp_name=os.path.join(igordatapath,name) \n",
    "    with open(tmp_name) as file:\n",
    "        #check the name in row 1\n",
    "        #first_line=file.readline()\n",
    "        #print(first_line)\n",
    "\n",
    "        igor_D_coef_list.append(np.loadtxt(file, delimiter='\\t', skiprows=1) )\n",
    "igor_D_coef_matrix=np.vstack(igor_D_coef_list)\n",
    "igor_D_coef_matrix  #row 0 D1 , row 1 D3, ...\n",
    "\n"
   ]
  },
  {
   "cell_type": "code",
   "execution_count": 7,
   "id": "59ee269d",
   "metadata": {},
   "outputs": [],
   "source": [
    "# Load the IGOR txt Da_values for comparison\n",
    "igordatapath='../tests/data/dataEPFL/igor_R9159'\n",
    "igordatapath_content=os.listdir(igordatapath)\n",
    "\n",
    "# get the fitted coefficients\n",
    "Di_value_list= [i for i in igordatapath_content if \"_value\" in i ]\n",
    "\n",
    "igor_D_value_list=[]\n",
    "for i,name in enumerate(Di_value_list):\n",
    "    tmp_name=os.path.join(igordatapath,name) \n",
    "    with open(tmp_name) as file:\n",
    "        #check the name in row 1\n",
    "        #first_line=file.readline()\n",
    "        #print(first_line)\n",
    "\n",
    "        igor_D_value_list.append(np.loadtxt(file, delimiter='\\t', skiprows=1) )\n",
    "igor_D_value_matrix=np.vstack(igor_D_value_list)\n",
    "\n",
    "\n"
   ]
  },
  {
   "cell_type": "code",
   "execution_count": 8,
   "id": "64c0d5a8",
   "metadata": {},
   "outputs": [
    {
     "name": "stdout",
     "output_type": "stream",
     "text": [
      "1.42\n",
      "closest_rr_index=  13\n",
      "rr_factor=  0.5039999999999996\n"
     ]
    }
   ],
   "source": [
    "# use the EPFL CONFIGURATION FILE\n",
    "\n",
    "spa = SpecsAnalyzer(config=\"../tests/data/dataEPFL/config/config.yaml\")\n",
    "config_dict=spa.return_config()\n",
    "\n",
    "lens_mode=\"WideAngleMode\"\n",
    "kinetic_energy=35.5\n",
    "pass_energy=25\n",
    "print(kinetic_energy/pass_energy)\n",
    "eshift = np.array(config_dict[\n",
    "        \"calib2d_dict\"\n",
    "    ][\"eShift\"])\n",
    "\n",
    "aInner, damatrix = get_damatrix_fromcalib2d(\n",
    "    lens_mode,\n",
    "    kinetic_energy,\n",
    "    pass_energy,\n",
    "    config_dict\n",
    "    )\n",
    "\n",
    "dapolymatrix = calculate_polynomial_coef_da(\n",
    "    damatrix,\n",
    "    kinetic_energy,\n",
    "    pass_energy,\n",
    "    eshift)\n",
    "\n",
    "\n",
    "# note that for scan 9159 we have   rr_inf =   13  rr_factor =   0.504\n",
    "# now we get the rr factor of 0.83, why??\n",
    "#  at rr[13] we have rr=1 and at rr[14] we have rr=1.5\n",
    "# the work function did the trick, set to 1.42, have to check with Laurenz\n",
    "# what they set in the labview..\n",
    "\n",
    "\n"
   ]
  },
  {
   "cell_type": "code",
   "execution_count": null,
   "id": "7abbe291",
   "metadata": {},
   "outputs": [],
   "source": []
  },
  {
   "cell_type": "code",
   "execution_count": 9,
   "id": "1e8f8ed1",
   "metadata": {},
   "outputs": [
    {
     "name": "stdout",
     "output_type": "stream",
     "text": [
      "das\n",
      "[[ 0.7105184   0.7353144   0.7367248 ]\n",
      " [ 0.00747262  0.07124336  0.1492464 ]\n",
      " [-0.02452784 -0.0655104  -0.11179264]\n",
      " [ 0.00222779  0.01394296  0.02588312]]\n",
      "[[ 0.71051836  0.73531437  0.73672479]\n",
      " [ 0.00747262  0.07124336  0.14924639]\n",
      " [-0.02452784 -0.0655104  -0.11179264]\n",
      " [ 0.00222779  0.01394296  0.02588312]]\n",
      "[[ 4.00000000e-08  3.00000000e-08  9.99999994e-09]\n",
      " [-1.00000004e-10 -1.00000001e-09  9.99999999e-09]\n",
      " [ 3.46944695e-18  0.00000000e+00  2.77555756e-17]\n",
      " [-1.30104261e-18 -3.46944695e-18 -3.46944695e-18]]\n",
      "coefs\n",
      "[[-7.48339200e-03  5.41803392e-01 -9.06776125e+00]\n",
      " [ 4.55433728e-03 -2.66648436e-01  3.79765930e+00]\n",
      " [-1.69589760e-03  8.55028096e-02 -9.63605190e-01]\n",
      " [ 7.19969280e-05  4.35034995e-03 -2.31228592e-01]]\n",
      "[[-9.0677557e+00  5.4180306e-01 -7.4833869e-03]\n",
      " [ 3.7976568e+00 -2.6664829e-01  4.5543350e-03]\n",
      " [-9.6360517e-01  8.5502811e-02 -1.6958975e-03]\n",
      " [-2.3122853e-01  4.3503465e-03  7.1996968e-05]]\n",
      "[[ 9.06027231e+00  3.31999902e-07 -9.06027786e+00]\n",
      " [-3.79310246e+00 -1.46479943e-07  3.79310496e+00]\n",
      " [ 9.61909272e-01 -1.40001981e-09 -9.61909293e-01]\n",
      " [ 2.31300527e-01  3.45199968e-09 -2.31300589e-01]]\n"
     ]
    }
   ],
   "source": [
    "print(\"das\")\n",
    "print(damatrix)\n",
    "print(igor_D_value_matrix)\n",
    "\n",
    "print(damatrix-igor_D_value_matrix)\n",
    "# at the moment they differ by some %.. \n",
    "\n",
    "print(\"coefs\")\n",
    "print(dapolymatrix)\n",
    "print(igor_D_coef_matrix)\n",
    "\n",
    "print(dapolymatrix-igor_D_coef_matrix)\n",
    "# at the moment they differ by some %.. \n"
   ]
  },
  {
   "cell_type": "code",
   "execution_count": 10,
   "id": "25884670",
   "metadata": {},
   "outputs": [],
   "source": [
    "# get the rr and the damatrix\n",
    "rr, damatrix= get_rr_da(\"WideAngleMode\",config_dict)\n"
   ]
  },
  {
   "cell_type": "code",
   "execution_count": 11,
   "id": "b2c4bbf1",
   "metadata": {},
   "outputs": [
    {
     "name": "stdout",
     "output_type": "stream",
     "text": [
      "The shape of the jacobian_reference is:  (256, 344)\n",
      "closest_rr_index=  13\n",
      "rr_factor=  0.5039999999999996\n",
      "106.3847555751729\n",
      "25 [0.00321] 4.54 0.00645 4\n",
      "The shape of the jacobian_determinant is:  (256, 344)\n"
     ]
    },
    {
     "data": {
      "image/png": "[encoded data removed]",
      "text/plain": [
       "<Figure size 432x288 with 6 Axes>"
      ]
     },
     "metadata": {
      "needs_background": "light"
     },
     "output_type": "display_data"
    }
   ],
   "source": [
    "# let's get the matrices generate by the igor code\n",
    "\n",
    "# Jacobian\n",
    "jname= [i for i in igordatapath_content if \"Jacobian\" in i ][0]\n",
    "with open(os.path.join(igordatapath,jname) ) as file:\n",
    "    jacobian_reference = np.loadtxt(file, delimiter='\\t').T\n",
    "\n",
    "print(\"The shape of the jacobian_reference is: \",jacobian_reference.shape)\n",
    "#plt.xlim(120,150)\n",
    "#plt.ylim(150,200)\n",
    "\n",
    "# let's calculate the corresponding quantities in Pytohn\n",
    "\n",
    "#load the module and import functions for reading the parameter table from the calib2d file\n",
    "import specsanalyzer.convert\n",
    "reload(specsanalyzer.convert)   \n",
    "#let's get all the functions to be tested\n",
    "from specsanalyzer.convert import get_damatrix_fromcalib2d\n",
    "from specsanalyzer.convert import get_rr_da\n",
    "from specsanalyzer.convert import calculate_polynomial_coef_da\n",
    "from specsanalyzer.convert import mcp_position_mm\n",
    "from specsanalyzer.convert import calculate_matrix_correction\n",
    "\n",
    "\n",
    "spa = SpecsAnalyzer(config=\"../tests/data/dataEPFL/config/config.yaml\")\n",
    "config_dict=spa.return_config()\n",
    "lens_mode=\"WideAngleMode\"\n",
    "kinetic_energy=35.5\n",
    "pass_energy=25\n",
    "binning=4\n",
    "\n",
    "(ek_axis,\n",
    "    angle_axis,\n",
    "    angular_correction_matrix,\n",
    "    e_correction,\n",
    "    jacobian_determinant,\n",
    ") = calculate_matrix_correction(\n",
    "    lens_mode,\n",
    "    pass_energy,\n",
    "    kinetic_energy,\n",
    "    binning,\n",
    "    config_dict,\n",
    ")\n",
    "\n",
    "\n",
    "print(\"The shape of the jacobian_determinant is: \",jacobian_determinant.shape)\n",
    "\n",
    "delta_jacobian=jacobian_determinant-jacobian_reference\n",
    "\n",
    "fig, (ax1,ax2,ax3) = plt.subplots(1,3)\n",
    "subplot1=ax1.contourf(jacobian_determinant)\n",
    "subplot2=ax2.contourf(jacobian_reference)\n",
    "subplot3=ax3.contourf(delta_jacobian)\n",
    "fig.colorbar(subplot1, ax=ax1)\n",
    "fig.colorbar(subplot2, ax=ax2)\n",
    "fig.colorbar(subplot3, ax=ax3)\n",
    "\n",
    "plt.tight_layout()\n"
   ]
  },
  {
   "cell_type": "code",
   "execution_count": 12,
   "id": "bc1c1398",
   "metadata": {},
   "outputs": [],
   "source": [
    "# four extra points on the igor jacobian, and only on one axis.. why?\n",
    "\n",
    "#in the igor file we have\n",
    "# nx_pixel=1376/Binning, ny_pixel=1040/Binning\n",
    "# this is also written in the datasheet, BUT the RAW data has\n",
    "#  The shape of the raw data is:  (256, 344)  -> (1024,  1376)  with the binning\n",
    "# where did the missing pixels go?  probably an error in the IGOR implementation.. \n"
   ]
  },
  {
   "cell_type": "code",
   "execution_count": 13,
   "id": "50e8c00d",
   "metadata": {},
   "outputs": [
    {
     "name": "stdout",
     "output_type": "stream",
     "text": [
      "33.85 37.14040697674419\n"
     ]
    }
   ],
   "source": [
    "# Let's check the Ek axis in igor\n",
    "# now we have 344 points, KE[0]=33.85 KE[343]=37.1404\n",
    "\n",
    "print(ek_axis[0],ek_axis[343])\n",
    "\n",
    "# there is indeed a 0.02 difference.. is that the step?\n",
    "# igor Rows: 344  Start: 33.85  Delta: 0.00959302  Units: eV\n",
    "# definition: \n",
    "\n",
    "# skipping the last point does the job..but did not fix the ajcobian\n",
    "# in igor one has as default: \n",
    "# \n",
    "# /METH=m\tSets the differentiation method.\n",
    "# m =0:\tCentral difference (default)."
   ]
  },
  {
   "cell_type": "code",
   "execution_count": 14,
   "id": "4b60a676",
   "metadata": {},
   "outputs": [
    {
     "data": {
      "text/plain": [
       "[<matplotlib.lines.Line2D at 0x22479b8ac40>]"
      ]
     },
     "execution_count": 14,
     "metadata": {},
     "output_type": "execute_result"
    },
    {
     "data": {
      "image/png": "[encoded data removed]",
      "text/plain": [
       "<Figure size 432x288 with 1 Axes>"
      ]
     },
     "metadata": {
      "needs_background": "light"
     },
     "output_type": "display_data"
    }
   ],
   "source": [
    "#plt.plot(ek_axis,e_correction)\n",
    "d_ecorrection=np.gradient(e_correction,ek_axis)\n",
    "plt.plot(ek_axis,d_ecorrection)\n",
    "\n",
    "\n",
    "\n",
    "\n",
    "\n"
   ]
  },
  {
   "cell_type": "code",
   "execution_count": 15,
   "id": "43fde75f",
   "metadata": {},
   "outputs": [
    {
     "data": {
      "text/plain": [
       "[<matplotlib.lines.Line2D at 0x22479bfe1c0>]"
      ]
     },
     "execution_count": 15,
     "metadata": {},
     "output_type": "execute_result"
    },
    {
     "data": {
      "image/png": "[encoded data removed]",
      "text/plain": [
       "<Figure size 432x288 with 1 Axes>"
      ]
     },
     "metadata": {
      "needs_background": "light"
     },
     "output_type": "display_data"
    }
   ],
   "source": [
    "# e_correction\n",
    "jname= [i for i in igordatapath_content if \"E_Correction\" in i ][0]\n",
    "jname\n",
    "with open(os.path.join(igordatapath,jname) ) as file:\n",
    "    e_correction_reference = np.loadtxt(file, delimiter='\\t')\n",
    "\n",
    "plt.plot(e_correction)\n",
    "plt.plot(e_correction_reference)\n",
    "\n",
    "# ecorrection is different!!\n"
   ]
  },
  {
   "cell_type": "code",
   "execution_count": 16,
   "id": "a315bead",
   "metadata": {},
   "outputs": [
    {
     "data": {
      "image/png": "[encoded data removed]",
      "text/plain": [
       "<Figure size 432x288 with 6 Axes>"
      ]
     },
     "metadata": {
      "needs_background": "light"
     },
     "output_type": "display_data"
    }
   ],
   "source": [
    "# e_correction\n",
    "jname= [i for i in igordatapath_content if \"Angular_Correction\" in i ][0]\n",
    "jname\n",
    "with open(os.path.join(igordatapath,jname) ) as file:\n",
    "    angle_correction_reference = np.loadtxt(file, delimiter='\\t').T\n",
    "\n",
    "delta_angle=(angle_correction_reference-angular_correction_matrix)\n",
    "\n",
    "fig, (ax1,ax2,ax3) = plt.subplots(1,3)\n",
    "subplot1=ax1.contourf(angular_correction_matrix)\n",
    "subplot2=ax2.contourf(angle_correction_reference)\n",
    "subplot3=ax3.contourf(delta_angle)\n",
    "fig.colorbar(subplot1, ax=ax1)\n",
    "fig.colorbar(subplot2, ax=ax2)\n",
    "fig.colorbar(subplot3, ax=ax3)\n",
    "plt.tight_layout()\n",
    "# angular correction does not differ much!! why the difference in energy correction?\n"
   ]
  },
  {
   "cell_type": "code",
   "execution_count": 17,
   "id": "935c5217",
   "metadata": {},
   "outputs": [
    {
     "data": {
      "text/plain": [
       "float"
      ]
     },
     "execution_count": 17,
     "metadata": {},
     "output_type": "execute_result"
    }
   ],
   "source": [
    "#load the module and import functions for reading the parameter table from the calib2d file\n",
    "import specsanalyzer.convert\n",
    "reload(specsanalyzer.convert)   \n",
    "#let's get all the functions to be tested\n",
    "from specsanalyzer.convert import get_damatrix_fromcalib2d\n",
    "from specsanalyzer.convert import get_rr_da\n",
    "from specsanalyzer.convert import calculate_polynomial_coef_da\n",
    "from specsanalyzer.convert import mcp_position_mm\n",
    "from specsanalyzer.convert import calculate_matrix_correction\n",
    "\n",
    "\n",
    "spa = SpecsAnalyzer(config=\"../tests/data/dataEPFL/config/config.yaml\")\n",
    "config_dict=spa.return_config()\n",
    "lens_mode=\"WideAngleMode\"\n",
    "kinetic_energy=35.5\n",
    "pass_energy=25\n",
    "binning=4\n",
    "type(config_dict[\"calib2d_dict\"][\"De1\"])\n",
    "\n"
   ]
  },
  {
   "cell_type": "code",
   "execution_count": 18,
   "id": "c03390c3",
   "metadata": {},
   "outputs": [],
   "source": [
    "#2D waves Interp2D() Bilinear  according to the manual interp2d is a BILINEAR interpolation\n",
    "# methodstr, optional\n",
    "# The method of interpolation to perform. \n",
    "# Supported are “linear”, “nearest”, “slinear”, “cubic”, and “quintic”.\n",
    "#  This parameter will become the default for the object’s __call__ method. Default is “linear”.\n"
   ]
  }
 ],
 "metadata": {
  "kernelspec": {
   "display_name": "Python 3.9.7 ('base')",
   "language": "python",
   "name": "python3"
  },
  "language_info": {
   "codemirror_mode": {
    "name": "ipython",
    "version": 3
   },
   "file_extension": ".py",
   "mimetype": "text/x-python",
   "name": "python",
   "nbconvert_exporter": "python",
   "pygments_lexer": "ipython3",
   "version": "3.9.12"
  },
  "vscode": {
   "interpreter": {
    "hash": "ad2bdc8ecc057115af97d19610ffacc2b4e99fae6737bb82f5d7fb13d2f2c186"
   }
  }
 },
 "nbformat": 4,
 "nbformat_minor": 5
}
