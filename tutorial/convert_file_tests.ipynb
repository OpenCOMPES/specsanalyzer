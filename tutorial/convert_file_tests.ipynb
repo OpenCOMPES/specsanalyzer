{
 "cells": [
  {
   "cell_type": "markdown",
   "id": "864500e2",
   "metadata": {},
   "source": [
    "TESTING CONVERT FUNCTIONS FOR PHOIBOS 150 DATA, COMPARISON WITH THE IGOR DATA\n",
    "\n",
    "\n",
    "USES THE FOLDER dataEPFL/R1932\n",
    "\n",
    "the folder contains all the igor output arrays for comparison\n",
    "\n"
   ]
  },
  {
   "cell_type": "code",
   "execution_count": null,
   "id": "2f2ab5b4",
   "metadata": {},
   "outputs": [],
   "source": [
    "# This uses the autoreload function form ipynb, useful to reload modificaiton of the source code\n",
    "%load_ext autoreload\n",
    "%autoreload 2"
   ]
  },
  {
   "cell_type": "code",
   "execution_count": null,
   "id": "45fafb84",
   "metadata": {},
   "outputs": [],
   "source": [
    "from specsanalyzer import SpecsAnalyzer\n",
    "import matplotlib.pyplot as plt\n",
    "import xarray as xr\n",
    "import numpy as np\n",
    "\n",
    "spa = SpecsAnalyzer()\n",
    "\n",
    "import os\n",
    "\n",
    "testdatapath = \"../tests/data/dataEPFL/R9132/\"\n",
    "filelist = os.listdir(testdatapath)\n",
    "print(\"Data path= \", testdatapath)\n",
    "# this folders contains the AVG folder with the data, an info.txt vector and a scan vector"
   ]
  },
  {
   "cell_type": "code",
   "execution_count": null,
   "id": "6c91b572",
   "metadata": {},
   "outputs": [],
   "source": [
    "# get the raw image name from the list\n",
    "rawimagelist = [i for i in filelist if \"RAWDATA\" in i]\n",
    "raw_image_name = os.path.join(testdatapath, rawimagelist[0])\n",
    "\n",
    "\n",
    "with open(raw_image_name) as file:\n",
    "    tsv_data = np.loadtxt(file, delimiter=\"\\t\")\n",
    "plt.figure()\n",
    "h = plt.contourf(tsv_data)\n",
    "plt.colorbar()\n",
    "print(\"The shape of the raw data is: \", tsv_data.shape)\n",
    "# plt.xlim(120,150)\n",
    "# plt.ylim(150,200)"
   ]
  },
  {
   "cell_type": "code",
   "execution_count": null,
   "id": "149af2f2",
   "metadata": {},
   "outputs": [],
   "source": [
    "from specsanalyzer import SpecsAnalyzer\n",
    "import matplotlib.pyplot as plt\n",
    "import xarray as xr\n",
    "import numpy as np\n",
    "\n",
    "spa = SpecsAnalyzer()\n",
    "scanparameters = spa.config"
   ]
  },
  {
   "cell_type": "code",
   "execution_count": null,
   "id": "61888c46",
   "metadata": {},
   "outputs": [],
   "source": [
    "# load the module and import functions for reading the parameter table from the calib2d file\n",
    "import specsanalyzer.convert\n",
    "\n",
    "# let's get all the functions to be tested\n",
    "from specsanalyzer.convert import get_damatrix_fromcalib2d\n",
    "from specsanalyzer.convert import get_rr_da\n",
    "from specsanalyzer.convert import calculate_polynomial_coef_da\n",
    "from specsanalyzer.convert import mcp_position_mm"
   ]
  },
  {
   "cell_type": "code",
   "execution_count": null,
   "id": "aa27895f",
   "metadata": {},
   "outputs": [],
   "source": [
    "from specsanalyzer import SpecsAnalyzer\n",
    "import matplotlib.pyplot as plt\n",
    "import xarray as xr\n",
    "import numpy as np\n",
    "\n",
    "# call an instance of the class\n",
    "spa = SpecsAnalyzer()\n",
    "# io function used to get the calib 2d file in the class\n",
    "calib2d_dictionary = specsanalyzer.io.parse_calib2d_to_dict(\n",
    "    \"../specsanalyzer/config/phoibos150.calib2d\"\n",
    ")\n",
    "# calib2d_dictionary=specsanalyzer.io.parse_calib2d_to_dict('./config/phoibos150.calib2d')\n",
    "\n",
    "# settings function used to get  configuration files\n",
    "config_file = specsanalyzer.settings.parse_config(calib2d_dictionary)\n",
    "\n",
    "\n",
    "# get the das  and the rr vector\n",
    "# rr_array, da_matrix=  specsanalyzer.convert.get_rr_da(\"WideAngleMode\", config_file)"
   ]
  },
  {
   "cell_type": "code",
   "execution_count": null,
   "id": "59ee269d",
   "metadata": {},
   "outputs": [],
   "source": [
    "# Load the IGOR txt Di_coeff values for comparison\n",
    "igordatapath = \"../tests/data/dataEPFL/R9132\"\n",
    "igordatapath_content = os.listdir(igordatapath)\n",
    "\n",
    "# get the fitted coefficients\n",
    "Di_coef_list = [i for i in igordatapath_content if \"_coef\" in i]\n",
    "\n",
    "igor_D_coef_list = []\n",
    "for i, name in enumerate(Di_coef_list):\n",
    "    tmp_name = os.path.join(igordatapath, name)\n",
    "    with open(tmp_name) as file:\n",
    "        # check the name in row 1\n",
    "        # first_line=file.readline()\n",
    "        # print(first_line)\n",
    "\n",
    "        # igor_D_coef_list.append(np.loadtxt(file, delimiter='\\t', skiprows=1) )\n",
    "        igor_D_coef_list.append(np.loadtxt(file, delimiter=\"\\t\"))\n",
    "# igor_D_coef_matrix=np.vstack(igor_D_coef_list)\n",
    "igor_D_coef_matrix = np.flip(np.vstack(igor_D_coef_list), axis=1)\n",
    "print(igor_D_coef_matrix)  # row 0 D1 , row 1 D3, ...\n",
    "print(np.vstack(igor_D_coef_list))"
   ]
  },
  {
   "cell_type": "code",
   "execution_count": null,
   "id": "59ee269d",
   "metadata": {},
   "outputs": [],
   "source": [
    "# Load the IGOR txt Da_values for comparison\n",
    "igordatapath = \"../tests/data/dataEPFL/R9132\"\n",
    "igordatapath_content = os.listdir(igordatapath)\n",
    "\n",
    "# get the fitted coefficients\n",
    "Di_value_list = [i for i in igordatapath_content if \"_value.tsv\" in i]\n",
    "\n",
    "igor_D_value_list = []\n",
    "for i, name in enumerate(Di_value_list):\n",
    "    tmp_name = os.path.join(igordatapath, name)\n",
    "    with open(tmp_name) as file:\n",
    "        # check the name in row 1\n",
    "        # first_line=file.readline()\n",
    "        # print(first_line)\n",
    "\n",
    "        # igor_D_value_list.append(np.loadtxt(file, delimiter='\\t', skiprows=1) )\n",
    "        igor_D_value_list.append(np.loadtxt(file, delimiter=\"\\t\"))\n",
    "\n",
    "igor_D_value_matrix = np.vstack(igor_D_value_list)"
   ]
  },
  {
   "cell_type": "code",
   "execution_count": null,
   "id": "64c0d5a8",
   "metadata": {},
   "outputs": [],
   "source": [
    "# let's calculate the corresponding quantities in Pytohn\n",
    "\n",
    "# load the module and import functions for reading the parameter table from the calib2d file\n",
    "import specsanalyzer.convert\n",
    "\n",
    "# let's get all the functions to be tested\n",
    "from specsanalyzer.convert import get_damatrix_fromcalib2d\n",
    "from specsanalyzer.convert import get_rr_da\n",
    "from specsanalyzer.convert import calculate_polynomial_coef_da\n",
    "from specsanalyzer.convert import mcp_position_mm\n",
    "from specsanalyzer.convert import calculate_matrix_correction\n",
    "\n",
    "\n",
    "spa = SpecsAnalyzer(config=\"../tests/data/dataEPFL/config/config.yaml\")\n",
    "config_dict = spa.config\n",
    "lens_mode = \"WideAngleMode\"\n",
    "kinetic_energy = 35.000000\n",
    "pass_energy = 35.000000\n",
    "work_function = 4.3\n",
    "binning = 4\n",
    "\n",
    "eshift = np.array(config_dict[\"calib2d_dict\"][\"eShift\"])\n",
    "\n",
    "aInner, damatrix = get_damatrix_fromcalib2d(\n",
    "    lens_mode,\n",
    "    kinetic_energy,\n",
    "    pass_energy,\n",
    "    work_function,\n",
    "    config_dict,\n",
    ")\n",
    "\n",
    "dapolymatrix = calculate_polynomial_coef_da(\n",
    "    damatrix, kinetic_energy, pass_energy, eshift\n",
    ")\n",
    "\n",
    "\n",
    "# note that for scan 9132 (and 9131) we have   retardatio ratio=   0.88 -> this is wrong imo, checke the effect of the work function\n",
    "#  rr_inf =   10  rr_factor =   0.75 in igor"
   ]
  },
  {
   "cell_type": "code",
   "execution_count": null,
   "id": "1e8f8ed1",
   "metadata": {},
   "outputs": [],
   "source": [
    "print(\"das\")\n",
    "print(damatrix)\n",
    "print(igor_D_value_matrix)\n",
    "print(\"Difference in the interpolated D coeffiecients\")\n",
    "print(damatrix - igor_D_value_matrix)\n",
    "# at the moment they differ by some %..\n",
    "\n",
    "print(\"coefs\")\n",
    "print(dapolymatrix)\n",
    "print(igor_D_coef_matrix)\n",
    "print(\"Difference in the fitted polynomial coeffiecients\")\n",
    "print(dapolymatrix - igor_D_coef_matrix)\n",
    "# at the moment they differ by some %.."
   ]
  },
  {
   "cell_type": "code",
   "execution_count": null,
   "id": "25884670",
   "metadata": {},
   "outputs": [],
   "source": [
    "# get the rr and the damatrix\n",
    "rr, damatrix = get_rr_da(\"WideAngleMode\", config_dict)"
   ]
  },
  {
   "cell_type": "code",
   "execution_count": null,
   "id": "b2c4bbf1",
   "metadata": {},
   "outputs": [],
   "source": [
    "# let's get the jacobian matrices generate by the igor code\n",
    "# and compare it to the one obtained by calculate_matrix_correction\n",
    "\n",
    "# Jacobian\n",
    "jname = [i for i in igordatapath_content if \"Jacobian\" in i][0]\n",
    "with open(os.path.join(igordatapath, jname)) as file:\n",
    "    jacobian_reference = np.loadtxt(file, delimiter=\"\\t\").T\n",
    "\n",
    "print(\"The shape of the jacobian_reference is: \", jacobian_reference.shape)\n",
    "# plt.xlim(120,150)\n",
    "# plt.ylim(150,200)\n",
    "\n",
    "\n",
    "(\n",
    "    ek_axis,\n",
    "    angle_axis,\n",
    "    angular_correction_matrix,\n",
    "    e_correction,\n",
    "    jacobian_determinant,\n",
    ") = calculate_matrix_correction(\n",
    "    lens_mode,\n",
    "    kinetic_energy,\n",
    "    pass_energy,\n",
    "    work_function,\n",
    "    binning,\n",
    "    config_dict,\n",
    ")\n",
    "\n",
    "\n",
    "print(\"The shape of the jacobian_determinant is: \", jacobian_determinant.shape)\n",
    "\n",
    "delta_jacobian = jacobian_determinant - jacobian_reference\n",
    "\n",
    "fig, (ax1, ax2, ax3) = plt.subplots(ncols=3, figsize=(10, 4))\n",
    "subplot1 = ax1.contourf(jacobian_determinant)\n",
    "subplot2 = ax2.contourf(jacobian_reference)\n",
    "subplot3 = ax3.contourf(delta_jacobian)\n",
    "fig.colorbar(subplot1, ax=ax1)\n",
    "fig.colorbar(subplot2, ax=ax2)\n",
    "fig.colorbar(subplot3, ax=ax3)\n",
    "\n",
    "plt.tight_layout()"
   ]
  },
  {
   "cell_type": "code",
   "execution_count": null,
   "id": "4b60a676",
   "metadata": {},
   "outputs": [],
   "source": [
    "# plt.plot(ek_axis,e_correction)\n",
    "d_ecorrection = np.gradient(e_correction, ek_axis)\n",
    "plt.plot(ek_axis, d_ecorrection)"
   ]
  },
  {
   "cell_type": "code",
   "execution_count": null,
   "id": "43fde75f",
   "metadata": {},
   "outputs": [],
   "source": [
    "# e_correction\n",
    "jname = [i for i in igordatapath_content if \"E_Correction\" in i][0]\n",
    "jname\n",
    "with open(os.path.join(igordatapath, jname)) as file:\n",
    "    e_correction_reference = np.loadtxt(file, delimiter=\"\\t\")\n",
    "\n",
    "plt.plot(e_correction)\n",
    "plt.plot(e_correction_reference)\n",
    "\n",
    "# ecorrection is different!!"
   ]
  },
  {
   "cell_type": "code",
   "execution_count": null,
   "id": "a315bead",
   "metadata": {},
   "outputs": [],
   "source": [
    "# e_correction\n",
    "jname = [i for i in igordatapath_content if \"Angular_Correction\" in i][0]\n",
    "jname\n",
    "with open(os.path.join(igordatapath, jname)) as file:\n",
    "    angle_correction_reference = np.loadtxt(file, delimiter=\"\\t\").T\n",
    "\n",
    "delta_angle = angle_correction_reference - angular_correction_matrix\n",
    "\n",
    "fig, (ax1, ax2, ax3) = plt.subplots(1, 3)\n",
    "subplot1 = ax1.contourf(angular_correction_matrix)\n",
    "subplot2 = ax2.contourf(angle_correction_reference)\n",
    "subplot3 = ax3.contourf(delta_angle)\n",
    "fig.colorbar(subplot1, ax=ax1)\n",
    "fig.colorbar(subplot2, ax=ax2)\n",
    "fig.colorbar(subplot3, ax=ax3)\n",
    "plt.tight_layout()"
   ]
  }
 ],
 "metadata": {
  "kernelspec": {
   "display_name": "Python 3.10.4 ('specanalyserenv')",
   "language": "python",
   "name": "python3"
  },
  "language_info": {
   "codemirror_mode": {
    "name": "ipython",
    "version": 3
   },
   "file_extension": ".py",
   "mimetype": "text/x-python",
   "name": "python",
   "nbconvert_exporter": "python",
   "pygments_lexer": "ipython3",
   "version": "3.10.4"
  },
  "vscode": {
   "interpreter": {
    "hash": "01f3a50f1cec8b32686da9a100309d20236977f5c6d2fb4bd4818f1295405c21"
   }
  }
 },
 "nbformat": 4,
 "nbformat_minor": 5
}
