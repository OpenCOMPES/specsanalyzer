{
 "cells": [
  {
   "cell_type": "markdown",
   "id": "864500e2",
   "metadata": {},
   "source": [
    "TEST LOADER FOR PHOIBOS 150 DATA\n",
    "\n",
    "Typical structure \n",
    "/2020/01 January/Day 10/Raw Data/8874\n",
    "\n",
    "Withing the folder of the scan number there is an info.txt and a scan\n",
    "In THE AVG FOLDER there is a set of images, averaged over every acquisition cycle\n",
    "IN THE RAW FOLDER there are single acquisition cycles (difference: in EPFL we added the \"save every n cycle function\"\n",
    "this RAW folder also contains a \"LUT.txt\" file"
   ]
  },
  {
   "cell_type": "code",
   "execution_count": 2,
   "id": "45fafb84",
   "metadata": {},
   "outputs": [
    {
     "name": "stdout",
     "output_type": "stream",
     "text": [
      "example data path=  C:\\Users\\Michele\\OneDrive\\Documenti\\GitHub\\specsanalyzer-1\\tests\\data\\dataEPFL\\2020\\02 February\\Day 17\\Raw Data\\9159\n",
      "AVG images path=  C:\\Users\\Michele\\OneDrive\\Documenti\\GitHub\\specsanalyzer-1\\tests\\data\\dataEPFL\\2020\\02 February\\Day 17\\Raw Data\\9159\\AVG\n"
     ]
    }
   ],
   "source": [
    "#test the os package\n",
    "import os\n",
    "\n",
    "#get current directory\n",
    "workingdir=os.getcwd()\n",
    "#print(workingdir)\n",
    "#navigate to example data\n",
    "exampledatapath=os.path.realpath(os.path.join(workingdir, '..','tests\\data\\dataEPFL\\\\2020\\\\02 February\\Day 17\\Raw Data\\9159'))\n",
    "filelist=os.listdir(exampledatapath)\n",
    "print(\"example data path= \",exampledatapath)\n",
    "#this folders contains the AVG folder with the data, an info.txt vector and a scan vector\n",
    "#filelist\n",
    "\n",
    "#navigate to the image folder, for EPFL in the \\AVG subfolder of the data (note that single scan cycles for partial load are in another subfolder - to be checked with Laurenz)\n",
    "avgimagepath=os.path.realpath(os.path.join(workingdir, '..','tests\\data\\dataEPFL\\\\2020\\\\02 February\\Day 17\\Raw Data\\9159\\AVG'))\n",
    "print(\"AVG images path= \",avgimagepath)\n",
    "rawimagelist=os.listdir(avgimagepath)\n",
    "#alternatively join the paths\n",
    "#avgimagepath=os.path.join(exampledatapath,'AVG') \n"
   ]
  },
  {
   "cell_type": "code",
   "execution_count": 3,
   "id": "6c91b572",
   "metadata": {},
   "outputs": [
    {
     "data": {
      "text/plain": [
       "<matplotlib.colorbar.Colorbar at 0x2049dd74fd0>"
      ]
     },
     "execution_count": 3,
     "metadata": {},
     "output_type": "execute_result"
    },
    {
     "data": {
      "image/png": "[encoded data removed]",
      "text/plain": [
       "<Figure size 432x288 with 2 Axes>"
      ]
     },
     "metadata": {
      "needs_background": "light"
     },
     "output_type": "display_data"
    }
   ],
   "source": [
    "import numpy as np\n",
    "import matplotlib.pyplot as plt\n",
    "fname=os.path.join(avgimagepath,rawimagelist[0]) \n",
    "numpy_array = np.loadtxt(fname, delimiter=\"\\t\")\n",
    "\n",
    "h = plt.contourf(numpy_array)\n",
    "plt.colorbar()\n",
    "#plt.xlim(120,150)\n",
    "#plt.ylim(150,200)"
   ]
  },
  {
   "cell_type": "markdown",
   "id": "3af24f0e",
   "metadata": {},
   "source": [
    "one of the first operations should be to filter the image to remove the grid via FFT filtering"
   ]
  },
  {
   "cell_type": "code",
   "execution_count": 4,
   "id": "61888c46",
   "metadata": {},
   "outputs": [
    {
     "data": {
      "text/plain": [
       "<module 'specsanalyzer.convert' from 'c:\\\\users\\\\michele\\\\onedrive\\\\documenti\\\\github\\\\specsanalyzer-1\\\\specsanalyzer\\\\convert.py'>"
      ]
     },
     "execution_count": 4,
     "metadata": {},
     "output_type": "execute_result"
    }
   ],
   "source": [
    "#load the module and import functions for reading the parameter table from the calib2d file\n",
    "from importlib import reload\n",
    "import specsanalyzer.convert\n",
    "from specsanalyzer.convert import ParametersTable\n",
    "reload(specsanalyzer.convert)\n",
    "from specsanalyzer.convert import GetParameters\n",
    "reload(specsanalyzer.convert)\n",
    "\n"
   ]
  },
  {
   "cell_type": "code",
   "execution_count": 5,
   "id": "89ea0716",
   "metadata": {},
   "outputs": [],
   "source": [
    "#GET THE CALIBRATION FILE NAME FROM THE EXAMPLE FOLDER\n",
    "calib2dfilename=os.path.realpath(os.path.join(workingdir, '..','tests\\data\\dataEPFL\\phoibosEPFL.txt'))\n",
    "#GET THE INFO FILE NAME FROM THE EXAMPLE FOLDER, SCAN 9159\n",
    "#navigate to example data\n",
    "exampledatapath=os.path.realpath(os.path.join(workingdir, '..','tests\\data\\dataEPFL\\\\2020\\\\02 February\\Day 17\\Raw Data\\9159'))\n",
    "filelist=os.listdir(exampledatapath)\n",
    "str_match = list(filter(lambda x: 'info.txt' in x, filelist))\n",
    "infofilename=os.path.join(exampledatapath,str_match[0]) \n",
    "\n",
    "calibrationmatrixfull=ParametersTable(calib2dfilename)\n"
   ]
  },
  {
   "cell_type": "code",
   "execution_count": 6,
   "id": "5e4ac5cb",
   "metadata": {},
   "outputs": [],
   "source": [
    "calibrationmatrixinterp=GetParameters(infofilename,calib2dfilename)"
   ]
  },
  {
   "cell_type": "code",
   "execution_count": 8,
   "id": "75093601",
   "metadata": {},
   "outputs": [
    {
     "name": "stdout",
     "output_type": "stream",
     "text": [
      "<class 'numpy.ndarray'>\n"
     ]
    }
   ],
   "source": [
    "#let's make and test the  polynomial fit\n",
    "ek=10\n",
    "ep=20\n",
    "eshift=np.array([-0.05,0,0.05])\n",
    "currentdamatrix=calibrationmatrixinterp\n",
    "print(type(eshift))\n",
    "da_energy=eshift*ep+ek*np.ones(eshift.shape)\n",
    "\n",
    "def calculate_polynomial_Coef_Da(ek,ep,eshift,currentdamatrix):\n",
    "    \n",
    "    #get the Das from the damatrix\n",
    "    #da1=currentdamatrix[0][:]\n",
    "    #da3=currentdamatrix[1][:]\n",
    "    #da5=currentdamatrix[2][:]\n",
    "    #da7=currentdamatrix[3][:]\n",
    "\n",
    "    #calcualte the energy values for each da, given the eshift\n",
    "    da_energy=eshift*ep+ek*np.ones(eshift.shape)\n",
    "\n",
    "    #create the polinomial coeffiecient matrix, each is a third order polinomial \n",
    "    \n",
    "    dapolymatrix=np.zeros(currentdamatrix.shape)\n",
    "\n",
    "    for i in range(0,currentdamatrix.shape[0]):\n",
    "        #igor uses the fit poly 3, which should be a parabola\n",
    "        dapolymatrix[i][:]=np.polyfit(da_energy, currentdamatrix[i][:], 2).transpose()\n",
    "    return dapolymatrix\n",
    "\n",
    "dapolymatrix=calculate_polynomial_Coef_Da(ek,ep,eshift,currentdamatrix)"
   ]
  },
  {
   "cell_type": "code",
   "execution_count": 10,
   "id": "382eff95",
   "metadata": {},
   "outputs": [
    {
     "data": {
      "text/plain": [
       "[<matplotlib.lines.Line2D at 0x2049e5489d0>]"
      ]
     },
     "execution_count": 10,
     "metadata": {},
     "output_type": "execute_result"
    },
    {
     "data": {
      "image/png": "[encoded data removed]",
      "text/plain": [
       "<Figure size 432x288 with 1 Axes>"
      ]
     },
     "metadata": {
      "needs_background": "light"
     },
     "output_type": "display_data"
    }
   ],
   "source": [
    "polcoef = np.polyfit(da_energy, currentdamatrix[0][:], 2)\n",
    "\n",
    "plt.plot(da_energy,currentdamatrix[0][:])\n",
    "\n",
    "energy_full=np.linspace(ek-ep*0.1,ek+ep*0.1,128)\n",
    "polval=np.polyval(polcoef,energy_full)\n",
    "polval2=np.polyval(dapolymatrix[0][:],energy_full)\n",
    "plt.plot(energy_full,polval)\n",
    "plt.plot(energy_full,polval2)"
   ]
  },
  {
   "cell_type": "code",
   "execution_count": 11,
   "id": "822894aa",
   "metadata": {},
   "outputs": [
    {
     "data": {
      "text/plain": [
       "<module 'specsanalyzer.convert' from 'c:\\\\users\\\\michele\\\\onedrive\\\\documenti\\\\github\\\\specsanalyzer-1\\\\specsanalyzer\\\\convert.py'>"
      ]
     },
     "execution_count": 11,
     "metadata": {},
     "output_type": "execute_result"
    }
   ],
   "source": [
    "from specsanalyzer.convert import calculate_polynomial_coef_da\n",
    "reload(specsanalyzer.convert)"
   ]
  },
  {
   "cell_type": "code",
   "execution_count": 12,
   "id": "e161015c",
   "metadata": {},
   "outputs": [
    {
     "data": {
      "text/plain": [
       "array([[0., 0., 0.],\n",
       "       [0., 0., 0.],\n",
       "       [0., 0., 0.],\n",
       "       [0., 0., 0.]])"
      ]
     },
     "execution_count": 12,
     "metadata": {},
     "output_type": "execute_result"
    }
   ],
   "source": [
    "dapolymatrix2=calculate_polynomial_coef_da(ek,ep,eshift,currentdamatrix)\n",
    "dapolymatrix-dapolymatrix2"
   ]
  },
  {
   "cell_type": "markdown",
   "id": "fa7b83ae",
   "metadata": {},
   "source": [
    "//~~~~~~~~~~~~~~~~~~~~~~~~~~~\n",
    "function MCP_Position_mm(Ek, Ang)\n",
    "Variable Ek, Ang\n",
    "\n",
    "\tNVAR aInner=root:Data:tmpData:Analyser:aInner\n",
    "\tWave D1=root:Data:tmpData:Analyser:D1_coef\n",
    "\tWave D3=root:Data:tmpData:Analyser:D3_coef\n",
    "\tWave D5=root:Data:tmpData:Analyser:D5_coef\n",
    "\tWave D7=root:Data:tmpData:Analyser:D7_coef\n",
    "\n",
    "\tif( abs(Ang) <= aInner)\n",
    "\t\treturn zInner(Ek, Ang)\n",
    "\telse\n",
    "\t\treturn sign(Ang)*(zInner(Ek, aInner) + (abs(Ang)-aInner)*zInner_Diff(Ek, aInner))\n",
    "\tendif\n",
    "end\n",
    "\n",
    "//~~~~~~~~~~~~~~~~~~~~~~~~~~~\n",
    "// returns distance of given angle from center of MCP in mm, at the given energy\n",
    "function zInner(Ek, Ang)\n",
    "Variable Ek, Ang\n",
    "\n",
    "\tWave D1=root:Data:tmpData:Analyser:D1_coef\n",
    "\tWave D3=root:Data:tmpData:Analyser:D3_coef\n",
    "\tWave D5=root:Data:tmpData:Analyser:D5_coef\n",
    "\tWave D7=root:Data:tmpData:Analyser:D7_coef\n",
    "\n",
    "\treturn poly(D1, Ek )*(Ang) + 10^-2*poly(D3, Ek )*(Ang)^3 + 10^-4*poly(D5, Ek )*(Ang)^5 + 10^-6*poly(D7, Ek )*(Ang)^7\n",
    "end\n",
    "\n",
    "//~~~~~~~~~~~~~~~~~~~~~~~~~~~\n",
    "function zInner_Diff(Ek, Ang)\n",
    "Variable Ek, Ang\n",
    "\n",
    "\tWave D1=root:Data:tmpData:Analyser:D1_coef\n",
    "\tWave D3=root:Data:tmpData:Analyser:D3_coef\n",
    "\tWave D5=root:Data:tmpData:Analyser:D5_coef\n",
    "\tWave D7=root:Data:tmpData:Analyser:D7_coef\n",
    "\n",
    "\treturn poly(D1, Ek ) + 3*10^-2*poly(D3, Ek )*(Ang)^2 + 5*10^-4*poly(D5, Ek )*(Ang)^4 + 7*10^-6*poly(D7, Ek )*(Ang)^6\n",
    "end\n"
   ]
  },
  {
   "cell_type": "code",
   "execution_count": 87,
   "id": "061ba5b3",
   "metadata": {},
   "outputs": [],
   "source": [
    "#let's now calculate the mcp_position_mm and zinner functions\n",
    "\n",
    "def zinner(ek,angle,dapolymatrix):\n",
    "    #poly(D1, Ek )*(Ang) + 10^-2*poly(D3, Ek )*(Ang)^3 + 10^-4*poly(D5, Ek )*(Ang)^5 + 10^-6*poly(D7, Ek )*(Ang)^7\n",
    "    result=0\n",
    "    for i in range(0,dapolymatrix.shape[0]):\n",
    "        #igor uses the fit poly 3, which should be a parabola\n",
    "        result=result+ 10**(-(2*i))*angle**(1+2*i)*np.polyval(dapolymatrix[i][:],ek)\n",
    "        \n",
    "    return result\n",
    "\n",
    "def zinner_diff(ek,angle,dapolymatrix):\n",
    "    #poly(D1, Ek ) + 3*10^-2*poly(D3, Ek )*(Ang)^2 + 5*10^-4*poly(D5, Ek )*(Ang)^4 + 7*10^-6*poly(D7, Ek )*(Ang)^6\n",
    "    result=0\n",
    "    for i in range(0,dapolymatrix.shape[0]):\n",
    "        #igor uses the fit poly 3, which should be a parabola\n",
    "        result=result+ (2*i+1)*10**(-(2*i))*angle**(2*i)*np.polyval(dapolymatrix[i][:],ek)\n",
    "        \n",
    "    return result\n",
    "\n",
    "\n",
    "def mcp_position_mm(ek,angle,ainner,dapolymatrix):\n",
    "    \n",
    "    mask=np.greater_equal(np.abs(anglemesh),ainner)\n",
    "   \n",
    "    result=np.zeros(angle.shape)#ideally has to be evaluated on a mesh\n",
    "\n",
    "    result[angletest[0]][angletest[1]]=zinner(ek,angle,dapolymatrix)-(np.sign(angle)*zinner(ek,angle,dapolymatrix)+(abs(angle)-ainner)*zinner_diff(ek,angle,dapolymatrix))\n",
    "    #result.reshape(angle.shape)\n",
    "    result=result+np.sign(angle)*zinner(ek,angle,dapolymatrix)+(abs(angle)-ainner)*zinner_diff(ek,angle,dapolymatrix)\n",
    "    \n",
    "    return result\n",
    "#if np.greater_equal(np.abs(angle),ainner) : #values larger than the ainner have a different treatment\n",
    "#    result= zinner(ek,angle,dapolymatrix)\n",
    "#else:\n",
    "#    result= np.sign(angle)*zinner(ek,angle,dapolymatrix) + (abs(angle)-ainner)*zinner_diff(ek,angle,dapolymatrix)"
   ]
  },
  {
   "cell_type": "code",
   "execution_count": 88,
   "id": "3354d1bb",
   "metadata": {},
   "outputs": [
    {
     "ename": "ValueError",
     "evalue": "shape mismatch: value array of shape (2048,1024) could not be broadcast to indexing result of shape (352256,1024)",
     "output_type": "error",
     "traceback": [
      "\u001b[1;31m---------------------------------------------------------------------------\u001b[0m",
      "\u001b[1;31mValueError\u001b[0m                                Traceback (most recent call last)",
      "\u001b[1;32mc:\\Users\\Michele\\OneDrive\\Documenti\\GitHub\\specsanalyzer-1\\tutorial\\convert_file_tests.ipynb Cell 14\u001b[0m in \u001b[0;36m<cell line: 14>\u001b[1;34m()\u001b[0m\n\u001b[0;32m     <a href='vscode-notebook-cell:/c%3A/Users/Michele/OneDrive/Documenti/GitHub/specsanalyzer-1/tutorial/convert_file_tests.ipynb#ch0000012?line=10'>11</a>\u001b[0m anglemesh,energymesh\u001b[39m=\u001b[39mnp\u001b[39m.\u001b[39mmeshgrid(angles,energies)\n\u001b[0;32m     <a href='vscode-notebook-cell:/c%3A/Users/Michele/OneDrive/Documenti/GitHub/specsanalyzer-1/tutorial/convert_file_tests.ipynb#ch0000012?line=12'>13</a>\u001b[0m select_indices \u001b[39m=\u001b[39m np\u001b[39m.\u001b[39mwhere( np\u001b[39m.\u001b[39mgreater_equal(np\u001b[39m.\u001b[39mabs(anglemesh),ainner) )\n\u001b[1;32m---> <a href='vscode-notebook-cell:/c%3A/Users/Michele/OneDrive/Documenti/GitHub/specsanalyzer-1/tutorial/convert_file_tests.ipynb#ch0000012?line=13'>14</a>\u001b[0m testimage\u001b[39m=\u001b[39mmcp_position_mm(energymesh,anglemesh,\u001b[39m15\u001b[39;49m,dapolymatrix)\n\u001b[0;32m     <a href='vscode-notebook-cell:/c%3A/Users/Michele/OneDrive/Documenti/GitHub/specsanalyzer-1/tutorial/convert_file_tests.ipynb#ch0000012?line=15'>16</a>\u001b[0m \u001b[39m# seems hard to vectorize in this implementation...\u001b[39;00m\n\u001b[0;32m     <a href='vscode-notebook-cell:/c%3A/Users/Michele/OneDrive/Documenti/GitHub/specsanalyzer-1/tutorial/convert_file_tests.ipynb#ch0000012?line=16'>17</a>\u001b[0m \u001b[39m#anglemesh[[np.greater_equal(np.abs(anglemesh),ainner)]].shape()\u001b[39;00m\n\u001b[0;32m     <a href='vscode-notebook-cell:/c%3A/Users/Michele/OneDrive/Documenti/GitHub/specsanalyzer-1/tutorial/convert_file_tests.ipynb#ch0000012?line=17'>18</a>\u001b[0m select_indices\n",
      "\u001b[1;32mc:\\Users\\Michele\\OneDrive\\Documenti\\GitHub\\specsanalyzer-1\\tutorial\\convert_file_tests.ipynb Cell 14\u001b[0m in \u001b[0;36mmcp_position_mm\u001b[1;34m(ek, angle, ainner, dapolymatrix)\u001b[0m\n\u001b[0;32m     <a href='vscode-notebook-cell:/c%3A/Users/Michele/OneDrive/Documenti/GitHub/specsanalyzer-1/tutorial/convert_file_tests.ipynb#ch0000012?line=23'>24</a>\u001b[0m angletest\u001b[39m=\u001b[39mnp\u001b[39m.\u001b[39mwhere( np\u001b[39m.\u001b[39mgreater_equal(np\u001b[39m.\u001b[39mabs(anglemesh),ainner))\n\u001b[0;32m     <a href='vscode-notebook-cell:/c%3A/Users/Michele/OneDrive/Documenti/GitHub/specsanalyzer-1/tutorial/convert_file_tests.ipynb#ch0000012?line=24'>25</a>\u001b[0m result\u001b[39m=\u001b[39mnp\u001b[39m.\u001b[39mzeros(angle\u001b[39m.\u001b[39mshape)\n\u001b[1;32m---> <a href='vscode-notebook-cell:/c%3A/Users/Michele/OneDrive/Documenti/GitHub/specsanalyzer-1/tutorial/convert_file_tests.ipynb#ch0000012?line=26'>27</a>\u001b[0m result[angletest[\u001b[39m0\u001b[39m]][angletest[\u001b[39m1\u001b[39m]]\u001b[39m=\u001b[39mzinner(ek,angle,dapolymatrix)\u001b[39m-\u001b[39m(np\u001b[39m.\u001b[39msign(angle)\u001b[39m*\u001b[39mzinner(ek,angle,dapolymatrix)\u001b[39m+\u001b[39m(\u001b[39mabs\u001b[39m(angle)\u001b[39m-\u001b[39mainner)\u001b[39m*\u001b[39mzinner_diff(ek,angle,dapolymatrix))\n\u001b[0;32m     <a href='vscode-notebook-cell:/c%3A/Users/Michele/OneDrive/Documenti/GitHub/specsanalyzer-1/tutorial/convert_file_tests.ipynb#ch0000012?line=27'>28</a>\u001b[0m \u001b[39m#result.reshape(angle.shape)\u001b[39;00m\n\u001b[0;32m     <a href='vscode-notebook-cell:/c%3A/Users/Michele/OneDrive/Documenti/GitHub/specsanalyzer-1/tutorial/convert_file_tests.ipynb#ch0000012?line=28'>29</a>\u001b[0m result\u001b[39m=\u001b[39mresult\u001b[39m+\u001b[39mnp\u001b[39m.\u001b[39msign(angle)\u001b[39m*\u001b[39mzinner(ek,angle,dapolymatrix)\u001b[39m+\u001b[39m(\u001b[39mabs\u001b[39m(angle)\u001b[39m-\u001b[39mainner)\u001b[39m*\u001b[39mzinner_diff(ek,angle,dapolymatrix)\n",
      "\u001b[1;31mValueError\u001b[0m: shape mismatch: value array of shape (2048,1024) could not be broadcast to indexing result of shape (352256,1024)"
     ]
    }
   ],
   "source": [
    "from numpy import angle\n",
    "\n",
    "\n",
    "#mcp_position_mm(1,1,15,dapolymatrix)\n",
    "\n",
    "angles=np.linspace(-18,18,1024)\n",
    "energies=np.linspace(10,20,2048)\n",
    "\n",
    "ainner=15\n",
    "\n",
    "anglemesh,energymesh=np.meshgrid(angles,energies)\n",
    "mask=np.greater_equal(np.abs(anglemesh),ainner)\n",
    "select_indices = np.where(  )\n",
    "testimage=mcp_position_mm(energymesh,anglemesh,15,dapolymatrix)\n",
    "\n",
    "# seems hard to vectorize in this implementation...\n",
    "#anglemesh[[np.greater_equal(np.abs(anglemesh),ainner)]].shape()\n",
    "select_indices"
   ]
  },
  {
   "cell_type": "code",
   "execution_count": null,
   "id": "275a8dd9",
   "metadata": {},
   "outputs": [],
   "source": []
  }
 ],
 "metadata": {
  "kernelspec": {
   "display_name": "Python 3 (ipykernel)",
   "language": "python",
   "name": "python3"
  },
  "language_info": {
   "codemirror_mode": {
    "name": "ipython",
    "version": 3
   },
   "file_extension": ".py",
   "mimetype": "text/x-python",
   "name": "python",
   "nbconvert_exporter": "python",
   "pygments_lexer": "ipython3",
   "version": "3.9.12"
  },
  "vscode": {
   "interpreter": {
    "hash": "ad2bdc8ecc057115af97d19610ffacc2b4e99fae6737bb82f5d7fb13d2f2c186"
   }
  }
 },
 "nbformat": 4,
 "nbformat_minor": 5
}
