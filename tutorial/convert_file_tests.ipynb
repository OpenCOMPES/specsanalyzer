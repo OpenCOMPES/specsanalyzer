{
 "cells": [
  {
   "cell_type": "markdown",
   "id": "864500e2",
   "metadata": {},
   "source": [
    "TEST LOADER FOR PHOIBOS 150 DATA\n",
    "\n",
    "Typical structure \n",
    "/2020/01 January/Day 10/Raw Data/8874\n",
    "\n",
    "Withing the folder of the scan number there is an info.txt and a scan\n",
    "In THE AVG FOLDER there is a set of images, averaged over every acquisition cycle\n",
    "IN THE RAW FOLDER there are single acquisition cycles (difference: in EPFL we added the \"save every n cycle function\"\n",
    "this RAW folder also contains a \"LUT.txt\" file"
   ]
  },
  {
   "cell_type": "code",
   "execution_count": 5,
   "id": "45fafb84",
   "metadata": {},
   "outputs": [
    {
     "name": "stdout",
     "output_type": "stream",
     "text": [
      "example data path=  C:\\Users\\Michele\\Documents\\GitHub\\vscode\\specsanalyzer\\tests\\data\\dataEPFL\\2020\\02 February\\Day 17\\Raw Data\\9159\n",
      "AVG images path=  C:\\Users\\Michele\\Documents\\GitHub\\vscode\\specsanalyzer\\tests\\data\\dataEPFL\\2020\\02 February\\Day 17\\Raw Data\\9159\\AVG\n"
     ]
    }
   ],
   "source": [
    "#test the os package\n",
    "import os\n",
    "\n",
    "#get current directory\n",
    "workingdir=os.getcwd()\n",
    "#print(workingdir)\n",
    "#navigate to example data\n",
    "exampledatapath=os.path.realpath(os.path.join(workingdir, '..','tests\\data\\dataEPFL\\\\2020\\\\02 February\\Day 17\\Raw Data\\9159'))\n",
    "filelist=os.listdir(exampledatapath)\n",
    "print(\"example data path= \",exampledatapath)\n",
    "#this folders contains the AVG folder with the data, an info.txt vector and a scan vector\n",
    "#filelist\n",
    "\n",
    "#navigate to the image folder, for EPFL in the \\AVG subfolder of the data (note that single scan cycles for partial load are in another subfolder - to be checked with Laurenz)\n",
    "avgimagepath=os.path.realpath(os.path.join(workingdir, '..','tests\\data\\dataEPFL\\\\2020\\\\02 February\\Day 17\\Raw Data\\9159\\AVG'))\n",
    "print(\"AVG images path= \",avgimagepath)\n",
    "rawimagelist=os.listdir(avgimagepath)\n",
    "#alternatively join the paths\n",
    "#avgimagepath=os.path.join(exampledatapath,'AVG') \n"
   ]
  },
  {
   "cell_type": "code",
   "execution_count": 6,
   "id": "6c91b572",
   "metadata": {},
   "outputs": [
    {
     "data": {
      "text/plain": [
       "<matplotlib.colorbar.Colorbar at 0x1787794fdc0>"
      ]
     },
     "execution_count": 6,
     "metadata": {},
     "output_type": "execute_result"
    },
    {
     "data": {
      "image/png": "[encoded data removed]",
      "text/plain": [
       "<Figure size 432x288 with 2 Axes>"
      ]
     },
     "metadata": {
      "needs_background": "light"
     },
     "output_type": "display_data"
    }
   ],
   "source": [
    "import numpy as np\n",
    "import matplotlib.pyplot as plt\n",
    "fname=os.path.join(avgimagepath,rawimagelist[0]) \n",
    "numpy_array = np.loadtxt(fname, delimiter=\"\\t\")\n",
    "\n",
    "h = plt.contourf(numpy_array)\n",
    "plt.colorbar()\n",
    "#plt.xlim(120,150)\n",
    "#plt.ylim(150,200)"
   ]
  },
  {
   "cell_type": "markdown",
   "id": "3af24f0e",
   "metadata": {},
   "source": [
    "one of the first operations should be to filter the image to remove the grid via FFT filtering"
   ]
  },
  {
   "cell_type": "code",
   "execution_count": 12,
   "id": "61888c46",
   "metadata": {},
   "outputs": [
    {
     "data": {
      "text/plain": [
       "<module 'specsanalyzer.convert' from 'c:\\\\users\\\\michele\\\\documents\\\\github\\\\vscode\\\\specsanalyzer\\\\specsanalyzer\\\\convert.py'>"
      ]
     },
     "execution_count": 12,
     "metadata": {},
     "output_type": "execute_result"
    }
   ],
   "source": [
    "#load the module and import functions for reading the parameter table from the calib2d file\n",
    "from importlib import reload\n",
    "import specsanalyzer.convert\n",
    "from specsanalyzer.convert import ParametersTable\n",
    "reload(specsanalyzer.convert)\n",
    "from specsanalyzer.convert import GetParameters\n",
    "reload(specsanalyzer.convert)\n",
    "\n"
   ]
  },
  {
   "cell_type": "code",
   "execution_count": 14,
   "id": "89ea0716",
   "metadata": {},
   "outputs": [],
   "source": [
    "#GET THE CALIBRATION FILE NAME FROM THE EXAMPLE FOLDER\n",
    "calib2dfilename=os.path.realpath(os.path.join(workingdir, '..','tests\\data\\dataEPFL\\phoibosEPFL.txt'))\n",
    "#GET THE INFO FILE NAME FROM THE EXAMPLE FOLDER, SCAN 9159\n",
    "#navigate to example data\n",
    "exampledatapath=os.path.realpath(os.path.join(workingdir, '..','tests\\data\\dataEPFL\\\\2020\\\\02 February\\Day 17\\Raw Data\\9159'))\n",
    "filelist=os.listdir(exampledatapath)\n",
    "str_match = list(filter(lambda x: 'info.txt' in x, filelist))\n",
    "infofilename=os.path.join(exampledatapath,str_match[0]) \n",
    "\n",
    "calibrationmatrixfull=ParametersTable(calib2dfilename)\n"
   ]
  },
  {
   "cell_type": "code",
   "execution_count": 16,
   "id": "5e4ac5cb",
   "metadata": {},
   "outputs": [
    {
     "name": "stdout",
     "output_type": "stream",
     "text": [
      "Our aInner, Das, and RR parameters depending on the LensMode: [[ 1.400e+01  5.102e-01  5.761e-01  4.200e-01  1.000e-01]\n",
      " [ 1.400e+01 -2.352e-02  7.230e-02  2.424e-01  1.000e-01]\n",
      " [ 1.400e+01  2.391e-02 -6.087e-03 -1.908e-02  1.000e-01]\n",
      " [ 1.400e+01 -1.339e-02 -1.605e-03 -5.363e-03  1.000e-01]\n",
      " [ 1.500e+01  5.839e-01  6.494e-01  6.104e-01  2.000e-01]\n",
      " [ 1.500e+01 -1.569e-02  5.095e-02  1.621e-01  2.000e-01]\n",
      " [ 1.500e+01  1.359e-02 -1.416e-02 -4.377e-02  2.000e-01]\n",
      " [ 1.500e+01 -8.422e-03 -1.879e-04  2.840e-03  2.000e-01]\n",
      " [ 1.500e+01  6.459e-01  7.183e-01  7.196e-01  3.000e-01]\n",
      " [ 1.500e+01 -2.780e-02  3.312e-02  1.291e-01  3.000e-01]\n",
      " [ 1.500e+01  1.291e-02 -1.964e-02 -5.822e-02  3.000e-01]\n",
      " [ 1.500e+01 -8.267e-03  1.243e-03  7.881e-03  3.000e-01]\n",
      " [ 1.500e+01  6.674e-01  7.306e-01  7.326e-01  3.500e-01]\n",
      " [ 1.500e+01 -2.429e-02  3.752e-02  1.330e-01  3.500e-01]\n",
      " [ 1.500e+01  9.284e-03 -2.501e-02 -6.670e-02  3.500e-01]\n",
      " [ 1.500e+01 -6.816e-03  2.873e-03  1.045e-02  3.500e-01]\n",
      " [ 1.500e+01  6.697e-01  7.217e-01  7.196e-01  4.200e-01]\n",
      " [ 1.500e+01 -2.665e-02  3.711e-02  1.309e-01  4.200e-01]\n",
      " [ 1.500e+01  8.432e-03 -2.877e-02 -7.389e-02  4.200e-01]\n",
      " [ 1.500e+01 -6.662e-03  4.071e-03  1.335e-02  4.200e-01]\n",
      " [ 1.500e+01  6.991e-01  7.439e-01  7.434e-01  5.000e-01]\n",
      " [ 1.500e+01 -1.501e-02  4.937e-02  1.412e-01  5.000e-01]\n",
      " [ 1.500e+01 -6.575e-04 -3.754e-02 -8.251e-02  5.000e-01]\n",
      " [ 1.500e+01 -3.704e-03  6.261e-03  1.549e-02  5.000e-01]\n",
      " [ 1.500e+01  7.058e-01  7.458e-01  7.439e-01  5.500e-01]\n",
      " [ 1.500e+01 -8.975e-03  5.661e-02  1.479e-01  5.500e-01]\n",
      " [ 1.500e+01 -6.069e-03 -4.350e-02 -8.837e-02  5.500e-01]\n",
      " [ 1.500e+01 -2.209e-03  7.638e-03  1.681e-02  5.500e-01]\n",
      " [ 1.500e+01  7.059e-01  7.423e-01  7.397e-01  6.000e-01]\n",
      " [ 1.500e+01 -6.106e-03  5.967e-02  1.493e-01  6.000e-01]\n",
      " [ 1.500e+01 -8.789e-03 -4.677e-02 -9.165e-02  6.000e-01]\n",
      " [ 1.500e+01 -1.481e-03  8.548e-03  1.792e-02  6.000e-01]\n",
      " [ 1.500e+01  7.062e-01  7.413e-01  7.424e-01  7.000e-01]\n",
      " [ 1.500e+01 -8.549e-03  5.506e-02  1.385e-01  7.000e-01]\n",
      " [ 1.500e+01 -8.280e-03 -4.674e-02 -9.076e-02  7.000e-01]\n",
      " [ 1.500e+01 -1.887e-03  8.696e-03  1.859e-02  7.000e-01]\n",
      " [ 1.500e+01  7.190e-01  7.557e-01  7.617e-01  7.500e-01]\n",
      " [ 1.500e+01 -3.456e-03  5.766e-02  1.366e-01  7.500e-01]\n",
      " [ 1.500e+01 -1.120e-02 -4.802e-02 -8.967e-02  7.500e-01]\n",
      " [ 1.500e+01 -1.002e-03  9.015e-03  1.844e-02  7.500e-01]\n",
      " [ 1.500e+01  7.084e-01  7.419e-01  7.459e-01  8.200e-01]\n",
      " [ 1.500e+01 -6.823e-03  5.387e-02  1.313e-01  8.200e-01]\n",
      " [ 1.500e+01 -9.674e-03 -4.710e-02 -8.955e-02  8.200e-01]\n",
      " [ 1.500e+01 -1.572e-03  8.960e-03  1.913e-02  8.200e-01]\n",
      " [ 1.500e+01  7.244e-01  7.582e-01  7.652e-01  9.000e-01]\n",
      " [ 1.500e+01  8.157e-04  6.046e-02  1.351e-01  9.000e-01]\n",
      " [ 1.500e+01 -1.545e-02 -5.178e-02 -9.250e-02  9.000e-01]\n",
      " [ 1.500e+01  4.007e-05  1.006e-02  1.978e-02  9.000e-01]\n",
      " [ 1.500e+01  7.253e-01  7.577e-01  7.640e-01  9.500e-01]\n",
      " [ 1.500e+01  1.804e-03  6.184e-02  1.363e-01  9.500e-01]\n",
      " [ 1.500e+01 -1.676e-02 -5.357e-02 -9.462e-02  9.500e-01]\n",
      " [ 1.500e+01  3.728e-04  1.061e-02  2.056e-02  9.500e-01]\n",
      " [ 1.500e+01  7.271e-01  7.587e-01  7.651e-01  1.000e+00]\n",
      " [ 1.500e+01  3.299e-03  6.326e-02  1.371e-01  1.000e+00]\n",
      " [ 1.500e+01 -1.850e-02 -5.538e-02 -9.634e-02  1.000e+00]\n",
      " [ 1.500e+01  7.674e-04  1.105e-02  2.108e-02  1.000e+00]\n",
      " [ 1.500e+01  6.942e-01  7.123e-01  7.088e-01  1.500e+00]\n",
      " [ 1.500e+01  1.158e-02  7.910e-02  1.612e-01  1.500e+00]\n",
      " [ 1.500e+01 -3.046e-02 -7.548e-02 -1.270e-01  1.500e+00]\n",
      " [ 1.500e+01  3.665e-03  1.679e-02  3.061e-02  1.500e+00]\n",
      " [ 1.500e+01  6.921e-01  7.050e-01  6.988e-01  2.000e+00]\n",
      " [ 1.500e+01  2.141e-02  9.505e-02  1.808e-01  2.000e+00]\n",
      " [ 1.500e+01 -4.294e-02 -9.396e-02 -1.501e-01  2.000e+00]\n",
      " [ 1.500e+01  6.322e-03  2.134e-02  3.696e-02  2.000e+00]\n",
      " [ 1.500e+01  7.382e-01  7.642e-01  7.766e-01  3.350e+00]\n",
      " [ 1.500e+01  2.953e-02  7.911e-02  1.371e-01  3.350e+00]\n",
      " [ 1.500e+01 -4.626e-02 -7.608e-02 -1.103e-01  3.350e+00]\n",
      " [ 1.500e+01  5.810e-03  1.515e-02  2.558e-02  3.350e+00]\n",
      " [ 1.500e+01  7.430e-01  7.703e-01  7.843e-01  3.420e+00]\n",
      " [ 1.500e+01  2.210e-02  7.082e-02  1.280e-01  3.420e+00]\n",
      " [ 1.500e+01 -4.016e-02 -6.931e-02 -1.031e-01  3.420e+00]\n",
      " [ 1.500e+01  3.953e-03  1.312e-02  2.345e-02  3.420e+00]\n",
      " [ 1.500e+01  7.410e-01  7.689e-01  7.840e-01  3.500e+00]\n",
      " [ 1.500e+01  1.761e-02  6.534e-02  1.203e-01  3.500e+00]\n",
      " [ 1.500e+01 -3.521e-02 -6.335e-02 -9.506e-02  3.500e+00]\n",
      " [ 1.500e+01  2.566e-03  1.148e-02  2.137e-02  3.500e+00]\n",
      " [ 1.500e+01  7.347e-01  7.609e-01  7.746e-01  3.750e+00]\n",
      " [ 1.500e+01  2.843e-02  7.600e-02  1.309e-01  3.750e+00]\n",
      " [ 1.500e+01 -4.637e-02 -7.367e-02 -1.045e-01  3.750e+00]\n",
      " [ 1.500e+01  5.664e-03  1.426e-02  2.376e-02  3.750e+00]\n",
      " [ 1.500e+01  7.315e-01  7.563e-01  7.684e-01  4.000e+00]\n",
      " [ 1.500e+01  3.234e-02  7.890e-02  1.326e-01  4.000e+00]\n",
      " [ 1.500e+01 -5.177e-02 -7.691e-02 -1.053e-01  4.000e+00]\n",
      " [ 1.500e+01  6.915e-03  1.477e-02  2.347e-02  4.000e+00]\n",
      " [ 1.500e+01  7.114e-01  7.277e-01  7.314e-01  4.500e+00]\n",
      " [ 1.500e+01  5.143e-02  1.023e-01  1.597e-01  4.500e+00]\n",
      " [ 1.500e+01 -7.263e-02 -1.002e-01 -1.304e-01  4.500e+00]\n",
      " [ 1.500e+01  1.226e-02  2.096e-02  3.036e-02  4.500e+00]\n",
      " [ 1.500e+01  7.080e-01  7.207e-01  7.206e-01  5.000e+00]\n",
      " [ 1.500e+01  6.204e-02  1.114e-01  1.668e-01  5.000e+00]\n",
      " [ 1.500e+01 -8.391e-02 -1.089e-01 -1.357e-01  5.000e+00]\n",
      " [ 1.500e+01  1.484e-02  2.283e-02  3.133e-02  5.000e+00]\n",
      " [ 1.500e+01  7.136e-01  7.254e-01  7.247e-01  5.500e+00]\n",
      " [ 1.500e+01  6.091e-02  1.079e-01  1.600e-01  5.500e+00]\n",
      " [ 1.500e+01 -8.190e-02 -1.041e-01 -1.276e-01  5.500e+00]\n",
      " [ 1.500e+01  1.381e-02  2.115e-02  2.887e-02  5.500e+00]\n",
      " [ 1.500e+01  7.291e-01  7.418e-01  7.426e-01  6.000e+00]\n",
      " [ 1.500e+01  6.369e-02  1.081e-01  1.565e-01  6.000e+00]\n",
      " [ 1.500e+01 -8.204e-02 -1.014e-01 -1.216e-01  6.000e+00]\n",
      " [ 1.500e+01  1.320e-02  1.974e-02  2.669e-02  6.000e+00]\n",
      " [ 1.500e+01  7.633e-01  7.803e-01  7.854e-01  7.000e+00]\n",
      " [ 1.500e+01  6.830e-02  1.053e-01  1.481e-01  7.000e+00]\n",
      " [ 1.500e+01 -7.987e-02 -9.177e-02 -1.064e-01  7.000e+00]\n",
      " [ 1.500e+01  1.094e-02  1.520e-02  2.043e-02  7.000e+00]\n",
      " [ 1.500e+01  7.706e-01  7.861e-01  7.899e-01  7.600e+00]\n",
      " [ 1.500e+01  7.551e-02  1.138e-01  1.565e-01  7.600e+00]\n",
      " [ 1.500e+01 -8.652e-02 -9.952e-02 -1.142e-01  7.600e+00]\n",
      " [ 1.500e+01  1.230e-02  1.693e-02  2.230e-02  7.600e+00]\n",
      " [ 1.500e+01  7.698e-01  7.845e-01  7.883e-01  8.000e+00]\n",
      " [ 1.500e+01  6.995e-02  1.088e-01  1.488e-01  8.000e+00]\n",
      " [ 1.500e+01 -7.987e-02 -9.345e-02 -1.049e-01  8.000e+00]\n",
      " [ 1.500e+01  1.032e-02  1.527e-02  1.982e-02  8.000e+00]\n",
      " [ 1.400e+01  7.775e-01  7.903e-01  7.917e-01  9.000e+00]\n",
      " [ 1.400e+01  6.557e-02  1.022e-01  1.422e-01  9.000e+00]\n",
      " [ 1.400e+01 -7.905e-02 -8.999e-02 -1.016e-01  9.000e+00]\n",
      " [ 1.400e+01  9.359e-03  1.382e-02  1.879e-02  9.000e+00]\n",
      " [ 1.400e+01  7.813e-01  7.928e-01  7.929e-01  9.250e+00]\n",
      " [ 1.400e+01  7.381e-02  1.122e-01  1.524e-01  9.250e+00]\n",
      " [ 1.400e+01 -8.673e-02 -9.952e-02 -1.106e-01  9.250e+00]\n",
      " [ 1.400e+01  1.096e-02  1.590e-02  2.056e-02  9.250e+00]\n",
      " [ 1.400e+01  7.803e-01  7.913e-01  7.907e-01  9.500e+00]\n",
      " [ 1.400e+01  6.996e-02  1.080e-01  1.482e-01  9.500e+00]\n",
      " [ 1.400e+01 -8.267e-02 -9.493e-02 -1.059e-01  9.500e+00]\n",
      " [ 1.400e+01  9.901e-03  1.474e-02  1.949e-02  9.500e+00]\n",
      " [ 1.400e+01  7.830e-01  7.940e-01  7.933e-01  9.750e+00]\n",
      " [ 1.400e+01  6.895e-02  1.055e-01  1.451e-01  9.750e+00]\n",
      " [ 1.400e+01 -8.245e-02 -9.305e-02 -1.034e-01  9.750e+00]\n",
      " [ 1.400e+01  9.759e-03  1.415e-02  1.880e-02  9.750e+00]\n",
      " [ 1.400e+01  7.868e-01  7.968e-01  7.953e-01  1.000e+01]\n",
      " [ 1.400e+01  6.753e-02  1.067e-01  1.475e-01  1.000e+01]\n",
      " [ 1.400e+01 -8.081e-02 -9.454e-02 -1.064e-01  1.000e+01]]\n",
      "All the parameters RR value [ 0.1   0.2   0.3   0.35  0.42  0.5   0.55  0.6   0.7   0.75  0.82  0.9\n",
      "  0.95  1.    1.5   2.    3.35  3.42  3.5   3.75  4.    4.5   5.    5.5\n",
      "  6.    7.    7.6   8.    9.    9.25  9.5   9.75 10.  ]\n"
     ]
    },
    {
     "ename": "UnboundLocalError",
     "evalue": "local variable 'val' referenced before assignment",
     "output_type": "error",
     "traceback": [
      "\u001b[1;31m---------------------------------------------------------------------------\u001b[0m",
      "\u001b[1;31mUnboundLocalError\u001b[0m                         Traceback (most recent call last)",
      "\u001b[1;32m~\\AppData\\Local\\Temp/ipykernel_25920/226414183.py\u001b[0m in \u001b[0;36m<module>\u001b[1;34m\u001b[0m\n\u001b[1;32m----> 1\u001b[1;33m \u001b[0mcalibrationmatrixinterp\u001b[0m\u001b[1;33m=\u001b[0m\u001b[0mGetParameters\u001b[0m\u001b[1;33m(\u001b[0m\u001b[0minfofilename\u001b[0m\u001b[1;33m,\u001b[0m\u001b[0mcalib2dfilename\u001b[0m\u001b[1;33m)\u001b[0m\u001b[1;33m\u001b[0m\u001b[1;33m\u001b[0m\u001b[0m\n\u001b[0m",
      "\u001b[1;32mc:\\users\\michele\\documents\\github\\vscode\\specsanalyzer\\specsanalyzer\\convert.py\u001b[0m in \u001b[0;36mGetParameters\u001b[1;34m(infofile, calibfile)\u001b[0m\n\u001b[0;32m    341\u001b[0m \u001b[1;33m\u001b[0m\u001b[0m\n\u001b[0;32m    342\u001b[0m \u001b[1;33m\u001b[0m\u001b[0m\n\u001b[1;32m--> 343\u001b[1;33m     \u001b[0mRRCloseVal\u001b[0m\u001b[1;33m=\u001b[0m\u001b[0mval\u001b[0m\u001b[1;33m\u001b[0m\u001b[1;33m\u001b[0m\u001b[0m\n\u001b[0m\u001b[0;32m    344\u001b[0m \u001b[1;33m\u001b[0m\u001b[0m\n\u001b[0;32m    345\u001b[0m     \u001b[0mstepDa\u001b[0m\u001b[1;33m=\u001b[0m\u001b[1;36m4\u001b[0m\u001b[1;33m\u001b[0m\u001b[1;33m\u001b[0m\u001b[0m\n",
      "\u001b[1;31mUnboundLocalError\u001b[0m: local variable 'val' referenced before assignment"
     ]
    }
   ],
   "source": [
    "calibrationmatrixinterp=GetParameters(infofilename,calib2dfilename)"
   ]
  },
  {
   "cell_type": "code",
   "execution_count": null,
   "id": "28e0d871",
   "metadata": {},
   "outputs": [],
   "source": []
  }
 ],
 "metadata": {
  "kernelspec": {
   "display_name": "Python 3 (ipykernel)",
   "language": "python",
   "name": "python3"
  },
  "language_info": {
   "codemirror_mode": {
    "name": "ipython",
    "version": 3
   },
   "file_extension": ".py",
   "mimetype": "text/x-python",
   "name": "python",
   "nbconvert_exporter": "python",
   "pygments_lexer": "ipython3",
   "version": "3.9.7"
  },
  "vscode": {
   "interpreter": {
    "hash": "ad2bdc8ecc057115af97d19610ffacc2b4e99fae6737bb82f5d7fb13d2f2c186"
   }
  }
 },
 "nbformat": 4,
 "nbformat_minor": 5
}
