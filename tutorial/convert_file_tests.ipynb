{
 "cells": [
  {
   "cell_type": "markdown",
   "id": "864500e2",
   "metadata": {},
   "source": [
    "TEST LOADER FOR PHOIBOS 150 DATA\n",
    "\n",
    "Typical structure \n",
    "/2020/01 January/Day 10/Raw Data/8874\n",
    "\n",
    "Withing the folder of the scan number there is an info.txt and a scan\n",
    "In THE AVG FOLDER there is a set of images, averaged over every acquisition cycle\n",
    "IN THE RAW FOLDER there are single acquisition cycles (difference: in EPFL we added the \"save every n cycle function\"\n",
    "this RAW folder also contains a \"LUT.txt\" file"
   ]
  },
  {
   "cell_type": "code",
   "execution_count": null,
   "id": "45fafb84",
   "metadata": {},
   "outputs": [],
   "source": [
    "from importlib import reload\n",
    "from specsanalyzer import SpecsAnalyzer\n",
    "import matplotlib.pyplot as plt\n",
    "import xarray as xr\n",
    "import numpy as np\n",
    "spa = SpecsAnalyzer()\n",
    "\n",
    "import os\n",
    "exampledatapath='../tests/data/dataEPFL/9159/'\n",
    "filelist=os.listdir(exampledatapath)\n",
    "print(\"example data path= \",exampledatapath)\n",
    "#this folders contains the AVG folder with the data, an info.txt vector and a scan vector\n",
    "\n",
    "#navigate to the image folder, for EPFL in the \\AVG subfolder of the data\n",
    "avgimagepath='../tests/data/dataEPFL/9159/AVG'\n",
    "print(\"AVG images path= \",avgimagepath)\n",
    "rawimagelist=os.listdir(avgimagepath)\n"
   ]
  },
  {
   "cell_type": "code",
   "execution_count": null,
   "id": "6c91b572",
   "metadata": {},
   "outputs": [],
   "source": [
    "raw_image_name=os.path.join(avgimagepath,rawimagelist[0]) \n",
    "with open(raw_image_name) as file:\n",
    "    tsv_data = np.loadtxt(file, delimiter='\\t')\n",
    "plt.figure()\n",
    "h = plt.contourf(tsv_data)\n",
    "plt.colorbar()\n",
    "print(\"The shape of the raw data is: \",tsv_data.shape)\n",
    "#plt.xlim(120,150)\n",
    "#plt.ylim(150,200)\n"
   ]
  },
  {
   "cell_type": "code",
   "execution_count": null,
   "id": "149af2f2",
   "metadata": {},
   "outputs": [],
   "source": [
    "from specsanalyzer import SpecsAnalyzer\n",
    "reload(specsanalyzer)\n",
    "import matplotlib.pyplot as plt\n",
    "import xarray as xr\n",
    "import numpy as np\n",
    "spa = SpecsAnalyzer()\n",
    "scanparameters=spa.return_config()"
   ]
  },
  {
   "cell_type": "code",
   "execution_count": null,
   "id": "61888c46",
   "metadata": {},
   "outputs": [],
   "source": [
    "#load the module and import functions for reading the parameter table from the calib2d file\n",
    "import specsanalyzer.convert\n",
    "reload(specsanalyzer.convert)   \n",
    "\n",
    "\n",
    "#let's get all the functions to be tested\n",
    "from specsanalyzer.convert import get_damatrix_fromcalib2d\n",
    "from specsanalyzer.convert import get_rr_da\n",
    "from specsanalyzer.convert import calculate_polynomial_coef_da\n",
    "from specsanalyzer.convert import mcp_position_mm\n"
   ]
  },
  {
   "cell_type": "code",
   "execution_count": null,
   "id": "aa27895f",
   "metadata": {},
   "outputs": [],
   "source": [
    "from specsanalyzer import SpecsAnalyzer\n",
    "import matplotlib.pyplot as plt\n",
    "import xarray as xr\n",
    "import numpy as np\n",
    "\n",
    "# call an instance of the class \n",
    "spa = SpecsAnalyzer()\n",
    "# io function used to get the calib 2d file in the class\n",
    "calib2d_dictionary=specsanalyzer.io.parse_calib2d_to_dict('../tests/data/dataEPFL/phoibosEPFL.calib2d')\n",
    "# settings function used to get  configuration files  \n",
    "config_file=specsanalyzer.settings.parse_config(config_dictionary)\n",
    "\n",
    "\n",
    "\n",
    "#get the das  and the rr vector \n",
    "#rr_array, da_matrix=  specsanalyzer.convert.get_rr_da(\"WideAngleMode\", config_file)"
   ]
  },
  {
   "cell_type": "code",
   "execution_count": null,
   "id": "64c0d5a8",
   "metadata": {},
   "outputs": [],
   "source": [
    "#get the rr and the damatrix\n",
    "rr, damatrix= get_rr_da(\"WideAngleMode\",spa.return_config())"
   ]
  },
  {
   "cell_type": "code",
   "execution_count": null,
   "id": "1d5476e3",
   "metadata": {},
   "outputs": [],
   "source": [
    "x = [1e-5, 1000, 1e-1]\n",
    "\n",
    "y = np.arccos(np.cos(x))\n",
    "\n",
    "a=np.testing.assert_allclose(x, y, rtol=1e-5, atol=0)\n",
    "print(a)"
   ]
  },
  {
   "cell_type": "code",
   "execution_count": null,
   "id": "e7a6ce09",
   "metadata": {},
   "outputs": [],
   "source": [
    "# For the example scan we have the following settings:\n",
    "ek=float(scanparameters[\"KineticEnergy\"])\n",
    "ep=float(scanparameters[\"PassEnergy\"])\n",
    "erange=scanparameters[\"eRange\"]\n",
    "arange=scanparameters[\"aRange\"]\n",
    "angles=np.linspace(-20,20,1024)\n",
    "energies=np.linspace(ek+ep*erange[0],ek+ep*erange[1],2048)\n",
    "ainner=15\n",
    "energymesh,anglemesh=np.meshgrid(energies,angles)\n",
    "\n",
    "testimage=mcp_position_mm(energymesh,anglemesh,scanparameters)"
   ]
  },
  {
   "cell_type": "code",
   "execution_count": null,
   "id": "990491c0",
   "metadata": {},
   "outputs": [],
   "source": [
    "from matplotlib import cm"
   ]
  },
  {
   "cell_type": "code",
   "execution_count": null,
   "id": "64a39ec2",
   "metadata": {},
   "outputs": [],
   "source": [
    "# For the example scan we have the following settings:\n",
    "(ek_axis, angle_axis, angular_correction_matrix, e_correction,\n",
    "         jacobian_determinant)=calculate_matrix_correction(scanparameters)"
   ]
  },
  {
   "cell_type": "code",
   "execution_count": null,
   "id": "3128707f",
   "metadata": {},
   "outputs": [],
   "source": [
    "from matplotlib import cm\n",
    "\n",
    "plt.contourf(ek_axis,angle_axis,angular_correction_matrix)\n",
    "plt.colorbar()"
   ]
  },
  {
   "cell_type": "code",
   "execution_count": null,
   "id": "1e726955",
   "metadata": {},
   "outputs": [],
   "source": [
    "plt.contourf(ek_axis,angle_axis,jacobian_determinant)\n",
    "plt.colorbar()"
   ]
  },
  {
   "cell_type": "code",
   "execution_count": null,
   "id": "631c61a3",
   "metadata": {},
   "outputs": [],
   "source": [
    "plt.plot(e_correction)"
   ]
  },
  {
   "cell_type": "code",
   "execution_count": null,
   "id": "fa1ccec8",
   "metadata": {},
   "outputs": [],
   "source": [
    "h = plt.contourf(raw_data)\n",
    "plt.colorbar()"
   ]
  },
  {
   "cell_type": "code",
   "execution_count": null,
   "id": "7a700f4e",
   "metadata": {},
   "outputs": [],
   "source": [
    "print(ek_axis.shape)\n",
    "print(angle_axis.shape)\n",
    "print(corrected_data.shape)\n",
    "colorlevels=np.linspace(0,130000,100)\n",
    "h = plt.contourf(ek_axis,angle_axis,corrected_data,levels=colorlevels)\n",
    "plt.colorbar()\n",
    "#plt.xlim(34,37)\n",
    "#plt.ylim(-15,15)"
   ]
  },
  {
   "cell_type": "code",
   "execution_count": null,
   "id": "4ecdbb12",
   "metadata": {},
   "outputs": [],
   "source": [
    "h = plt.contourf(angle_axis,ek_axis,corrected_data.transpose(),levels=colorlevels)\n",
    "plt.colorbar()"
   ]
  }
 ],
 "metadata": {
  "kernelspec": {
   "display_name": "Python 3.10.4 ('specanalyserenv')",
   "language": "python",
   "name": "python3"
  },
  "language_info": {
   "codemirror_mode": {
    "name": "ipython",
    "version": 3
   },
   "file_extension": ".py",
   "mimetype": "text/x-python",
   "name": "python",
   "nbconvert_exporter": "python",
   "pygments_lexer": "ipython3",
   "version": "3.10.4"
  },
  "vscode": {
   "interpreter": {
    "hash": "01f3a50f1cec8b32686da9a100309d20236977f5c6d2fb4bd4818f1295405c21"
   }
  }
 },
 "nbformat": 4,
 "nbformat_minor": 5
}
