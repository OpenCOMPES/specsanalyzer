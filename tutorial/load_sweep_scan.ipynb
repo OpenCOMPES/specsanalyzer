{
 "cells": [
  {
   "attachments": {},
   "cell_type": "markdown",
   "metadata": {},
   "source": [
    "## This is an example showcasing the loading of trARPES data as collected using the Phoibos detector at FHI Berlin.\n",
    "The band dispersion is loaded as a xarray dataframe following a conversion to the [NeXus format](https://manual.nexusformat.org/classes/contributed_definitions/NXmpes.html#nxmpes) using the [Nomad Parser Nexus](https://github.com/nomad-coe/nomad-parser-nexus)."
   ]
  },
  {
   "attachments": {},
   "cell_type": "markdown",
   "metadata": {},
   "source": [
    "First, the SpecsScan class is imported which has the scan loader as its class method."
   ]
  },
  {
   "cell_type": "code",
   "execution_count": null,
   "metadata": {},
   "outputs": [],
   "source": [
    "%load_ext autoreload\n",
    "%autoreload 2\n",
    "from specsscan import SpecsScan\n",
    "from pathlib import Path"
   ]
  },
  {
   "attachments": {},
   "cell_type": "markdown",
   "metadata": {},
   "source": [
    "Here, a SpecsScan class instance is created as per the configuration provided in [config.yaml](../tests/data/config.yaml). The user may set the entries in config.yaml file, for example, the data path and conversion parameters as per the requirements before creating this instance"
   ]
  },
  {
   "attachments": {},
   "cell_type": "markdown",
   "metadata": {},
   "source": [
    "### The path may changed to point to the scan folder of the data of interest (for example, on a server drive)"
   ]
  },
  {
   "cell_type": "code",
   "execution_count": null,
   "metadata": {},
   "outputs": [],
   "source": [
    "config = {\"spa_params\": {\"ek_min\":20.7, \"ek_max\":21.2, \"ang_min\":-13, \"ang_max\":13, \"Ang_Offset_px\":13, \"rotation_angle\": 2}}\n",
    "sps = SpecsScan(config=config)\n",
    "path = \"../tests/data/\" # Path to the test data set"
   ]
  },
  {
   "cell_type": "code",
   "execution_count": null,
   "metadata": {},
   "outputs": [],
   "source": [
    "metadata = {}\n",
    "# manual Meta data. These should ideally come from an Electronic Lab Notebook.\n",
    "#General\n",
    "metadata['experiment_summary'] = 'TbTe3 tilt map around EF with 800nm pump at 20fs after pump-probe overlap'\n",
    "metadata['entry_title'] = 'TbTe3 XUV Fermi surface map at 20 fs'\n",
    "metadata['experiment_title'] = 'TbTe3 XUV Fermi surface map at 20 fs'\n",
    "\n",
    "#User\n",
    "# Fill general parameters of NXuser\n",
    "# TODO: discuss how to deal with multiple users?\n",
    "metadata['user0'] = {}\n",
    "metadata['user0']['name'] = 'Laurenz Rettig'\n",
    "metadata['user0']['role'] = 'Principal Investigator'\n",
    "metadata['user0']['affiliation'] = 'Fritz Haber Institute of the Max Planck Society'\n",
    "metadata['user0']['address'] = 'Faradayweg 4-6, 14195 Berlin'\n",
    "metadata['user0']['email'] = 'rettig@fhi-berlin.mpg.de'\n",
    "\n",
    "metadata['user1'] = {}\n",
    "metadata['user1']['name'] = 'William Windsor'\n",
    "metadata['user1']['role'] = 'Principal Investigator'\n",
    "metadata['user1']['affiliation'] = 'Fritz Haber Institute of the Max Planck Society'\n",
    "metadata['user1']['address'] = 'Faradayweg 4-6, 14195 Berlin'\n",
    "metadata['user1']['email'] = 'windsor@fhi-berlin.mpg.de'\n",
    "\n",
    "metadata['instrument'] = {}\n",
    "# energy resolution\n",
    "metadata['instrument']['energy_resolution'] = 150.\n",
    "metadata['instrument']['electronanalyser'] = {}\n",
    "metadata['instrument']['electronanalyser']['angular_resolution'] = 0.2\n",
    "\n",
    "#probe beam\n",
    "metadata['instrument']['beam']={}\n",
    "metadata['instrument']['beam']['probe']={}\n",
    "metadata['instrument']['beam']['probe']['incident_energy'] = 21.7\n",
    "metadata['instrument']['beam']['probe']['incident_energy_spread'] = 0.11\n",
    "metadata['instrument']['beam']['probe']['pulse_duration'] = 20.\n",
    "metadata['instrument']['beam']['probe']['frequency'] = 500.\n",
    "metadata['instrument']['beam']['probe']['incident_polarization'] = [1, 1, 0, 0] # p pol Stokes vector\n",
    "metadata['instrument']['beam']['probe']['extent'] = [80., 80.]\n",
    "#pump beam\n",
    "metadata['instrument']['beam']['pump']={}\n",
    "metadata['instrument']['beam']['pump']['incident_energy'] = 1.55\n",
    "metadata['instrument']['beam']['pump']['incident_energy_spread'] = 0.08\n",
    "metadata['instrument']['beam']['pump']['pulse_duration'] = 35.\n",
    "metadata['instrument']['beam']['pump']['frequency'] = 500.\n",
    "metadata['instrument']['beam']['pump']['incident_polarization'] = [1, -1, 0, 0] # s pol Stokes vector\n",
    "metadata['instrument']['beam']['pump']['incident_wavelength'] = 800.\n",
    "metadata['instrument']['beam']['pump']['average_power'] = 224.\n",
    "metadata['instrument']['beam']['pump']['pulse_energy'] = metadata['instrument']['beam']['pump']['average_power']/metadata['instrument']['beam']['pump']['frequency']#µJ\n",
    "metadata['instrument']['beam']['pump']['extent'] = [300/4*2.34, 270/4*2.35] #Gaussian 4sigma -> FWHM\n",
    "metadata['instrument']['beam']['pump']['fluence'] = 1.00\n",
    "metadata['instrument']['beam']['pump']['delay'] = 0.02\n",
    "\n",
    "#sample\n",
    "metadata['sample']={}\n",
    "metadata['sample']['preparation_date'] = '2017-03-19T10:00:00+00:00'\n",
    "metadata['sample']['preparation_description'] = 'Cleaved'\n",
    "metadata['sample']['sample_history'] = 'Cleaved in UHV'\n",
    "metadata['sample']['chemical_formula'] = 'TbTe3'\n",
    "metadata['sample']['description'] = 'cleaved single crystal of TbTe3'\n",
    "metadata['sample']['name'] = 'TbTe3 Single Crystal'\n",
    "\n",
    "#metadata[\"scan_info\"] = {}\n",
    "#metadata[\"scan_info\"][\"trARPES:XGS600:PressureAC:P_RD\"] = 2.5E-11\n",
    "#metadata[\"scan_info\"][\"trARPES:Carving:TEMP_RBV\"] = 70\n"
   ]
  },
  {
   "attachments": {},
   "cell_type": "markdown",
   "metadata": {},
   "source": [
    "The load_scan method loads the scan as an xarray along with the metadata needed for nexus conversion. The progress bars can be activated by changing the config parameter, enable_nested_progress_bar, to true in config.yaml "
   ]
  },
  {
   "cell_type": "code",
   "execution_count": null,
   "metadata": {},
   "outputs": [],
   "source": [
    "res_xarray = sps.load_scan(\n",
    "    scan=6455, # Scan number for an example mirror scan\n",
    "                crop=True,\n",
    "                ang_min=-11,\n",
    "                ang_max=11,\n",
    "                ek_min=20.45,\n",
    "                ek_max=20.95,\n",
    "                metadata=metadata,\n",
    ")"
   ]
  },
  {
   "cell_type": "code",
   "execution_count": null,
   "metadata": {},
   "outputs": [],
   "source": [
    "sps.save(\"Scan6455_fine.nxs\")"
   ]
  },
  {
   "attachments": {},
   "cell_type": "markdown",
   "metadata": {},
   "source": [
    "The data may be visualised as a 2D plot by slicing the xarray in 2 dimensions keeping the third fixed. In the plot below, the Angle vs Ekin data is plotted for a fixed mirrorX value."
   ]
  },
  {
   "cell_type": "code",
   "execution_count": null,
   "metadata": {},
   "outputs": [],
   "source": [
    "res_xarray.dims"
   ]
  },
  {
   "cell_type": "code",
   "execution_count": null,
   "metadata": {},
   "outputs": [],
   "source": [
    "res_xarray[:,:].plot()"
   ]
  },
  {
   "attachments": {},
   "cell_type": "markdown",
   "metadata": {},
   "source": [
    "The metadata associated with the scan is added as an attribute to the xarray"
   ]
  },
  {
   "cell_type": "code",
   "execution_count": null,
   "metadata": {},
   "outputs": [],
   "source": [
    "res_xarray.attrs[\"metadata\"].keys()"
   ]
  },
  {
   "cell_type": "code",
   "execution_count": null,
   "metadata": {},
   "outputs": [],
   "source": [
    "raw = res_xarray.attrs[\"metadata\"][\"loader\"][\"raw_data\"]"
   ]
  },
  {
   "cell_type": "code",
   "execution_count": null,
   "metadata": {},
   "outputs": [],
   "source": [
    "energies = res_xarray.attrs[\"metadata\"][\"scan_info\"][\"KineticEnergy\"]"
   ]
  },
  {
   "cell_type": "code",
   "execution_count": null,
   "metadata": {},
   "outputs": [],
   "source": [
    "%matplotlib widget\n",
    "import matplotlib.pyplot as plt\n",
    "plt.figure()\n",
    "ax, _ = plt.subplots(1)"
   ]
  },
  {
   "cell_type": "code",
   "execution_count": null,
   "metadata": {},
   "outputs": [],
   "source": [
    "\n",
    "res = sps.spa.convert_image(raw[120],\n",
    "                \"WideAngleMode\",\n",
    "                energies[120],\n",
    "                5,\n",
    "                4.558,\n",
    "                crop=True,\n",
    "                ang_min=-12,\n",
    "                ang_max=12,\n",
    "                ek_min=20.45,\n",
    "                ek_max=22.95,\n",
    "                rotation_angle=2)\n",
    "res.sum(axis=0).plot()"
   ]
  },
  {
   "attachments": {},
   "cell_type": "markdown",
   "metadata": {},
   "source": [
    "3D scans, where the images are recorded as a function of a third parameter (generally delay or in this case, mirrorX), can also be loaded with an option to average only the given iterations passed as a list or slice object. "
   ]
  },
  {
   "cell_type": "code",
   "execution_count": null,
   "metadata": {},
   "outputs": [],
   "source": [
    "def image_to_sp2(image, filename):\n",
    "    with open(filename, \"w\") as file:\n",
    "        for i in range(image.shape[0]):\n",
    "            for j in range(image.shape[1]):\n",
    "                file.write(str(image[i][j]))\n",
    "                file.write(\"\\r\")\n"
   ]
  },
  {
   "cell_type": "code",
   "execution_count": null,
   "metadata": {},
   "outputs": [],
   "source": [
    "image_to_sp2(raw[160], \"s160.sp2\")"
   ]
  },
  {
   "cell_type": "code",
   "execution_count": null,
   "metadata": {},
   "outputs": [],
   "source": [
    "energies[160]"
   ]
  },
  {
   "cell_type": "code",
   "execution_count": null,
   "metadata": {},
   "outputs": [],
   "source": [
    "res_xarray_iter = sps.load_scan(\n",
    "    scan=4450,\n",
    "    path=path,\n",
    "    iterations=[0]\n",
    ")"
   ]
  },
  {
   "cell_type": "code",
   "execution_count": null,
   "metadata": {},
   "outputs": [],
   "source": [
    "res_xarray_iter[:,:,0].plot()"
   ]
  },
  {
   "attachments": {},
   "cell_type": "markdown",
   "metadata": {},
   "source": [
    "Another useful functionality is to load a 3D scan as a function of iterations averaged over the scan parameter (in this case, mirrorX). This is done using the check_scan method"
   ]
  },
  {
   "cell_type": "code",
   "execution_count": null,
   "metadata": {},
   "outputs": [],
   "source": [
    "res_xarray_check = sps.check_scan(\n",
    "    scan=4450,\n",
    "    delays=1, # for a fixed delay of index, 1\n",
    "    path=path\n",
    ")"
   ]
  },
  {
   "cell_type": "code",
   "execution_count": null,
   "metadata": {},
   "outputs": [],
   "source": [
    "res_xarray_check"
   ]
  },
  {
   "attachments": {},
   "cell_type": "markdown",
   "metadata": {},
   "source": [
    "## Conversion to NeXus\n",
    "This required the [nexusutils](https://github.com/nomad-coe/nomad-parser-nexus) package to be installed in the active kernel. Once installed, the convert function can be imported and called using the mpes reader which makes use of the NXmpes contributed application definition for NeXus for the Multidimensional Photoemission Spectroscopy community."
   ]
  },
  {
   "cell_type": "code",
   "execution_count": null,
   "metadata": {},
   "outputs": [],
   "source": [
    "from nexusutils.dataconverter.convert import convert"
   ]
  },
  {
   "cell_type": "code",
   "execution_count": null,
   "metadata": {},
   "outputs": [],
   "source": [
    "convert(input_file=[\"../tests/data/phoibos_config.json\", # config file for translating local metadata paths to NeXus paths\n",
    "                \"../tests/data/phoibos_eln_data.yaml\" # ELN file that adds/overwrites additional metadata\n",
    "        ],\n",
    "        objects=res_xarray, # xarray object obtained from the specsscan loader\n",
    "        reader='mpes',\n",
    "        nxdl='NXmpes',\n",
    "        output='spectest.mpes.nxs')"
   ]
  },
  {
   "attachments": {},
   "cell_type": "markdown",
   "metadata": {
    "tags": []
   },
   "source": [
    "## View the data with H5Web\n",
    "H5Web is a tool for visualizing any data in the h5 data format. Since the NeXus format builds opon h5 it can be used to view this data as well. We just import the package and call H5Web with the output filename from the convert command above. \n",
    "\n",
    "You can also view this data with the H5Viewer or other tools from your local filesystem."
   ]
  },
  {
   "cell_type": "code",
   "execution_count": null,
   "metadata": {},
   "outputs": [],
   "source": [
    "from jupyterlab_h5web import H5Web"
   ]
  },
  {
   "cell_type": "code",
   "execution_count": null,
   "metadata": {},
   "outputs": [],
   "source": [
    "H5Web('spectest.mpes.nxs')"
   ]
  },
  {
   "cell_type": "code",
   "execution_count": null,
   "metadata": {},
   "outputs": [],
   "source": []
  }
 ],
 "metadata": {
  "kernelspec": {
   "display_name": "specenv38",
   "language": "python",
   "name": "python3"
  },
  "language_info": {
   "codemirror_mode": {
    "name": "ipython",
    "version": 3
   },
   "file_extension": ".py",
   "mimetype": "text/x-python",
   "name": "python",
   "nbconvert_exporter": "python",
   "pygments_lexer": "ipython3",
   "version": "3.8.12"
  },
  "vscode": {
   "interpreter": {
    "hash": "a164666994e9db75450cd7016dd7e51d42ea6e7c1e5e8017af1f8068ca906367"
   }
  }
 },
 "nbformat": 4,
 "nbformat_minor": 2
}
