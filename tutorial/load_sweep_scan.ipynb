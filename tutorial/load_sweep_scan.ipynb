{
 "cells": [
  {
   "attachments": {},
   "cell_type": "markdown",
   "metadata": {},
   "source": [
    "## This is an example showcasing the loading of trARPES data as collected using the Phoibos detector at FHI Berlin.\n",
    "The band dispersion is loaded as a xarray dataframe following a conversion to the [NeXus format](https://manual.nexusformat.org/classes/contributed_definitions/NXmpes.html#nxmpes) using the [Nomad Parser Nexus](https://github.com/nomad-coe/nomad-parser-nexus)."
   ]
  },
  {
   "attachments": {},
   "cell_type": "markdown",
   "metadata": {},
   "source": [
    "First, the SpecsScan class is imported which has the scan loader as its class method."
   ]
  },
  {
   "cell_type": "code",
   "execution_count": null,
   "metadata": {},
   "outputs": [],
   "source": [
    "%load_ext autoreload\n",
    "%autoreload 2\n",
    "from specsscan import SpecsScan\n",
    "from pathlib import Path\n",
    "from matplotlib import pyplot as plt"
   ]
  },
  {
   "attachments": {},
   "cell_type": "markdown",
   "metadata": {},
   "source": [
    "Here, a SpecsScan class instance is created as per the configuration provided in [config.yaml](../tests/data/config.yaml). The user may set the entries in config.yaml file, for example, the data path and conversion parameters as per the requirements before creating this instance"
   ]
  },
  {
   "attachments": {},
   "cell_type": "markdown",
   "metadata": {},
   "source": [
    "### The path may changed to point to the scan folder of the data of interest (for example, on a server drive)"
   ]
  },
  {
   "cell_type": "code",
   "execution_count": null,
   "metadata": {},
   "outputs": [],
   "source": [
    "config = {\"spa_params\": {\n",
    "    'ek_range_min': 0.07597844332538357,\n",
    "    'ek_range_max': 0.8965456312395133,\n",
    "    'ang_range_min': 0.16732026143790849,\n",
    "    'ang_range_max': 0.8449673202614381,\n",
    "    \"Ang_Offset_px\":13,\n",
    "    \"rotation_angle\": 2,\n",
    "    \"crop\":True,\n",
    "}}\n",
    "sps = SpecsScan(config=config, user_config=\"../specsscan/config/example_config_FHI.yaml\")\n",
    "path = \"../tests/data/\" # Path to the test data set"
   ]
  },
  {
   "cell_type": "code",
   "execution_count": null,
   "metadata": {},
   "outputs": [],
   "source": [
    "metadata = {}\n",
    "# manual Meta data. These should ideally come from an Electronic Lab Notebook.\n",
    "#General\n",
    "metadata['experiment_summary'] = 'TbTe3 tilt map around EF with 800nm pump at 20fs after pump-probe overlap'\n",
    "metadata['entry_title'] = 'TbTe3 XUV Fermi surface map at 20 fs'\n",
    "metadata['experiment_title'] = 'TbTe3 XUV Fermi surface map at 20 fs'\n",
    "\n",
    "#User\n",
    "# Fill general parameters of NXuser\n",
    "# TODO: discuss how to deal with multiple users?\n",
    "metadata['user0'] = {}\n",
    "metadata['user0']['name'] = 'Laurenz Rettig'\n",
    "metadata['user0']['role'] = 'Principal Investigator'\n",
    "metadata['user0']['affiliation'] = 'Fritz Haber Institute of the Max Planck Society'\n",
    "metadata['user0']['address'] = 'Faradayweg 4-6, 14195 Berlin'\n",
    "metadata['user0']['email'] = 'rettig@fhi-berlin.mpg.de'\n",
    "\n",
    "metadata['user1'] = {}\n",
    "metadata['user1']['name'] = 'William Windsor'\n",
    "metadata['user1']['role'] = 'Principal Investigator'\n",
    "metadata['user1']['affiliation'] = 'Fritz Haber Institute of the Max Planck Society'\n",
    "metadata['user1']['address'] = 'Faradayweg 4-6, 14195 Berlin'\n",
    "metadata['user1']['email'] = 'windsor@fhi-berlin.mpg.de'\n",
    "\n",
    "metadata['instrument'] = {}\n",
    "# energy resolution\n",
    "metadata['instrument']['energy_resolution'] = 150.\n",
    "metadata['instrument']['electronanalyser'] = {}\n",
    "metadata['instrument']['electronanalyser']['energy_resolution'] = 120\n",
    "metadata['instrument']['electronanalyser']['angular_resolution'] = 0.2\n",
    "metadata['instrument']['electronanalyser']['spatial_resolution'] = 0.5\n",
    "\n",
    "#probe beam\n",
    "metadata['instrument']['beam']={}\n",
    "metadata['instrument']['beam']['probe']={}\n",
    "metadata['instrument']['beam']['probe']['incident_energy'] = 21.7\n",
    "metadata['instrument']['beam']['probe']['incident_energy_spread'] = 0.11\n",
    "metadata['instrument']['beam']['probe']['pulse_duration'] = 20.\n",
    "metadata['instrument']['beam']['probe']['frequency'] = 500.\n",
    "metadata['instrument']['beam']['probe']['incident_polarization'] = [1, 1, 0, 0] # p pol Stokes vector\n",
    "metadata['instrument']['beam']['probe']['extent'] = [80., 80.]\n",
    "#pump beam\n",
    "metadata['instrument']['beam']['pump']={}\n",
    "metadata['instrument']['beam']['pump']['incident_energy'] = 1.55\n",
    "metadata['instrument']['beam']['pump']['incident_energy_spread'] = 0.08\n",
    "metadata['instrument']['beam']['pump']['pulse_duration'] = 35.\n",
    "metadata['instrument']['beam']['pump']['frequency'] = 500.\n",
    "metadata['instrument']['beam']['pump']['incident_polarization'] = [1, -1, 0, 0] # s pol Stokes vector\n",
    "metadata['instrument']['beam']['pump']['incident_wavelength'] = 800.\n",
    "metadata['instrument']['beam']['pump']['average_power'] = 224.\n",
    "metadata['instrument']['beam']['pump']['pulse_energy'] = metadata['instrument']['beam']['pump']['average_power']/metadata['instrument']['beam']['pump']['frequency']#µJ\n",
    "metadata['instrument']['beam']['pump']['extent'] = [300/4*2.34, 270/4*2.35] #Gaussian 4sigma -> FWHM\n",
    "metadata['instrument']['beam']['pump']['fluence'] = 1.00\n",
    "metadata['instrument']['beam']['pump']['delay'] = 0.02\n",
    "\n",
    "#sample\n",
    "metadata['sample']={}\n",
    "metadata['sample']['preparation_date'] = '2017-03-19T10:00:00+00:00'\n",
    "metadata['sample']['preparation_description'] = 'Cleaved'\n",
    "metadata['sample']['sample_history'] = 'Cleaved in UHV'\n",
    "metadata['sample']['chemical_formula'] = 'TbTe3'\n",
    "metadata['sample']['description'] = 'cleaved single crystal of TbTe3'\n",
    "metadata['sample']['name'] = 'TbTe3 Single Crystal'\n",
    "\n",
    "#metadata[\"scan_info\"] = {}\n",
    "#metadata[\"scan_info\"][\"trARPES:XGS600:PressureAC:P_RD\"] = 2.5E-11\n",
    "#metadata[\"scan_info\"][\"trARPES:Carving:TEMP_RBV\"] = 70\n"
   ]
  },
  {
   "cell_type": "code",
   "execution_count": null,
   "metadata": {},
   "outputs": [],
   "source": [
    "#sps.crop_tool(scan=6455)"
   ]
  },
  {
   "attachments": {},
   "cell_type": "markdown",
   "metadata": {},
   "source": [
    "The load_scan method loads the scan as an xarray along with the metadata needed for nexus conversion. The progress bars can be activated by changing the config parameter, enable_nested_progress_bar, to true in config.yaml "
   ]
  },
  {
   "cell_type": "code",
   "execution_count": null,
   "metadata": {},
   "outputs": [],
   "source": [
    "res_xarray = sps.load_scan(\n",
    "    path=path,\n",
    "    scan=6455, # Scan number for an example mirror scan\n",
    "    metadata=metadata,\n",
    ")"
   ]
  },
  {
   "cell_type": "code",
   "execution_count": null,
   "metadata": {},
   "outputs": [],
   "source": [
    "plt.figure()\n",
    "res_xarray.plot()\n",
    "plt.show()"
   ]
  },
  {
   "cell_type": "code",
   "execution_count": null,
   "metadata": {},
   "outputs": [],
   "source": [
    "sps.save(\"Scan6455.nxs\")"
   ]
  },
  {
   "attachments": {},
   "cell_type": "markdown",
   "metadata": {},
   "source": [
    "The metadata associated with the scan is added as an attribute to the xarray"
   ]
  },
  {
   "cell_type": "code",
   "execution_count": null,
   "metadata": {},
   "outputs": [],
   "source": [
    "res_xarray.attrs[\"metadata\"].keys()"
   ]
  },
  {
   "cell_type": "code",
   "execution_count": null,
   "metadata": {},
   "outputs": [],
   "source": [
    "raw = res_xarray.attrs[\"metadata\"][\"loader\"][\"raw_data\"]"
   ]
  },
  {
   "cell_type": "code",
   "execution_count": null,
   "metadata": {},
   "outputs": [],
   "source": [
    "energies = res_xarray.attrs[\"metadata\"][\"scan_info\"][\"KineticEnergy\"]"
   ]
  },
  {
   "attachments": {},
   "cell_type": "markdown",
   "metadata": {
    "tags": []
   },
   "source": [
    "## View the data with H5Web\n",
    "H5Web is a tool for visualizing any data in the h5 data format. Since the NeXus format builds opon h5 it can be used to view this data as well. We just import the package and call H5Web with the output filename from the convert command above. \n",
    "\n",
    "You can also view this data with the H5Viewer or other tools from your local filesystem."
   ]
  },
  {
   "cell_type": "code",
   "execution_count": null,
   "metadata": {},
   "outputs": [],
   "source": [
    "from jupyterlab_h5web import H5Web"
   ]
  },
  {
   "cell_type": "code",
   "execution_count": null,
   "metadata": {},
   "outputs": [],
   "source": [
    "H5Web(Scan6455.nxs)"
   ]
  },
  {
   "cell_type": "code",
   "execution_count": null,
   "metadata": {},
   "outputs": [],
   "source": []
  }
 ],
 "metadata": {
  "kernelspec": {
   "display_name": "specenv38",
   "language": "python",
   "name": "python3"
  },
  "language_info": {
   "codemirror_mode": {
    "name": "ipython",
    "version": 3
   },
   "file_extension": ".py",
   "mimetype": "text/x-python",
   "name": "python",
   "nbconvert_exporter": "python",
   "pygments_lexer": "ipython3",
   "version": "3.8.12"
  },
  "vscode": {
   "interpreter": {
    "hash": "a164666994e9db75450cd7016dd7e51d42ea6e7c1e5e8017af1f8068ca906367"
   }
  }
 },
 "nbformat": 4,
 "nbformat_minor": 2
}
