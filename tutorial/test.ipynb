{
 "cells": [
  {
   "cell_type": "code",
   "execution_count": null,
   "metadata": {},
   "outputs": [],
   "source": [
    "%load_ext autoreload\n",
    "%autoreload 2"
   ]
  },
  {
   "cell_type": "code",
   "execution_count": null,
   "metadata": {},
   "outputs": [],
   "source": [
    "# from importlib import reload\n",
    "import curses  ####  pip install windows-curses\n",
    "\n",
    "import matplotlib.pyplot as plt\n",
    "import xarray as xr\n",
    "import numpy as np\n",
    "\n",
    "import specsanalyzer\n",
    "from specsanalyzer import SpecsAnalyzer"
   ]
  },
  {
   "cell_type": "code",
   "execution_count": null,
   "metadata": {},
   "outputs": [],
   "source": [
    "# reload(specsanalyzer)\n",
    "spa = SpecsAnalyzer()\n",
    "spa.__init__\n",
    "spa.config['calib2d_dict'].keys()"
   ]
  },
  {
   "cell_type": "code",
   "execution_count": null,
   "metadata": {},
   "outputs": [],
   "source": [
    "with open(\"../tests/data/dataEPFL/R9132/Data9132_RAWDATA.tsv\") as file:\n",
    "    # with open('../tests/data/dataFHI/Scan1232.tsv') as file:\n",
    "    tsv_data = np.loadtxt(file, delimiter=\"\\t\")\n",
    "plt.figure()\n",
    "plt.imshow(tsv_data)"
   ]
  },
  {
   "cell_type": "code",
   "execution_count": null,
   "metadata": {},
   "outputs": [],
   "source": [
    "# Testing convert and crop on the imported data\n",
    "spa = SpecsAnalyzer(config=\"../tests/data/dataEPFL/config/config.yaml\")\n",
    "\n",
    "lens_mode = \"WideAngleMode\"\n",
    "kinetic_energy = 35.0\n",
    "pass_energy = 35.0\n",
    "work_function=4.2\n",
    "res_xarray = spa.convert_image(\n",
    "    tsv_data, \n",
    "    lens_mode,\n",
    "    kinetic_energy,\n",
    "    pass_energy,\n",
    "    work_function,\n",
    "    \n",
    ")\n",
    "plt.figure()\n",
    "res_xarray.plot(cmap=\"viridis\", vmin=0)"
   ]
  }
 ],
 "metadata": {
  "kernelspec": {
   "display_name": "Python 3.10.4 ('specs')",
   "language": "python",
   "name": "python3"
  },
  "language_info": {
   "codemirror_mode": {
    "name": "ipython",
    "version": 3
   },
   "file_extension": ".py",
   "mimetype": "text/x-python",
   "name": "python",
   "nbconvert_exporter": "python",
   "pygments_lexer": "ipython3",
   "version": "3.10.4"
  },
  "orig_nbformat": 4,
  "vscode": {
   "interpreter": {
    "hash": "6428f06d96a6b01e77e140970230328301bc19fdc764d255e75f2cf3c24498d4"
   }
  }
 },
 "nbformat": 4,
 "nbformat_minor": 2
}
