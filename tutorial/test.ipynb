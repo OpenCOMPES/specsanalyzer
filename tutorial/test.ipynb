{
 "cells": [
  {
   "cell_type": "code",
   "execution_count": null,
   "metadata": {},
   "outputs": [],
   "source": [
    "%load_ext autoreload\n",
    "%autoreload 2"
   ]
  },
  {
   "cell_type": "code",
   "execution_count": null,
   "metadata": {},
   "outputs": [],
   "source": [
    "# from importlib import reload\n",
    "import curses  ####  pip install windows-curses\n",
    "\n",
    "import matplotlib.pyplot as plt\n",
    "import xarray as xr\n",
    "import numpy as np\n",
    "\n",
    "import specsanalyzer\n",
    "from specsanalyzer import SpecsAnalyzer"
   ]
  },
  {
   "cell_type": "code",
   "execution_count": null,
   "metadata": {},
   "outputs": [],
   "source": [
    "# reload(specsanalyzer)\n",
    "spa = SpecsAnalyzer()"
   ]
  },
  {
   "cell_type": "code",
   "execution_count": null,
   "metadata": {},
   "outputs": [],
   "source": [
    "with open(\"../tests/data/dataEPFL/R9132/Data9132_RAWDATA.tsv\") as file:\n",
    "    # with open('../tests/data/dataFHI/Scan1232.tsv') as file:\n",
    "    tsv_data = np.loadtxt(file, delimiter=\"\\t\")\n",
    "plt.figure()\n",
    "plt.imshow(tsv_data)"
   ]
  },
  {
   "cell_type": "code",
   "execution_count": null,
   "metadata": {},
   "outputs": [],
   "source": [
    "# Testing convert and crop on the imported data\n",
    "spa = SpecsAnalyzer(config=\"../tests/data/dataEPFL/config/config.yaml\")\n",
    "\n",
    "lens_mode = \"WideAngleMode\"\n",
    "kinetic_energy = 35.0\n",
    "pass_energy = 35.0\n",
    "work_function=4.2\n",
    "res_xarray = spa.convert_image(\n",
    "    tsv_data, \n",
    "    lens_mode,\n",
    "    kinetic_energy,\n",
    "    pass_energy,\n",
    "    work_function,\n",
    "    \n",
    ")\n",
    "plt.figure()\n",
    "res_xarray.plot(cmap=\"viridis\", vmin=0)"
   ]
  },
  {
   "cell_type": "code",
   "execution_count": null,
   "metadata": {},
   "outputs": [],
   "source": [
    "plt.figure()\n",
    "ff_xarray.plot(cmap=\"RdBu_r\", vmax=1e-5)\n",
    "plt.title(\"Difference/Mean pixel intensity\")"
   ]
  },
  {
   "cell_type": "code",
   "execution_count": null,
   "metadata": {},
   "outputs": [],
   "source": [
    "fig, (ax1, ax2, ax3) = plt.subplots(nrows=3, ncols=1, figsize=(4, 8))\n",
    "subplot1 = ref_xarray.plot(ax=ax1, cmap=\"viridis\", vmin=0)\n",
    "subplot2 = res_xarray.plot(ax=ax2, cmap=\"viridis\", vmin=0)\n",
    "subplot3 = ff_xarray.plot(cmap=\"RdBu_r\", ax=ax3, vmax=100)\n",
    "\n",
    "plt.tight_layout()"
   ]
  },
  {
   "cell_type": "code",
   "execution_count": null,
   "metadata": {},
   "outputs": [],
   "source": [
    "\n",
    "lens_mode=\"WideAngleMode\"\n",
    "kinetic_energy=35.0\n",
    "pass_energy=35.0\n",
    "\n",
    "%timeit res_xarray = spa.convert_image(tsv_data, pass_energy, kinetic_energy, lens_mode)"
   ]
  }
 ],
 "metadata": {
  "kernelspec": {
   "display_name": "Python 3.10.6 ('spec')",
   "language": "python",
   "name": "python3"
  },
  "language_info": {
   "codemirror_mode": {
    "name": "ipython",
    "version": 3
   },
   "file_extension": ".py",
   "mimetype": "text/x-python",
   "name": "python",
   "nbconvert_exporter": "python",
   "pygments_lexer": "ipython3",
   "version": "3.10.6"
  },
  "orig_nbformat": 4,
  "vscode": {
   "interpreter": {
    "hash": "639bc943a9d07b8441ed5a258c1a327e89ed7bc8be9e47684ee754dc72bde1ae"
   }
  }
 },
 "nbformat": 4,
 "nbformat_minor": 2
}
