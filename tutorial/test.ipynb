{
 "cells": [
  {
   "cell_type": "code",
   "execution_count": null,
   "metadata": {},
   "outputs": [],
   "source": [
    "%matplotlib widget\n",
    "from specsanalyzer import SpecsAnalyzer\n",
    "import matplotlib.pyplot as plt\n",
    "import xarray as xr\n",
    "import numpy as np"
   ]
  },
  {
   "cell_type": "code",
   "execution_count": null,
   "metadata": {},
   "outputs": [],
   "source": [
    "spa = SpecsAnalyzer()"
   ]
  },
  {
   "cell_type": "code",
   "execution_count": null,
   "metadata": {},
   "outputs": [],
   "source": [
    "with open('../tests/data/dataEPFL/9159/AVG/000.tsv') as file:\n",
    "#with open('../tests/data/dataFHI/Scan1232.tsv') as file:\n",
    "    tsv_data = np.loadtxt(file, delimiter='\\t')\n",
    "plt.figure()\n",
    "plt.imshow(tsv_data)"
   ]
  },
  {
   "cell_type": "code",
   "execution_count": null,
   "metadata": {},
   "outputs": [],
   "source": [
    "# Testing convert and crop on the imported data\n",
    "spa = SpecsAnalyzer(config=\"../tests/data/dataEPFL/config/config.yaml\")\n",
    "\n",
    "lens_mode=\"WideAngleMode\"\n",
    "kinetic_energy=35.5\n",
    "pass_energy=25\n",
    "\n",
    "res_xarray = spa.convert_image(tsv_data, kinetic_energy, pass_energy, lens_mode)\n",
    "plt.figure()\n",
    "res_xarray.plot()"
   ]
  },
  {
   "cell_type": "code",
   "execution_count": null,
   "metadata": {},
   "outputs": [],
   "source": [
    "#spa = SpecsAnalyzer(config=\"../tests/data/config/config.yaml\")"
   ]
  },
  {
   "cell_type": "code",
   "execution_count": null,
   "metadata": {},
   "outputs": [],
   "source": [
    "# Testing convert and crop on the imported data\n",
    "res_xarray = spa.convert_image(tsv_data, kinetic_energy, pass_energy, lens_mode)\n",
    "plt.figure()\n",
    "res_xarray.plot()"
   ]
  },
  {
   "cell_type": "code",
   "execution_count": null,
   "metadata": {},
   "outputs": [],
   "source": [
    "with open('../tests/data/dataEPFL/igor_R9159/data_delay0.tsv') as file:\n",
    "#with open('../tests/data/dataFHI/Scan1232_converted.tsv') as file:\n",
    "    ref_data = np.loadtxt(file, delimiter='\\t')\n",
    "    ref_data = ref_data\n",
    "    #ref_data = ref_data.T\n",
    "#angle_axis = np.linspace(-18, 17.3077, ref_data.shape[0])\n",
    "angle_axis = np.linspace(-18, 17.3077, ref_data.shape[0])\n",
    "\n",
    "#ek_axis = np.linspace(15.86, 21.1247, ref_data.shape[1])\n",
    "ek_axis = np.linspace(33.85, 37.1404, ref_data.shape[1])\n",
    "ref_xarray = xr.DataArray(\n",
    "    data=ref_data,\n",
    "    coords={\"Angle\": angle_axis, \"Ekin\": ek_axis},\n",
    "    dims=[\"Angle\", \"Ekin\"],\n",
    ")\n",
    "plt.figure()\n",
    "ref_xarray.plot()"
   ]
  },
  {
   "cell_type": "code",
   "execution_count": null,
   "metadata": {},
   "outputs": [],
   "source": [
    "ref_xarray_reint=ref_xarray.interp_like(res_xarray)\n",
    "ff_xarray = res_xarray - ref_xarray_reint\n",
    "\n"
   ]
  },
  {
   "cell_type": "code",
   "execution_count": null,
   "metadata": {},
   "outputs": [],
   "source": [
    "plt.figure()\n",
    "ff_xarray.plot(cmap='RdBu_r' )"
   ]
  },
  {
   "cell_type": "code",
   "execution_count": null,
   "metadata": {},
   "outputs": [],
   "source": [
    "\n",
    "\n",
    "\n",
    "\n"
   ]
  },
  {
   "cell_type": "code",
   "execution_count": null,
   "metadata": {},
   "outputs": [],
   "source": []
  },
  {
   "cell_type": "code",
   "execution_count": null,
   "metadata": {},
   "outputs": [],
   "source": []
  }
 ],
 "metadata": {
  "kernelspec": {
   "display_name": "Python 3.9.7 ('base')",
   "language": "python",
   "name": "python3"
  },
  "language_info": {
   "codemirror_mode": {
    "name": "ipython",
    "version": 3
   },
   "file_extension": ".py",
   "mimetype": "text/x-python",
   "name": "python",
   "nbconvert_exporter": "python",
   "pygments_lexer": "ipython3",
   "version": "3.9.7"
  },
  "orig_nbformat": 4,
  "vscode": {
   "interpreter": {
    "hash": "ad2bdc8ecc057115af97d19610ffacc2b4e99fae6737bb82f5d7fb13d2f2c186"
   }
  }
 },
 "nbformat": 4,
 "nbformat_minor": 2
}
