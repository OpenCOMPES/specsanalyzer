{
 "cells": [
  {
   "cell_type": "code",
   "execution_count": null,
   "metadata": {},
   "outputs": [],
   "source": [
    "from specsanalyzer import SpecsAnalyzer\n",
    "import matplotlib.pyplot as plt"
   ]
  },
  {
   "cell_type": "code",
   "execution_count": null,
   "metadata": {},
   "outputs": [],
   "source": [
    "spa = SpecsAnalyzer()"
   ]
  },
  {
   "cell_type": "code",
   "execution_count": null,
   "metadata": {},
   "outputs": [],
   "source": [
    "print(spa)"
   ]
  },
  {
   "cell_type": "code",
   "execution_count": null,
   "metadata": {},
   "outputs": [],
   "source": [
    "import numpy as np\n",
    "ar = np.ones((10,10), float)\n",
    "spa.convert_image(ar, 15, 10, \"WideAngleMode\")"
   ]
  },
  {
   "cell_type": "code",
   "execution_count": null,
   "metadata": {},
   "outputs": [],
   "source": [
    "import pandas as pd\n",
    "tsv_data = pd.read_csv('../tests/data/dataFHI/2017/03 March/Day 09/Raw Data/1232/AVG/000.tsv', sep='\\t')\n",
    "plt.imshow(tsv_data)"
   ]
  },
  {
   "cell_type": "code",
   "execution_count": null,
   "metadata": {},
   "outputs": [],
   "source": [
    "spa = SpecsAnalyzer(config=\"../tests/data/config/config.yaml\")"
   ]
  },
  {
   "cell_type": "code",
   "execution_count": null,
   "metadata": {},
   "outputs": [],
   "source": [
    "print(spa)"
   ]
  },
  {
   "cell_type": "code",
   "execution_count": null,
   "metadata": {},
   "outputs": [],
   "source": [
    "spa.convert_image(tsv_data, 15, 10, 1, 2, {})"
   ]
  },
  {
   "cell_type": "code",
   "execution_count": null,
   "metadata": {},
   "outputs": [],
   "source": [
    "import xarray as xr\n",
    "import numpy as np\n",
    "angle_axis = np.linspace(0,1,tsv_data.shape[0])\n",
    "ek_axis = np.linspace(0,1,tsv_data.shape[1])\n",
    "da = xr.DataArray(\n",
    "    data=tsv_data,\n",
    "    coords={\"Angle\": angle_axis, \"Ekin\": ek_axis},\n",
    "    dims=[\"Angle\", \"Ekin\"],\n",
    ")\n",
    "da.plot()"
   ]
  },
  {
   "cell_type": "code",
   "execution_count": null,
   "metadata": {},
   "outputs": [],
   "source": [
    "from specsanalyzer.img_tools import crop_xarray\n",
    "da_cropped = crop_xarray(da, 0.1, 0.9, 0.3, 0.9)\n",
    "da_cropped.T.plot()"
   ]
  },
  {
   "cell_type": "code",
   "execution_count": null,
   "metadata": {},
   "outputs": [],
   "source": [
    "# Testing convert and crop on the imported data\n",
    "res_xarray = spa.convert_image(tsv_data, 15, 10, \"WideAngleMode\")\n",
    "res_xarray.plot()"
   ]
  },
  {
   "cell_type": "code",
   "execution_count": null,
   "metadata": {},
   "outputs": [],
   "source": [
    "res_cropped = crop_xarray(res_xarray, -5, 5, 9.5, 10)\n",
    "res_cropped.T.plot()"
   ]
  }
 ],
 "metadata": {
  "kernelspec": {
   "display_name": "Python 3.7.10 64-bit (system)",
   "language": "python",
   "name": "python3"
  },
  "language_info": {
   "codemirror_mode": {
    "name": "ipython",
    "version": 3
   },
   "file_extension": ".py",
   "mimetype": "text/x-python",
   "name": "python",
   "nbconvert_exporter": "python",
   "pygments_lexer": "ipython3",
   "version": "3.7.10"
  },
  "orig_nbformat": 4,
  "vscode": {
   "interpreter": {
    "hash": "04a85ee725c84970834ee49bc50cfa1b458f13df4bad0079c1f67af1ec20cbf5"
   }
  }
 },
 "nbformat": 4,
 "nbformat_minor": 2
}
