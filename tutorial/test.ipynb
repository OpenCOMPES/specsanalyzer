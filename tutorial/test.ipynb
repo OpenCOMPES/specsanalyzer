{
 "cells": [
  {
   "cell_type": "code",
   "execution_count": null,
   "metadata": {},
   "outputs": [],
   "source": [
    "%load_ext autoreload\n",
    "%autoreload 2"
   ]
  },
  {
   "cell_type": "code",
   "execution_count": null,
   "metadata": {},
   "outputs": [],
   "source": [
    "# from importlib import reload\n",
    "import curses  ####  pip install windows-curses\n",
    "\n",
    "import matplotlib.pyplot as plt\n",
    "import xarray as xr\n",
    "import numpy as np\n",
    "\n",
    "import specsanalyzer\n",
    "from specsanalyzer import SpecsAnalyzer"
   ]
  },
  {
   "cell_type": "code",
   "execution_count": null,
   "metadata": {},
   "outputs": [],
   "source": [
    "# reload(specsanalyzer)\n",
    "spa = SpecsAnalyzer()"
   ]
  },
  {
   "cell_type": "code",
   "execution_count": null,
   "metadata": {},
   "outputs": [],
   "source": [
    "with open(\"../tests/data/dataEPFL/R9132/Data9132_RAWDATA.tsv\") as file:\n",
    "    # with open('../tests/data/dataFHI/Scan1232.tsv') as file:\n",
    "    tsv_data = np.loadtxt(file, delimiter=\"\\t\")\n",
    "plt.figure()\n",
    "plt.imshow(tsv_data)"
   ]
  },
  {
   "cell_type": "code",
   "execution_count": null,
   "metadata": {},
   "outputs": [],
   "source": [
    "# Testing convert and crop on the imported data\n",
    "spa = SpecsAnalyzer(config=\"../tests/data/dataEPFL/config/config.yaml\")\n",
    "\n",
    "lens_mode = \"WideAngleMode\"\n",
    "kinetic_energy = 35.0\n",
    "pass_energy = 35.0\n",
    "\n",
    "res_xarray = spa.convert_image(\n",
    "    tsv_data, pass_energy, kinetic_energy, lens_mode\n",
    ")\n",
    "plt.figure()\n",
    "res_xarray.plot(cmap=\"viridis\", vmin=0)"
   ]
  },
  {
   "cell_type": "code",
   "execution_count": null,
   "metadata": {},
   "outputs": [],
   "source": [
    "with open(\"../tests/data/dataEPFL/R9132/Data9132_IGOR_corrected.tsv\") as file:\n",
    "    # with open('../tests/data/dataFHI/Scan1232_converted.tsv') as file:\n",
    "    ref_data = np.loadtxt(file, delimiter=\"\\t\")\n",
    "    ref_data = ref_data\n",
    "    # ref_data = ref_data.T\n",
    "# angle_axis = np.linspace(-18, 17.3077, ref_data.shape[0])\n",
    "# angle_axis = np.linspace(-18, 17.3077, ref_data.shape[0])\n",
    "\n",
    "# ek_axis = np.linspace(15.86, 21.1247, ref_data.shape[1])\n",
    "# ek_axis = np.linspace(33.85, 37.1404, ref_data.shape[1])\n",
    "\n",
    "\n",
    "import specsanalyzer.convert\n",
    "\n",
    "# reload(specsanalyzer.convert)\n",
    "# let's get all the functions to be tested\n",
    "from specsanalyzer.convert import get_damatrix_fromcalib2d\n",
    "from specsanalyzer.convert import get_rr_da\n",
    "from specsanalyzer.convert import calculate_polynomial_coef_da\n",
    "from specsanalyzer.convert import mcp_position_mm\n",
    "from specsanalyzer.convert import calculate_matrix_correction\n",
    "\n",
    "spa = SpecsAnalyzer(config=\"../tests/data/dataEPFL/config/config.yaml\")\n",
    "config_dict = spa.return_config()\n",
    "lens_mode = \"WideAngleMode\"\n",
    "kinetic_energy = 35\n",
    "pass_energy = 35\n",
    "binning = 4\n",
    "\n",
    "(\n",
    "    ek_axis,\n",
    "    angle_axis,\n",
    "    angular_correction_matrix,\n",
    "    e_correction,\n",
    "    jacobian_determinant,\n",
    ") = calculate_matrix_correction(\n",
    "    lens_mode,\n",
    "    pass_energy,\n",
    "    kinetic_energy,\n",
    "    binning,\n",
    "    config_dict,\n",
    ")\n",
    "\n",
    "\n",
    "ref_xarray = xr.DataArray(\n",
    "    data=ref_data,\n",
    "    coords={\"Angle\": angle_axis, \"Ekin\": ek_axis},\n",
    "    dims=[\"Angle\", \"Ekin\"],\n",
    ")\n",
    "plt.figure()\n",
    "ref_xarray.plot()"
   ]
  },
  {
   "cell_type": "code",
   "execution_count": null,
   "metadata": {},
   "outputs": [],
   "source": [
    "# ref_xarray_reint=ref_xarray.interp_like(res_xarray)\n",
    "# ff_xarray = (res_xarray - ref_xarray_reint)/\n",
    "\n",
    "normalization = np.abs((ref_xarray.to_numpy())).mean()\n",
    "\n",
    "# ff_xarray = (res_xarray - ref_xarray)/normalization\n",
    "ff_xarray = (res_xarray - ref_xarray) / ref_xarray\n",
    "\n",
    "np.abs((ff_xarray.to_numpy())).sum()"
   ]
  },
  {
   "cell_type": "code",
   "execution_count": null,
   "metadata": {},
   "outputs": [],
   "source": [
    "plt.figure()\n",
    "ff_xarray.plot(cmap=\"RdBu_r\", vmax=1e-5)\n",
    "plt.title(\"Difference/Mean pixel intensity\")"
   ]
  },
  {
   "cell_type": "code",
   "execution_count": null,
   "metadata": {},
   "outputs": [],
   "source": [
    "fig, (ax1, ax2, ax3) = plt.subplots(nrows=3, ncols=1, figsize=(4, 8))\n",
    "subplot1 = ref_xarray.plot(ax=ax1, cmap=\"viridis\", vmin=0)\n",
    "subplot2 = res_xarray.plot(ax=ax2, cmap=\"viridis\", vmin=0)\n",
    "subplot3 = ff_xarray.plot(cmap=\"RdBu_r\", ax=ax3, vmax=100)\n",
    "\n",
    "plt.tight_layout()"
   ]
  },
  {
   "cell_type": "code",
   "execution_count": null,
   "metadata": {},
   "outputs": [],
   "source": [
    "\n",
    "lens_mode=\"WideAngleMode\"\n",
    "kinetic_energy=35.0\n",
    "pass_energy=35.0\n",
    "\n",
    "%timeit res_xarray = spa.convert_image(tsv_data, pass_energy, kinetic_energy, lens_mode)"
   ]
  },
  {
   "cell_type": "code",
   "execution_count": null,
   "metadata": {},
   "outputs": [],
   "source": [
    "ref_xarray"
   ]
  },
  {
   "cell_type": "code",
   "execution_count": null,
   "metadata": {},
   "outputs": [],
   "source": [
    "print(angle_axis[0], angle_axis[angle_axis.size - 1])"
   ]
  },
  {
   "cell_type": "code",
   "execution_count": null,
   "metadata": {},
   "outputs": [],
   "source": [
    "from scipy import interpolate\n",
    "\n",
    "x = np.arange(-5.01, 5.01, 0.25)\n",
    "\n",
    "y = np.arange(-5.01, 5.01, 0.3)\n",
    "\n",
    "xx, yy = np.meshgrid(x, y)\n",
    "\n",
    "z = np.sin(xx**2 + yy**2)\n",
    "\n",
    "f = interpolate.interp2d(x, y, z, kind=\"cubic\")"
   ]
  },
  {
   "cell_type": "code",
   "execution_count": null,
   "metadata": {},
   "outputs": [],
   "source": [
    "import matplotlib.pyplot as plt\n",
    "\n",
    "xnew = np.arange(-5.01, 5.01, 1e-2)\n",
    "\n",
    "ynew = np.arange(-5.01, 5.01, 2e-2)\n",
    "\n",
    "znew = f(xnew, ynew)\n",
    "\n",
    "plt.contourf(xnew, ynew, znew)\n",
    "\n",
    "plt.show()"
   ]
  },
  {
   "cell_type": "code",
   "execution_count": null,
   "metadata": {},
   "outputs": [],
   "source": [
    "import numpy as np\n",
    "from scipy.interpolate import RectBivariateSpline\n",
    "import matplotlib.pyplot as plt\n",
    "from mpl_toolkits.mplot3d import Axes3D\n",
    "\n",
    "# Regularly-spaced, coarse grid\n",
    "dx, dy = 0.4, 0.4\n",
    "xmax, ymax = 2, 4\n",
    "x = np.arange(-xmax, xmax, dx)\n",
    "y = np.arange(-ymax, ymax, dy)\n",
    "X, Y = np.meshgrid(x, y)\n",
    "Z = np.exp(-((2 * X) ** 2) - (Y / 2) ** 2)\n",
    "\n",
    "interp_spline = RectBivariateSpline(y, x, Z)\n",
    "\n",
    "# Regularly-spaced, fine grid\n",
    "dx2, dy2 = 0.16, 0.16\n",
    "x2 = np.arange(-xmax, xmax, dx2)\n",
    "y2 = np.arange(-ymax, ymax, dy2)\n",
    "X2, Y2 = np.meshgrid(x2, y2)\n",
    "Z2 = interp_spline(y2, x2)\n",
    "\n",
    "fig, ax = plt.subplots(nrows=1, ncols=2, subplot_kw={\"projection\": \"3d\"})\n",
    "ax[0].plot_wireframe(X, Y, Z, color=\"k\")\n",
    "\n",
    "ax[1].plot_wireframe(X2, Y2, Z2, color=\"k\")\n",
    "for axes in ax:\n",
    "    axes.set_zlim(-0.2, 1)\n",
    "    axes.set_axis_off()\n",
    "\n",
    "fig.tight_layout()\n",
    "plt.show()"
   ]
  },
  {
   "cell_type": "code",
   "execution_count": null,
   "metadata": {},
   "outputs": [],
   "source": [
    "from audioop import minmax\n",
    "from interpolation.splines import eval_linear\n",
    "from interpolation.splines import UCGrid, CGrid, nodes\n",
    "\n",
    "minx = 0.0\n",
    "maxx = 344.0\n",
    "steps = 345\n",
    "grid = UCGrid((minx, maxx, steps), (-1.0, 1.0, 10))\n",
    "grid"
   ]
  },
  {
   "cell_type": "code",
   "execution_count": null,
   "metadata": {},
   "outputs": [],
   "source": []
  }
 ],
 "metadata": {
  "kernelspec": {
   "display_name": "Python 3.10.4 ('specanalyserenv')",
   "language": "python",
   "name": "python3"
  },
  "language_info": {
   "codemirror_mode": {
    "name": "ipython",
    "version": 3
   },
   "file_extension": ".py",
   "mimetype": "text/x-python",
   "name": "python",
   "nbconvert_exporter": "python",
   "pygments_lexer": "ipython3",
   "version": "3.10.4"
  },
  "orig_nbformat": 4,
  "vscode": {
   "interpreter": {
    "hash": "01f3a50f1cec8b32686da9a100309d20236977f5c6d2fb4bd4818f1295405c21"
   }
  }
 },
 "nbformat": 4,
 "nbformat_minor": 2
}
