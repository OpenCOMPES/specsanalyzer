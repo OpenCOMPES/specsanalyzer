{
 "cells": [
  {
   "cell_type": "markdown",
   "metadata": {},
   "source": [
    "Test the behavious of the package when different modes are selects, and\n",
    "for different retardatio ratios"
   ]
  },
  {
   "cell_type": "code",
   "execution_count": 27,
   "metadata": {},
   "outputs": [
    {
     "name": "stdout",
     "output_type": "stream",
     "text": [
      "The autoreload extension is already loaded. To reload it, use:\n",
      "  %reload_ext autoreload\n"
     ]
    }
   ],
   "source": [
    "%load_ext autoreload\n",
    "%autoreload 2"
   ]
  },
  {
   "cell_type": "code",
   "execution_count": 28,
   "metadata": {},
   "outputs": [],
   "source": [
    "# testing WAM for various retardatio ratios\n",
    "\n",
    "# from importlib import reload\n",
    "import curses  ####  pip install windows-curses\n",
    "import matplotlib.pyplot as plt\n",
    "import xarray as xr\n",
    "import numpy as np\n",
    "\n",
    "import specsanalyzer\n",
    "\n",
    "# load the module and import functions for reading the parameter table from the calib2d file\n",
    "import specsanalyzer.convert\n",
    "\n",
    "# let's get all the functions to be tested\n",
    "from specsanalyzer import SpecsAnalyzer\n",
    "from specsanalyzer.convert import get_damatrix_fromcalib2d\n",
    "from specsanalyzer.convert import get_rr_da\n",
    "from specsanalyzer.convert import calculate_polynomial_coef_da\n",
    "from specsanalyzer.convert import mcp_position_mm\n",
    "from specsanalyzer.convert import calculate_matrix_correction\n",
    "\n",
    "\n",
    "spa = SpecsAnalyzer(config=\"../tests/data/dataEPFL/config/config.yaml\")\n",
    "config_dict = spa.config\n",
    "lens_mode = \"WideAngleMode\"\n",
    "kinetic_energy = 35.000000\n",
    "pass_energy = 35.000000\n",
    "work_function = 4.3\n",
    "binning = 4\n",
    "\n",
    "eshift = np.array(config_dict[\"calib2d_dict\"][\"eShift\"])\n",
    "\n",
    "aInner, damatrix = get_damatrix_fromcalib2d(\n",
    "    lens_mode,\n",
    "    kinetic_energy,\n",
    "    pass_energy,\n",
    "    work_function,\n",
    "    config_dict,\n",
    ")\n",
    "\n",
    "dapolymatrix = calculate_polynomial_coef_da(\n",
    "    damatrix, kinetic_energy, pass_energy, eshift\n",
    ")"
   ]
  },
  {
   "cell_type": "code",
   "execution_count": 29,
   "metadata": {},
   "outputs": [
    {
     "data": {
      "text/plain": [
       "False"
      ]
     },
     "execution_count": 29,
     "metadata": {},
     "output_type": "execute_result"
    }
   ],
   "source": [
    "# testing ..\n",
    "# check the behaviour for various lens modes\n",
    "lensmodes_angle = [\n",
    "    \"WideAngleMode\",\n",
    "    \"LowAngularDispersion\",\n",
    "    \"MediumAngularDispersion\",\n",
    "    \"HighAngularDispersion\",\n",
    "    \"WideAngleMode\",\n",
    "    \"SuperWideAngleMode\"\n",
    "]\n",
    "lensmodes_space =[\n",
    "    \"LargeArea\",\n",
    "    \"MediumArea\",\n",
    "    \"SmallArea\",\n",
    "    \"SmallArea2\",\n",
    "    \"HighMagnification2\",\n",
    "    \"HighMagnification\",\n",
    "    \"MediumMagnification\",\n",
    "    \"LowMagnification\"\n",
    "]\n",
    "\n",
    "# #print(lensmodes_angle)\n",
    "# #print(lensmodes_space)\n",
    "# #print()\n",
    "# print(config_dict.keys())\n",
    "# config_dict['calib2d_dict'].keys()\n",
    "# correctiondic=spa.correction_matrix_dict\n",
    "# correctiondic['supported_lens_modes']['lens_modes_angle']\n",
    "\n",
    "\n",
    "# from specsanalyzer.core import get_modes_from_calib_dict\n",
    "\n",
    "# lista,listb=get_modes_from_calib_dict(config_dict['calib2d_dict'])\n",
    "# lista\n",
    "\"WideAngleModel\" in lensmodes_angle"
   ]
  },
  {
   "cell_type": "code",
   "execution_count": 30,
   "metadata": {},
   "outputs": [],
   "source": [
    "def test_lens_raise():\n",
    "    error_lens_mode=\"WideAngleModel\"\n",
    "    expected_out=False\n",
    "    \n",
    "    \"\"\"Test if program raises suitable errors\"\"\"\n",
    "    raw_image_name = os.fspath(\n",
    "        f\"{test_dir}/data/dataEPFL/R9132/Data9132_RAWDATA.tsv\",\n",
    "    )\n",
    "    with open(raw_image_name) as file:  # pylint: disable=W1514\n",
    "        tsv_data = np.loadtxt(file, delimiter=\"\\t\")\n",
    "\n",
    "    configpath = os.fspath(f\"{test_dir}/data/dataEPFL/config/config.yaml\")\n",
    "    spa = SpecsAnalyzer(config=configpath)\n",
    "    kinetic_energy = 35.000000\n",
    "    pass_energy = 35.000000\n",
    "    work_function = 4.2\n",
    "\n",
    "    try:\n",
    "        converted = spa.convert_image(  # noqa: F841 # pylint: disable=W0612\n",
    "            raw_img=tsv_data,\n",
    "            lens_mode=error_lens_mode,\n",
    "            kinetic_energy=kinetic_energy,\n",
    "            pass_energy=pass_energy,\n",
    "            work_function=work_function,\n",
    "            apply_fft_filter=False,\n",
    "        )\n",
    "        test_result = True\n",
    "    except ValueError as error:\n",
    "        print(\"Found value error: \")\n",
    "        print(str(error))\n",
    "        test_result = False\n",
    "    except KeyError as error:\n",
    "        print(\"Found key error: \")\n",
    "        print(str(error))\n",
    "        test_result = False\n",
    "    assert test_result == expected_out"
   ]
  },
  {
   "cell_type": "code",
   "execution_count": 35,
   "metadata": {},
   "outputs": [
    {
     "name": "stdout",
     "output_type": "stream",
     "text": [
      "Found value error: \n",
      "Unsupported lens mode: WideAngleModel\n"
     ]
    }
   ],
   "source": [
    "test_dir=r\"C:\\Users\\Michele\\Documents\\GitHub\\vscode\\specsanalyzer\\tests\"\n",
    "test_lens_raise()"
   ]
  },
  {
   "cell_type": "code",
   "execution_count": 38,
   "metadata": {},
   "outputs": [],
   "source": [
    "def test_lens_raise2():\n",
    "    error_lens_mode=\"WideAngleModel\"\n",
    "    expected_out=\"Unsupported lens mode: WideAngleModel\"\n",
    "    \n",
    "    \"\"\"Test if program raises suitable errors\"\"\"\n",
    "    raw_image_name = os.fspath(\n",
    "        f\"{test_dir}/data/dataEPFL/R9132/Data9132_RAWDATA.tsv\",\n",
    "    )\n",
    "    with open(raw_image_name) as file:  # pylint: disable=W1514\n",
    "        tsv_data = np.loadtxt(file, delimiter=\"\\t\")\n",
    "\n",
    "    configpath = os.fspath(f\"{test_dir}/data/dataEPFL/config/config.yaml\")\n",
    "    spa = SpecsAnalyzer(config=configpath)\n",
    "    kinetic_energy = 35.000000\n",
    "    pass_energy = 35.000000\n",
    "    work_function = 4.2\n",
    "\n",
    "    try:\n",
    "        converted = spa.convert_image(  # noqa: F841 # pylint: disable=W0612\n",
    "            raw_img=tsv_data,\n",
    "            lens_mode=error_lens_mode,\n",
    "            kinetic_energy=kinetic_energy,\n",
    "            pass_energy=pass_energy,\n",
    "            work_function=work_function,\n",
    "            apply_fft_filter=False,\n",
    "        )\n",
    "        test_result = True\n",
    "    except ValueError as error:\n",
    "        print(\"Found value error: \")\n",
    "        print(str(error))\n",
    "        test_result = str(error)\n",
    "    assert test_result == expected_out"
   ]
  },
  {
   "cell_type": "code",
   "execution_count": 39,
   "metadata": {},
   "outputs": [
    {
     "name": "stdout",
     "output_type": "stream",
     "text": [
      "Found value error: \n",
      "Unsupported lens mode: WideAngleModel\n"
     ]
    }
   ],
   "source": [
    "test_lens_raise2()"
   ]
  }
 ],
 "metadata": {
  "kernelspec": {
   "display_name": "Python 3.10.4 ('specs')",
   "language": "python",
   "name": "python3"
  },
  "language_info": {
   "codemirror_mode": {
    "name": "ipython",
    "version": 3
   },
   "file_extension": ".py",
   "mimetype": "text/x-python",
   "name": "python",
   "nbconvert_exporter": "python",
   "pygments_lexer": "ipython3",
   "version": "3.10.4"
  },
  "orig_nbformat": 4,
  "vscode": {
   "interpreter": {
    "hash": "6428f06d96a6b01e77e140970230328301bc19fdc764d255e75f2cf3c24498d4"
   }
  }
 },
 "nbformat": 4,
 "nbformat_minor": 2
}
