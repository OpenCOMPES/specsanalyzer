{
 "cells": [
  {
   "cell_type": "code",
   "execution_count": null,
   "metadata": {},
   "outputs": [],
   "source": [
    "import matplotlib.pyplot as plt\n",
    "import numpy as np\n",
    "from importlib import reload\n",
    "import specsanalyzer.img_tools\n",
    "from specsanalyzer.img_tools import fourier_filter_2d\n",
    "\n",
    "reload(specsanalyzer.img_tools)\n",
    "%matplotlib widget"
   ]
  },
  {
   "cell_type": "code",
   "execution_count": null,
   "metadata": {},
   "outputs": [],
   "source": [
    "import os\n",
    "import pandas as pd\n",
    "print(os.fspath('./tests/data/dataFHI/Scan1232.tsv'))\n",
    "\n",
    "with open(\"../tests/data/dataFHI/Scan1232.tsv\") as file:\n",
    "    tsv_data = np.loadtxt(file, delimiter=\"\\t\")\n",
    "\n",
    "plt.figure()\n",
    "plt.imshow(tsv_data)"
   ]
  },
  {
   "cell_type": "code",
   "execution_count": null,
   "metadata": {},
   "outputs": [],
   "source": [
    "peaks = []\n",
    "peaks.append(\n",
    "    {\n",
    "        \"pos_x\": 79,\n",
    "        \"pos_y\": 0,\n",
    "        \"sigma_x\": 8,\n",
    "        \"sigma_y\": 8,\n",
    "        \"amplitude\": 1,\n",
    "    }\n",
    ")\n",
    "peaks.append(\n",
    "    {\n",
    "        \"pos_x\": 176,\n",
    "        \"pos_y\": 0,\n",
    "        \"sigma_x\": 8,\n",
    "        \"sigma_y\": 8,\n",
    "        \"amplitude\": 1,\n",
    "    }\n",
    ")\n",
    "peaks.append(\n",
    "    {\n",
    "        \"pos_x\": 0,\n",
    "        \"pos_y\": 109,\n",
    "        \"sigma_x\": 5,\n",
    "        \"sigma_y\": 8,\n",
    "        \"amplitude\": 1,\n",
    "    }\n",
    ")\n",
    "peaks.append(\n",
    "    {\n",
    "        \"pos_x\": 78,\n",
    "        \"pos_y\": 109,\n",
    "        \"sigma_x\": 5,\n",
    "        \"sigma_y\": 5,\n",
    "        \"amplitude\": 1,\n",
    "    }\n",
    ")\n",
    "peaks.append(\n",
    "    {\n",
    "        \"pos_x\": 175,\n",
    "        \"pos_y\": 108,\n",
    "        \"sigma_x\": 5,\n",
    "        \"sigma_y\": 5,\n",
    "        \"amplitude\": 1,\n",
    "    }\n",
    ")\n",
    "peaks.append(\n",
    "    {\n",
    "        \"pos_x\": 254,\n",
    "        \"pos_y\": 109,\n",
    "        \"sigma_x\": 5,\n",
    "        \"sigma_y\": 8,\n",
    "        \"amplitude\": 1,\n",
    "    }\n",
    ")\n",
    "peaks"
   ]
  },
  {
   "cell_type": "code",
   "execution_count": null,
   "metadata": {},
   "outputs": [],
   "source": [
    "fft = fourier_filter_2d(tsv_data, peaks, ret=\"fft\")\n",
    "plt.figure()\n",
    "plt.imshow(np.abs(fft[0:350, 0:180]), vmax=3000000)"
   ]
  },
  {
   "cell_type": "code",
   "execution_count": null,
   "metadata": {},
   "outputs": [],
   "source": [
    "mask = fourier_filter_2d(tsv_data, peaks, ret=\"mask\")\n",
    "plt.figure()\n",
    "plt.imshow(np.abs(mask[0:350, 0:180]), vmax=1)\n",
    "plt.colorbar()\n",
    "plt.show()"
   ]
  },
  {
   "cell_type": "code",
   "execution_count": null,
   "metadata": {},
   "outputs": [],
   "source": [
    "filtered_fft = fourier_filter_2d(tsv_data, peaks, ret=\"filtered_fft\")\n",
    "plt.figure()\n",
    "plt.imshow(np.abs(filtered_fft[0:350, 0:180]), vmax=1000000)\n",
    "plt.colorbar()\n",
    "plt.show()"
   ]
  },
  {
   "cell_type": "code",
   "execution_count": null,
   "metadata": {},
   "outputs": [],
   "source": [
    "filtered = fourier_filter_2d(tsv_data, peaks)\n",
    "plt.figure()\n",
    "plt.imshow(filtered)\n",
    "plt.colorbar()\n",
    "plt.show()"
   ]
  },
  {
   "cell_type": "code",
   "execution_count": null,
   "metadata": {},
   "outputs": [],
   "source": []
  }
 ],
 "metadata": {
  "kernelspec": {
   "display_name": "Python 3.10.6 ('spec')",
   "language": "python",
   "name": "python3"
  },
  "language_info": {
   "codemirror_mode": {
    "name": "ipython",
    "version": 3
   },
   "file_extension": ".py",
   "mimetype": "text/x-python",
   "name": "python",
   "nbconvert_exporter": "python",
   "pygments_lexer": "ipython3",
   "version": "3.10.6"
  },
  "orig_nbformat": 4,
  "vscode": {
   "interpreter": {
    "hash": "639bc943a9d07b8441ed5a258c1a327e89ed7bc8be9e47684ee754dc72bde1ae"
   }
  }
 },
 "nbformat": 4,
 "nbformat_minor": 2
}
