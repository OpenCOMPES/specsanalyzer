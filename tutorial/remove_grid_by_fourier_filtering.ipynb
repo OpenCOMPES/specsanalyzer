{
 "cells": [
  {
   "cell_type": "code",
   "execution_count": null,
   "metadata": {},
   "outputs": [],
   "source": [
    "import matplotlib.pyplot as plt\n",
    "import numpy as np\n",
    "from importlib import reload\n",
    "import specsanalyzer.img_tools\n",
    "from specsanalyzer.img_tools import fourier_filter_2D\n",
    "\n",
    "reload(specsanalyzer.img_tools)\n",
    "%matplotlib widget"
   ]
  },
  {
   "cell_type": "code",
   "execution_count": null,
   "metadata": {},
   "outputs": [],
   "source": [
    "import pandas as pd\n",
    "\n",
    "tsv_data = pd.read_csv(\"../tests/data/Scan1496_034.tsv\", sep=\"\\t\")\n",
    "plt.figure()\n",
    "plt.imshow(tsv_data)"
   ]
  },
  {
   "cell_type": "code",
   "execution_count": null,
   "metadata": {},
   "outputs": [],
   "source": [
    "peaks = []\n",
    "peaks.append({\"pos_x\": 79, \"pos_y\": 0, \"sigma_x\": 8, \"sigma_y\": 8, \"amplitude\": 1})\n",
    "peaks.append({\"pos_x\": 176, \"pos_y\": 0, \"sigma_x\": 8, \"sigma_y\": 8, \"amplitude\": 1})\n",
    "peaks.append({\"pos_x\": 0, \"pos_y\": 109, \"sigma_x\": 5, \"sigma_y\": 8, \"amplitude\": 1})\n",
    "peaks.append({\"pos_x\": 78, \"pos_y\": 109, \"sigma_x\": 5, \"sigma_y\": 5, \"amplitude\": 1})\n",
    "peaks.append({\"pos_x\": 175, \"pos_y\": 108, \"sigma_x\": 5, \"sigma_y\": 5, \"amplitude\": 1})\n",
    "peaks.append({\"pos_x\": 254, \"pos_y\": 109, \"sigma_x\": 5, \"sigma_y\": 8, \"amplitude\": 1})\n",
    "peaks"
   ]
  },
  {
   "cell_type": "code",
   "execution_count": null,
   "metadata": {},
   "outputs": [],
   "source": [
    "fft = fourier_filter_2D(tsv_data, peaks, ret=\"fft\")\n",
    "plt.figure()\n",
    "plt.imshow(np.abs(fft[0:350, 0:180]), vmax=3000000)"
   ]
  },
  {
   "cell_type": "code",
   "execution_count": null,
   "metadata": {},
   "outputs": [],
   "source": [
    "mask = fourier_filter_2D(tsv_data, peaks, ret=\"mask\")\n",
    "plt.figure()\n",
    "plt.imshow(np.abs(mask[0:350, 0:180]), vmax=1)\n",
    "plt.colorbar()\n",
    "plt.show()"
   ]
  },
  {
   "cell_type": "code",
   "execution_count": null,
   "metadata": {},
   "outputs": [],
   "source": [
    "filtered_fft = fourier_filter_2D(tsv_data, peaks, ret=\"filtered_fft\")\n",
    "plt.figure()\n",
    "plt.imshow(np.abs(filtered_fft[0:350, 0:180]), vmax=1000000)\n",
    "plt.colorbar()\n",
    "plt.show()"
   ]
  },
  {
   "cell_type": "code",
   "execution_count": null,
   "metadata": {},
   "outputs": [],
   "source": [
    "filtered = fourier_filter_2D(tsv_data, peaks)\n",
    "plt.figure()\n",
    "plt.imshow(filtered)\n",
    "plt.colorbar()\n",
    "plt.show()"
   ]
  },
  {
   "cell_type": "code",
   "execution_count": null,
   "metadata": {},
   "outputs": [],
   "source": []
  }
 ],
 "metadata": {
  "kernelspec": {
   "display_name": "Python 3.10.4 ('specanalyserenv')",
   "language": "python",
   "name": "python3"
  },
  "language_info": {
   "codemirror_mode": {
    "name": "ipython",
    "version": 3
   },
   "file_extension": ".py",
   "mimetype": "text/x-python",
   "name": "python",
   "nbconvert_exporter": "python",
   "pygments_lexer": "ipython3",
   "version": "3.10.4"
  },
  "orig_nbformat": 4,
  "vscode": {
   "interpreter": {
    "hash": "01f3a50f1cec8b32686da9a100309d20236977f5c6d2fb4bd4818f1295405c21"
   }
  }
 },
 "nbformat": 4,
 "nbformat_minor": 2
}
