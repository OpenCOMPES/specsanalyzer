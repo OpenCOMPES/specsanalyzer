{
 "cells": [
  {
   "cell_type": "code",
   "execution_count": 1,
   "metadata": {},
   "outputs": [],
   "source": [
    "#two operations have to be done\n",
    "\n",
    "\n",
    "#1) interpolation\n",
    "\n",
    "# IGOR interp2d definition\n",
    "# The Interp2D function returns a double precision \n",
    "# number as the bilinear interpolation value at the\n",
    "#  specified coordinates of the source wave.\n",
    "#  It returns NaN if the point is outside \n",
    "# the source wave domain or if the source wave is complex.\n",
    "# \n",
    "# from this we should update our function to do bilinear interpolation\n",
    "# There should be no nan values at this stage.. how to fill empty points? \n",
    "#  \n",
    " \n",
    "\n",
    "\n",
    "\n",
    "\n",
    "\n",
    "#2) jacobian\n",
    "\n",
    "# one could try to use the jax package on the mcp_position_mm_matrix funciton\n",
    "# or better on the angular_correction_matrix, but this is just\n",
    "\n",
    "\n",
    "#possible packages jax\n",
    "\n",
    "#scipy.ndimage.map_coordinates\n",
    "\n",
    "#https://docs.xarray.dev/en/stable/user-guide/interpolation.html"
   ]
  }
 ],
 "metadata": {
  "kernelspec": {
   "display_name": "Python 3.10.4 ('specanalyserenv')",
   "language": "python",
   "name": "python3"
  },
  "language_info": {
   "codemirror_mode": {
    "name": "ipython",
    "version": 3
   },
   "file_extension": ".py",
   "mimetype": "text/x-python",
   "name": "python",
   "nbconvert_exporter": "python",
   "pygments_lexer": "ipython3",
   "version": "3.10.4"
  },
  "orig_nbformat": 4,
  "vscode": {
   "interpreter": {
    "hash": "01f3a50f1cec8b32686da9a100309d20236977f5c6d2fb4bd4818f1295405c21"
   }
  }
 },
 "nbformat": 4,
 "nbformat_minor": 2
}
