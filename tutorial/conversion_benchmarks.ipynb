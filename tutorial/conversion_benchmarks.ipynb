{
 "cells": [
  {
   "cell_type": "code",
   "execution_count": 1,
   "metadata": {},
   "outputs": [],
   "source": [
    "%load_ext autoreload\n",
    "%autoreload 2"
   ]
  },
  {
   "cell_type": "code",
   "execution_count": 2,
   "metadata": {},
   "outputs": [
    {
     "ename": "SyntaxError",
     "evalue": "invalid syntax (convert.py, line 432)",
     "output_type": "error",
     "traceback": [
      "Traceback \u001b[0;36m(most recent call last)\u001b[0m:\n",
      "  File \u001b[1;32m~/opt/anaconda3/envs/spec/lib/python3.10/site-packages/IPython/core/interactiveshell.py:3398\u001b[0m in \u001b[1;35mrun_code\u001b[0m\n    exec(code_obj, self.user_global_ns, self.user_ns)\n",
      "  Input \u001b[1;32mIn [2]\u001b[0m in \u001b[1;35m<cell line: 6>\u001b[0m\n    import specsanalyzer\n",
      "  File \u001b[1;32m~/Documents/GitHub/specsanalyzer/specsanalyzer/__init__.py:5\u001b[0m in \u001b[1;35m<module>\u001b[0m\n    from .core import SpecsAnalyzer\n",
      "\u001b[0;36m  File \u001b[0;32m~/Documents/GitHub/specsanalyzer/specsanalyzer/core.py:16\u001b[0;36m in \u001b[0;35m<module>\u001b[0;36m\u001b[0m\n\u001b[0;31m    from specsanalyzer.convert import calculate_matrix_correction\u001b[0m\n",
      "\u001b[0;36m  File \u001b[0;32m~/Documents/GitHub/specsanalyzer/specsanalyzer/convert.py:432\u001b[0;36m\u001b[0m\n\u001b[0;31m    <<<<<<< HEAD\u001b[0m\n\u001b[0m    ^\u001b[0m\n\u001b[0;31mSyntaxError\u001b[0m\u001b[0;31m:\u001b[0m invalid syntax\n"
     ]
    }
   ],
   "source": [
    "# from importlib import reload\n",
    "import curses  ####  pip install windows-curses\n",
    "import matplotlib.pyplot as plt\n",
    "import xarray as xr\n",
    "import numpy as np\n",
    "import specsanalyzer\n",
    "from specsanalyzer import SpecsAnalyzer"
   ]
  },
  {
   "cell_type": "code",
   "execution_count": null,
   "metadata": {},
   "outputs": [],
   "source": [
    "# reload(specsanalyzer)\n",
    "spa = SpecsAnalyzer()"
   ]
  },
  {
   "cell_type": "code",
   "execution_count": null,
   "metadata": {},
   "outputs": [],
   "source": [
    "with open(\"../tests/data/dataEPFL/R9132/Data9132_RAWDATA.tsv\") as file:\n",
    "    tsv_data = np.loadtxt(file, delimiter=\"\\t\")\n",
    "plt.figure()\n",
    "plt.imshow(tsv_data)"
   ]
  },
  {
   "cell_type": "code",
   "execution_count": null,
   "metadata": {},
   "outputs": [],
   "source": [
    "# Testing convert and crop on the imported data\n",
    "spa = SpecsAnalyzer(config=\"../tests/data/dataEPFL/config/config.yaml\")\n",
    "\n",
    "lens_mode = \"WideAngleMode\"\n",
    "kinetic_energy = 35.0\n",
    "pass_energy = 35.0\n",
    "work_function = 4.2\n",
    "\n",
    "res_xarray = spa.convert_image(\n",
    "    tsv_data, lens_mode, kinetic_energy, pass_energy, work_function\n",
    ")\n",
    "plt.figure()\n",
    "res_xarray.plot(cmap=\"viridis\", vmin=0)\n",
    "res_xarray.to_numpy().shape"
   ]
  },
  {
   "cell_type": "code",
   "execution_count": null,
   "metadata": {},
   "outputs": [],
   "source": [
    "with open(\"../tests/data/dataEPFL/R9132/Data9132_IGOR_corrected.tsv\") as file:\n",
    "    ref_data = np.loadtxt(file, delimiter=\"\\t\")\n",
    "    ref_data = ref_data\n",
    "\n",
    "import specsanalyzer.convert\n",
    "from specsanalyzer.convert import get_damatrix_fromcalib2d\n",
    "from specsanalyzer.convert import get_rr_da\n",
    "from specsanalyzer.convert import calculate_polynomial_coef_da\n",
    "from specsanalyzer.convert import mcp_position_mm\n",
    "from specsanalyzer.convert import calculate_matrix_correction\n",
    "\n",
    "spa = SpecsAnalyzer(config=\"../tests/data/dataEPFL/config/config.yaml\")\n",
    "config_dict = spa.config\n",
    "lens_mode = \"WideAngleMode\"\n",
    "kinetic_energy = 35\n",
    "pass_energy = 35\n",
    "work_function = 4.3\n",
    "binning = 4\n",
    "\n",
    "(\n",
    "    ek_axis,\n",
    "    angle_axis,\n",
    "    angular_correction_matrix,\n",
    "    e_correction,\n",
    "    jacobian_determinant,\n",
    ") = calculate_matrix_correction(\n",
    "    lens_mode,\n",
    "    kinetic_energy,\n",
    "    pass_energy,\n",
    "    work_function,\n",
    "    binning,\n",
    "    config_dict,\n",
    ")"
   ]
  },
  {
   "cell_type": "code",
   "execution_count": null,
   "metadata": {},
   "outputs": [],
   "source": [
    "# this test would not work in the case of upsampling in python..\n",
    "\n",
    "\n",
    "ref_xarray = xr.DataArray(\n",
    "    data=ref_data,\n",
    "    coords={\"Angle\": angle_axis, \"Ekin\": ek_axis},\n",
    "    dims=[\"Angle\", \"Ekin\"],\n",
    ")\n",
    "plt.figure()\n",
    "ref_xarray.plot()"
   ]
  },
  {
   "cell_type": "code",
   "execution_count": null,
   "metadata": {},
   "outputs": [],
   "source": [
    "# calcualte the difference xarray, normalized to the ref pixelwise intensity\n",
    "ff_xarray = (res_xarray - ref_xarray) / ref_xarray"
   ]
  },
  {
   "cell_type": "code",
   "execution_count": null,
   "metadata": {},
   "outputs": [],
   "source": [
    "plt.figure()\n",
    "ff_xarray.plot(cmap=\"RdBu_r\", vmax=1e-3)\n",
    "plt.title(\"Difference/Mean pixel intensity\")"
   ]
  },
  {
   "cell_type": "code",
   "execution_count": null,
   "metadata": {},
   "outputs": [],
   "source": [
    "fig, (ax1, ax2, ax3) = plt.subplots(nrows=3, ncols=1, figsize=(4, 8))\n",
    "subplot1 = ref_xarray.plot(ax=ax1, cmap=\"viridis\", vmin=0)\n",
    "subplot2 = res_xarray.plot(ax=ax2, cmap=\"viridis\", vmin=0)\n",
    "subplot3 = ff_xarray.plot(cmap=\"RdBu_r\", ax=ax3, vmax=100)\n",
    "plt.tight_layout()"
   ]
  },
  {
   "cell_type": "code",
   "execution_count": null,
   "metadata": {},
   "outputs": [],
   "source": [
    "%timeit res_xarray = spa.convert_image(tsv_data, lens_mode, kinetic_energy, pass_energy, work_function)"
   ]
  },
  {
   "cell_type": "code",
   "execution_count": null,
   "metadata": {},
   "outputs": [],
   "source": [
    "%%timeit\n",
    "convert1 = specsanalyzer.convert.physical_unit_data(\n",
    "    tsv_data,\n",
    "    angular_correction_matrix,\n",
    "    e_correction,\n",
    "    jacobian_determinant,\n",
    ")"
   ]
  },
  {
   "cell_type": "code",
   "execution_count": null,
   "metadata": {},
   "outputs": [],
   "source": [
    "config_dict = spa.config\n",
    "# config_dict['calib2d_dict']['old_scans_params']\n",
    "config_dict.keys()"
   ]
  },
  {
   "cell_type": "code",
   "execution_count": null,
   "metadata": {},
   "outputs": [],
   "source": [
    "matrix_dict = spa.correction_matrix_dict\n",
    "matrix_dict.keys()"
   ]
  },
  {
   "cell_type": "code",
   "execution_count": null,
   "metadata": {},
   "outputs": [],
   "source": [
    "spa = SpecsAnalyzer(config=\"../tests/data/dataEPFL/config/config.yaml\")\n",
    "config_dict = spa.config\n",
    "lens_mode = \"WideAngleMode\"\n",
    "kinetic_energy = 35\n",
    "pass_energy = 35\n",
    "work_function = 4.3\n",
    "binning = 4\n",
    "res_xarray = spa.convert_image(\n",
    "    tsv_data, lens_mode, kinetic_energy, pass_energy, work_function\n",
    ")\n",
    "kinetic_energy = 30\n",
    "pass_energy = 35\n",
    "work_function = 4.3\n",
    "binning = 4\n",
    "res_xarray = spa.convert_image(\n",
    "    tsv_data, lens_mode, kinetic_energy, pass_energy, work_function\n",
    ")"
   ]
  },
  {
   "cell_type": "code",
   "execution_count": null,
   "metadata": {},
   "outputs": [],
   "source": [
    "matrix_dict = spa.correction_matrix_dict\n",
    "matrix_dict.keys()"
   ]
  },
  {
   "cell_type": "code",
   "execution_count": null,
   "metadata": {},
   "outputs": [],
   "source": [
    "matrix_dict[\"WideAngleMode\"].keys()"
   ]
  },
  {
   "cell_type": "code",
   "execution_count": null,
   "metadata": {},
   "outputs": [],
   "source": []
  }
 ],
 "metadata": {
  "kernelspec": {
   "display_name": "Python 3.10.6 ('spec')",
   "language": "python",
   "name": "python3"
  },
  "language_info": {
   "codemirror_mode": {
    "name": "ipython",
    "version": 3
   },
   "file_extension": ".py",
   "mimetype": "text/x-python",
   "name": "python",
   "nbconvert_exporter": "python",
   "pygments_lexer": "ipython3",
   "version": "3.10.6"
  },
  "orig_nbformat": 4,
  "vscode": {
   "interpreter": {
    "hash": "639bc943a9d07b8441ed5a258c1a327e89ed7bc8be9e47684ee754dc72bde1ae"
   }
  }
 },
 "nbformat": 4,
 "nbformat_minor": 2
}
